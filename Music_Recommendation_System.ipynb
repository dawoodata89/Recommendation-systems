{
  "cells": [
    {
      "cell_type": "markdown",
      "metadata": {
        "id": "DyAjEw4OHmDb"
      },
      "source": [
        "# **Music Recommendation System**"
      ]
    },
    {
      "cell_type": "markdown",
      "source": [
        "## **Problem Definition**\n",
        "\n",
        "### **The Context:**\n",
        "\n",
        " The music industry has grown exponentially in the last decade due to access to technologies like youtube music, spotify, soundcloud etc. All these music streaming platforms have numerous options of music/songs for the listeners/users to listen from. This can cause the listener/user to be in a difficult situation of choosing which kind of music to listen to or which particular playlist or songs to listen to.\n",
        " Moreover, these platforms need to keep their users engaged using variety of techniques.\n",
        "\n",
        "Hence, providing recommendations to the users regarding music/songs based on different data science techniques can help these music platforms make their users' lives easier in choosing what to play or listen to. This can also keep the users engaged on a regular basis and earn the platforms revenue.\n",
        "### **The objective:**\n",
        "\n",
        "The dataset has a collection of users and songs, play count and their titles and artists. Based on this information, we need to build recommendation system to users regarding which songs they should listen to.\n",
        "\n",
        "### **The key questions:**\n",
        "\n",
        "1. Which songs will a particular user want to listen to based on their preferences?\n",
        "2. Which songs are similar based on their title, artist, and release?\n",
        "3. Which users are similar based on the frequency of the songs they listen to.\n",
        "4. Which songs are similar based on the frequency that they have been played?\n",
        "\n",
        "### **The problem formulation**:\n",
        "\n",
        "- What is it that we are trying to solve using data science?\n",
        "\n",
        "We are trying to solve a problem of making recommendations of relevant songs to users based on their preferences and similarities to other users so that they can keep engaged with the platform."
      ],
      "metadata": {
        "id": "FMCaC7Q_tq1m"
      }
    },
    {
      "cell_type": "markdown",
      "metadata": {
        "id": "BVUiyhYTHS1t"
      },
      "source": [
        "## **Data Dictionary**\n",
        "\n",
        "The core data is the Taste Profile Subset released by the Echo Nest as part of the Million Song Dataset. There are two files in this dataset. The first file contains the details about the song id, titles, release, artist name, and the year of release. The second file contains the user id, song id, and the play count of users.\n",
        "\n",
        "song_data\n",
        "\n",
        "song_id - A unique id given to every song\n",
        "\n",
        "title - Title of the song\n",
        "\n",
        "Release - Name of the released album\n",
        "\n",
        "Artist_name - Name of the artist\n",
        "\n",
        "year - Year of release\n",
        "\n",
        "count_data\n",
        "\n",
        "user _id - A unique id given to the user\n",
        "\n",
        "song_id - A unique id given to the song\n",
        "\n",
        "play_count - Number of times the song was played\n",
        "\n",
        "## **Data Source**\n",
        "http://millionsongdataset.com/"
      ]
    },
    {
      "cell_type": "markdown",
      "metadata": {
        "id": "entENKtxK-g-"
      },
      ]
    },
    {
      "cell_type": "code",
      "execution_count": 4,
      "metadata": {
        "colab": {
          "base_uri": "https://localhost:8080/"
        },
        "id": "6SRzOPXI2Efn",
        "outputId": "183d0dd3-6687-4131-b926-ea2d88f16332"
      },
      "outputs": [
        {
          "output_type": "stream",
          "name": "stdout",
          "text": [
            "Mounted at /content/drive\n"
          ]
        }
      ],
      "source": [
        "# Mounting the drive\n",
        "from google.colab import drive\n",
        "drive.mount('/content/drive')"
      ]
    },
    {
      "cell_type": "code",
      "execution_count": 5,
      "metadata": {
        "id": "R4YvKrpzId3K"
      },
      "outputs": [],
      "source": [
        "# Used to ignore the warning given as output of the code\n",
        "import warnings\n",
        "warnings.filterwarnings('ignore')\n",
        "\n",
        "# Basic libraries of python for numeric and dataframe computations\n",
        "import numpy as np\n",
        "import pandas as pd\n",
        "\n",
        "# Basic library for data visualization\n",
        "import matplotlib.pyplot as plt\n",
        "\n",
        "# Slightly advanced library for data visualization\n",
        "import seaborn as sns\n",
        "\n",
        "# To compute the cosine similarity between two vectors\n",
        "from sklearn.metrics.pairwise import cosine_similarity\n",
        "\n",
        "# A dictionary output that does not raise a key error\n",
        "from collections import defaultdict\n",
        "\n",
        "# A performance metrics in sklearn\n",
        "from sklearn.metrics import mean_squared_error"
      ]
    },
    {
      "cell_type": "markdown",
      "metadata": {
        "id": "bUGKX140wf-S"
      },
      "source": [
        "### **Load the dataset**"
      ]
    },
    {
      "cell_type": "code",
      "execution_count": 6,
      "metadata": {
        "id": "si6ulhIYImck"
      },
      "outputs": [],
      "source": [
        "# Importing the datasets\n",
        "count_df = pd.read_csv('/content/drive/MyDrive/count_data.csv')\n",
        "song_df = pd.read_csv('/content/drive/MyDrive/song_data.csv')"
      ]
    },
    {
      "cell_type": "markdown",
      "metadata": {
        "id": "12TKB2M7XyC6"
      },
      "source": [
        "### **Understanding the data by viewing a few observations**"
      ]
    },
    {
      "cell_type": "code",
      "execution_count": 7,
      "metadata": {
        "id": "GCLzBuYiXlPM",
        "colab": {
          "base_uri": "https://localhost:8080/",
          "height": 363
        },
        "outputId": "2feb800c-d28c-4be6-fbd7-e875445f4f88"
      },
      "outputs": [
        {
          "output_type": "execute_result",
          "data": {
            "text/plain": [
              "   Unnamed: 0                                   user_id             song_id  \\\n",
              "0           0  b80344d063b5ccb3212f76538f3d9e43d87dca9e  SOAKIMP12A8C130995   \n",
              "1           1  b80344d063b5ccb3212f76538f3d9e43d87dca9e  SOBBMDR12A8C13253B   \n",
              "2           2  b80344d063b5ccb3212f76538f3d9e43d87dca9e  SOBXHDL12A81C204C0   \n",
              "3           3  b80344d063b5ccb3212f76538f3d9e43d87dca9e  SOBYHAJ12A6701BF1D   \n",
              "4           4  b80344d063b5ccb3212f76538f3d9e43d87dca9e  SODACBL12A8C13C273   \n",
              "5           5  b80344d063b5ccb3212f76538f3d9e43d87dca9e  SODDNQT12A6D4F5F7E   \n",
              "6           6  b80344d063b5ccb3212f76538f3d9e43d87dca9e  SODXRTY12AB0180F3B   \n",
              "7           7  b80344d063b5ccb3212f76538f3d9e43d87dca9e  SOFGUAY12AB017B0A8   \n",
              "8           8  b80344d063b5ccb3212f76538f3d9e43d87dca9e  SOFRQTD12A81C233C0   \n",
              "9           9  b80344d063b5ccb3212f76538f3d9e43d87dca9e  SOHQWYZ12A6D4FA701   \n",
              "\n",
              "   play_count  \n",
              "0           1  \n",
              "1           2  \n",
              "2           1  \n",
              "3           1  \n",
              "4           1  \n",
              "5           5  \n",
              "6           1  \n",
              "7           1  \n",
              "8           1  \n",
              "9           1  "
            ],
            "text/html": [
              "\n",
              "  <div id=\"df-3e93d1ee-ae20-4363-94b2-c7b1882489e1\" class=\"colab-df-container\">\n",
              "    <div>\n",
              "<style scoped>\n",
              "    .dataframe tbody tr th:only-of-type {\n",
              "        vertical-align: middle;\n",
              "    }\n",
              "\n",
              "    .dataframe tbody tr th {\n",
              "        vertical-align: top;\n",
              "    }\n",
              "\n",
              "    .dataframe thead th {\n",
              "        text-align: right;\n",
              "    }\n",
              "</style>\n",
              "<table border=\"1\" class=\"dataframe\">\n",
              "  <thead>\n",
              "    <tr style=\"text-align: right;\">\n",
              "      <th></th>\n",
              "      <th>Unnamed: 0</th>\n",
              "      <th>user_id</th>\n",
              "      <th>song_id</th>\n",
              "      <th>play_count</th>\n",
              "    </tr>\n",
              "  </thead>\n",
              "  <tbody>\n",
              "    <tr>\n",
              "      <th>0</th>\n",
              "      <td>0</td>\n",
              "      <td>b80344d063b5ccb3212f76538f3d9e43d87dca9e</td>\n",
              "      <td>SOAKIMP12A8C130995</td>\n",
              "      <td>1</td>\n",
              "    </tr>\n",
              "    <tr>\n",
              "      <th>1</th>\n",
              "      <td>1</td>\n",
              "      <td>b80344d063b5ccb3212f76538f3d9e43d87dca9e</td>\n",
              "      <td>SOBBMDR12A8C13253B</td>\n",
              "      <td>2</td>\n",
              "    </tr>\n",
              "    <tr>\n",
              "      <th>2</th>\n",
              "      <td>2</td>\n",
              "      <td>b80344d063b5ccb3212f76538f3d9e43d87dca9e</td>\n",
              "      <td>SOBXHDL12A81C204C0</td>\n",
              "      <td>1</td>\n",
              "    </tr>\n",
              "    <tr>\n",
              "      <th>3</th>\n",
              "      <td>3</td>\n",
              "      <td>b80344d063b5ccb3212f76538f3d9e43d87dca9e</td>\n",
              "      <td>SOBYHAJ12A6701BF1D</td>\n",
              "      <td>1</td>\n",
              "    </tr>\n",
              "    <tr>\n",
              "      <th>4</th>\n",
              "      <td>4</td>\n",
              "      <td>b80344d063b5ccb3212f76538f3d9e43d87dca9e</td>\n",
              "      <td>SODACBL12A8C13C273</td>\n",
              "      <td>1</td>\n",
              "    </tr>\n",
              "    <tr>\n",
              "      <th>5</th>\n",
              "      <td>5</td>\n",
              "      <td>b80344d063b5ccb3212f76538f3d9e43d87dca9e</td>\n",
              "      <td>SODDNQT12A6D4F5F7E</td>\n",
              "      <td>5</td>\n",
              "    </tr>\n",
              "    <tr>\n",
              "      <th>6</th>\n",
              "      <td>6</td>\n",
              "      <td>b80344d063b5ccb3212f76538f3d9e43d87dca9e</td>\n",
              "      <td>SODXRTY12AB0180F3B</td>\n",
              "      <td>1</td>\n",
              "    </tr>\n",
              "    <tr>\n",
              "      <th>7</th>\n",
              "      <td>7</td>\n",
              "      <td>b80344d063b5ccb3212f76538f3d9e43d87dca9e</td>\n",
              "      <td>SOFGUAY12AB017B0A8</td>\n",
              "      <td>1</td>\n",
              "    </tr>\n",
              "    <tr>\n",
              "      <th>8</th>\n",
              "      <td>8</td>\n",
              "      <td>b80344d063b5ccb3212f76538f3d9e43d87dca9e</td>\n",
              "      <td>SOFRQTD12A81C233C0</td>\n",
              "      <td>1</td>\n",
              "    </tr>\n",
              "    <tr>\n",
              "      <th>9</th>\n",
              "      <td>9</td>\n",
              "      <td>b80344d063b5ccb3212f76538f3d9e43d87dca9e</td>\n",
              "      <td>SOHQWYZ12A6D4FA701</td>\n",
              "      <td>1</td>\n",
              "    </tr>\n",
              "  </tbody>\n",
              "</table>\n",
              "</div>\n",
              "    <div class=\"colab-df-buttons\">\n",
              "\n",
              "  <div class=\"colab-df-container\">\n",
              "    <button class=\"colab-df-convert\" onclick=\"convertToInteractive('df-3e93d1ee-ae20-4363-94b2-c7b1882489e1')\"\n",
              "            title=\"Convert this dataframe to an interactive table.\"\n",
              "            style=\"display:none;\">\n",
              "\n",
              "  <svg xmlns=\"http://www.w3.org/2000/svg\" height=\"24px\" viewBox=\"0 -960 960 960\">\n",
              "    <path d=\"M120-120v-720h720v720H120Zm60-500h600v-160H180v160Zm220 220h160v-160H400v160Zm0 220h160v-160H400v160ZM180-400h160v-160H180v160Zm440 0h160v-160H620v160ZM180-180h160v-160H180v160Zm440 0h160v-160H620v160Z\"/>\n",
              "  </svg>\n",
              "    </button>\n",
              "\n",
              "  <style>\n",
              "    .colab-df-container {\n",
              "      display:flex;\n",
              "      gap: 12px;\n",
              "    }\n",
              "\n",
              "    .colab-df-convert {\n",
              "      background-color: #E8F0FE;\n",
              "      border: none;\n",
              "      border-radius: 50%;\n",
              "      cursor: pointer;\n",
              "      display: none;\n",
              "      fill: #1967D2;\n",
              "      height: 32px;\n",
              "      padding: 0 0 0 0;\n",
              "      width: 32px;\n",
              "    }\n",
              "\n",
              "    .colab-df-convert:hover {\n",
              "      background-color: #E2EBFA;\n",
              "      box-shadow: 0px 1px 2px rgba(60, 64, 67, 0.3), 0px 1px 3px 1px rgba(60, 64, 67, 0.15);\n",
              "      fill: #174EA6;\n",
              "    }\n",
              "\n",
              "    .colab-df-buttons div {\n",
              "      margin-bottom: 4px;\n",
              "    }\n",
              "\n",
              "    [theme=dark] .colab-df-convert {\n",
              "      background-color: #3B4455;\n",
              "      fill: #D2E3FC;\n",
              "    }\n",
              "\n",
              "    [theme=dark] .colab-df-convert:hover {\n",
              "      background-color: #434B5C;\n",
              "      box-shadow: 0px 1px 3px 1px rgba(0, 0, 0, 0.15);\n",
              "      filter: drop-shadow(0px 1px 2px rgba(0, 0, 0, 0.3));\n",
              "      fill: #FFFFFF;\n",
              "    }\n",
              "  </style>\n",
              "\n",
              "    <script>\n",
              "      const buttonEl =\n",
              "        document.querySelector('#df-3e93d1ee-ae20-4363-94b2-c7b1882489e1 button.colab-df-convert');\n",
              "      buttonEl.style.display =\n",
              "        google.colab.kernel.accessAllowed ? 'block' : 'none';\n",
              "\n",
              "      async function convertToInteractive(key) {\n",
              "        const element = document.querySelector('#df-3e93d1ee-ae20-4363-94b2-c7b1882489e1');\n",
              "        const dataTable =\n",
              "          await google.colab.kernel.invokeFunction('convertToInteractive',\n",
              "                                                    [key], {});\n",
              "        if (!dataTable) return;\n",
              "\n",
              "        const docLinkHtml = 'Like what you see? Visit the ' +\n",
              "          '<a target=\"_blank\" href=https://colab.research.google.com/notebooks/data_table.ipynb>data table notebook</a>'\n",
              "          + ' to learn more about interactive tables.';\n",
              "        element.innerHTML = '';\n",
              "        dataTable['output_type'] = 'display_data';\n",
              "        await google.colab.output.renderOutput(dataTable, element);\n",
              "        const docLink = document.createElement('div');\n",
              "        docLink.innerHTML = docLinkHtml;\n",
              "        element.appendChild(docLink);\n",
              "      }\n",
              "    </script>\n",
              "  </div>\n",
              "\n",
              "\n",
              "<div id=\"df-16aaba6b-d7d8-4355-a5f9-293d76c56c5a\">\n",
              "  <button class=\"colab-df-quickchart\" onclick=\"quickchart('df-16aaba6b-d7d8-4355-a5f9-293d76c56c5a')\"\n",
              "            title=\"Suggest charts.\"\n",
              "            style=\"display:none;\">\n",
              "\n",
              "<svg xmlns=\"http://www.w3.org/2000/svg\" height=\"24px\"viewBox=\"0 0 24 24\"\n",
              "     width=\"24px\">\n",
              "    <g>\n",
              "        <path d=\"M19 3H5c-1.1 0-2 .9-2 2v14c0 1.1.9 2 2 2h14c1.1 0 2-.9 2-2V5c0-1.1-.9-2-2-2zM9 17H7v-7h2v7zm4 0h-2V7h2v10zm4 0h-2v-4h2v4z\"/>\n",
              "    </g>\n",
              "</svg>\n",
              "  </button>\n",
              "\n",
              "<style>\n",
              "  .colab-df-quickchart {\n",
              "      --bg-color: #E8F0FE;\n",
              "      --fill-color: #1967D2;\n",
              "      --hover-bg-color: #E2EBFA;\n",
              "      --hover-fill-color: #174EA6;\n",
              "      --disabled-fill-color: #AAA;\n",
              "      --disabled-bg-color: #DDD;\n",
              "  }\n",
              "\n",
              "  [theme=dark] .colab-df-quickchart {\n",
              "      --bg-color: #3B4455;\n",
              "      --fill-color: #D2E3FC;\n",
              "      --hover-bg-color: #434B5C;\n",
              "      --hover-fill-color: #FFFFFF;\n",
              "      --disabled-bg-color: #3B4455;\n",
              "      --disabled-fill-color: #666;\n",
              "  }\n",
              "\n",
              "  .colab-df-quickchart {\n",
              "    background-color: var(--bg-color);\n",
              "    border: none;\n",
              "    border-radius: 50%;\n",
              "    cursor: pointer;\n",
              "    display: none;\n",
              "    fill: var(--fill-color);\n",
              "    height: 32px;\n",
              "    padding: 0;\n",
              "    width: 32px;\n",
              "  }\n",
              "\n",
              "  .colab-df-quickchart:hover {\n",
              "    background-color: var(--hover-bg-color);\n",
              "    box-shadow: 0 1px 2px rgba(60, 64, 67, 0.3), 0 1px 3px 1px rgba(60, 64, 67, 0.15);\n",
              "    fill: var(--button-hover-fill-color);\n",
              "  }\n",
              "\n",
              "  .colab-df-quickchart-complete:disabled,\n",
              "  .colab-df-quickchart-complete:disabled:hover {\n",
              "    background-color: var(--disabled-bg-color);\n",
              "    fill: var(--disabled-fill-color);\n",
              "    box-shadow: none;\n",
              "  }\n",
              "\n",
              "  .colab-df-spinner {\n",
              "    border: 2px solid var(--fill-color);\n",
              "    border-color: transparent;\n",
              "    border-bottom-color: var(--fill-color);\n",
              "    animation:\n",
              "      spin 1s steps(1) infinite;\n",
              "  }\n",
              "\n",
              "  @keyframes spin {\n",
              "    0% {\n",
              "      border-color: transparent;\n",
              "      border-bottom-color: var(--fill-color);\n",
              "      border-left-color: var(--fill-color);\n",
              "    }\n",
              "    20% {\n",
              "      border-color: transparent;\n",
              "      border-left-color: var(--fill-color);\n",
              "      border-top-color: var(--fill-color);\n",
              "    }\n",
              "    30% {\n",
              "      border-color: transparent;\n",
              "      border-left-color: var(--fill-color);\n",
              "      border-top-color: var(--fill-color);\n",
              "      border-right-color: var(--fill-color);\n",
              "    }\n",
              "    40% {\n",
              "      border-color: transparent;\n",
              "      border-right-color: var(--fill-color);\n",
              "      border-top-color: var(--fill-color);\n",
              "    }\n",
              "    60% {\n",
              "      border-color: transparent;\n",
              "      border-right-color: var(--fill-color);\n",
              "    }\n",
              "    80% {\n",
              "      border-color: transparent;\n",
              "      border-right-color: var(--fill-color);\n",
              "      border-bottom-color: var(--fill-color);\n",
              "    }\n",
              "    90% {\n",
              "      border-color: transparent;\n",
              "      border-bottom-color: var(--fill-color);\n",
              "    }\n",
              "  }\n",
              "</style>\n",
              "\n",
              "  <script>\n",
              "    async function quickchart(key) {\n",
              "      const quickchartButtonEl =\n",
              "        document.querySelector('#' + key + ' button');\n",
              "      quickchartButtonEl.disabled = true;  // To prevent multiple clicks.\n",
              "      quickchartButtonEl.classList.add('colab-df-spinner');\n",
              "      try {\n",
              "        const charts = await google.colab.kernel.invokeFunction(\n",
              "            'suggestCharts', [key], {});\n",
              "      } catch (error) {\n",
              "        console.error('Error during call to suggestCharts:', error);\n",
              "      }\n",
              "      quickchartButtonEl.classList.remove('colab-df-spinner');\n",
              "      quickchartButtonEl.classList.add('colab-df-quickchart-complete');\n",
              "    }\n",
              "    (() => {\n",
              "      let quickchartButtonEl =\n",
              "        document.querySelector('#df-16aaba6b-d7d8-4355-a5f9-293d76c56c5a button');\n",
              "      quickchartButtonEl.style.display =\n",
              "        google.colab.kernel.accessAllowed ? 'block' : 'none';\n",
              "    })();\n",
              "  </script>\n",
              "</div>\n",
              "    </div>\n",
              "  </div>\n"
            ]
          },
          "metadata": {},
          "execution_count": 7
        }
      ],
      "source": [
        "# See top 10 records of count_df data\n",
        "count_df.head(10)"
      ]
    },
    {
      "cell_type": "code",
      "execution_count": 8,
      "metadata": {
        "id": "tV1ed0ApXpu3",
        "colab": {
          "base_uri": "https://localhost:8080/",
          "height": 363
        },
        "outputId": "b5460575-fca2-4f7c-e61f-b9de020fee03"
      },
      "outputs": [
        {
          "output_type": "execute_result",
          "data": {
            "text/plain": [
              "              song_id                                              title  \\\n",
              "0  SOQMMHC12AB0180CB8                                       Silent Night   \n",
              "1  SOVFVAK12A8C1350D9                                        Tanssi vaan   \n",
              "2  SOGTUKN12AB017F4F1                                  No One Could Ever   \n",
              "3  SOBNYVR12A8C13558C                                      Si Vos Querés   \n",
              "4  SOHSBXH12A8C13B0DF                                   Tangle Of Aspens   \n",
              "5  SOZVAPQ12A8C13B63C  Symphony No. 1 G minor \"Sinfonie Serieuse\"/All...   \n",
              "6  SOQVRHI12A6D4FB2D7                                   We Have Got Love   \n",
              "7  SOEYRFT12AB018936C                                  2 Da Beat Ch'yall   \n",
              "8  SOPMIYT12A6D4F851E                                            Goodbye   \n",
              "9  SOJCFMH12A8C13B0C2                         Mama_ mama can't you see ?   \n",
              "\n",
              "                                release  \\\n",
              "0                 Monster Ballads X-Mas   \n",
              "1                           Karkuteillä   \n",
              "2                                Butter   \n",
              "3                               De Culo   \n",
              "4  Rene Ablaze Presents Winter Sessions   \n",
              "5      Berwald: Symphonies Nos. 1/2/3/4   \n",
              "6             Strictly The Best Vol. 34   \n",
              "7                               Da Bomb   \n",
              "8                             Danny Boy   \n",
              "9  March to cadence with the US marines   \n",
              "\n",
              "                                      artist_name  year  \n",
              "0                                Faster Pussy cat  2003  \n",
              "1                                Karkkiautomaatti  1995  \n",
              "2                                  Hudson Mohawke  2006  \n",
              "3                                     Yerba Brava  2003  \n",
              "4                                      Der Mystic     0  \n",
              "5                                David Montgomery     0  \n",
              "6                              Sasha / Turbulence     0  \n",
              "7                                      Kris Kross  1993  \n",
              "8                                    Joseph Locke     0  \n",
              "9  The Sun Harbor's Chorus-Documentary Recordings     0  "
            ],
            "text/html": [
              "\n",
              "  <div id=\"df-bf1afc53-1040-4fb8-88ec-628e69332124\" class=\"colab-df-container\">\n",
              "    <div>\n",
              "<style scoped>\n",
              "    .dataframe tbody tr th:only-of-type {\n",
              "        vertical-align: middle;\n",
              "    }\n",
              "\n",
              "    .dataframe tbody tr th {\n",
              "        vertical-align: top;\n",
              "    }\n",
              "\n",
              "    .dataframe thead th {\n",
              "        text-align: right;\n",
              "    }\n",
              "</style>\n",
              "<table border=\"1\" class=\"dataframe\">\n",
              "  <thead>\n",
              "    <tr style=\"text-align: right;\">\n",
              "      <th></th>\n",
              "      <th>song_id</th>\n",
              "      <th>title</th>\n",
              "      <th>release</th>\n",
              "      <th>artist_name</th>\n",
              "      <th>year</th>\n",
              "    </tr>\n",
              "  </thead>\n",
              "  <tbody>\n",
              "    <tr>\n",
              "      <th>0</th>\n",
              "      <td>SOQMMHC12AB0180CB8</td>\n",
              "      <td>Silent Night</td>\n",
              "      <td>Monster Ballads X-Mas</td>\n",
              "      <td>Faster Pussy cat</td>\n",
              "      <td>2003</td>\n",
              "    </tr>\n",
              "    <tr>\n",
              "      <th>1</th>\n",
              "      <td>SOVFVAK12A8C1350D9</td>\n",
              "      <td>Tanssi vaan</td>\n",
              "      <td>Karkuteillä</td>\n",
              "      <td>Karkkiautomaatti</td>\n",
              "      <td>1995</td>\n",
              "    </tr>\n",
              "    <tr>\n",
              "      <th>2</th>\n",
              "      <td>SOGTUKN12AB017F4F1</td>\n",
              "      <td>No One Could Ever</td>\n",
              "      <td>Butter</td>\n",
              "      <td>Hudson Mohawke</td>\n",
              "      <td>2006</td>\n",
              "    </tr>\n",
              "    <tr>\n",
              "      <th>3</th>\n",
              "      <td>SOBNYVR12A8C13558C</td>\n",
              "      <td>Si Vos Querés</td>\n",
              "      <td>De Culo</td>\n",
              "      <td>Yerba Brava</td>\n",
              "      <td>2003</td>\n",
              "    </tr>\n",
              "    <tr>\n",
              "      <th>4</th>\n",
              "      <td>SOHSBXH12A8C13B0DF</td>\n",
              "      <td>Tangle Of Aspens</td>\n",
              "      <td>Rene Ablaze Presents Winter Sessions</td>\n",
              "      <td>Der Mystic</td>\n",
              "      <td>0</td>\n",
              "    </tr>\n",
              "    <tr>\n",
              "      <th>5</th>\n",
              "      <td>SOZVAPQ12A8C13B63C</td>\n",
              "      <td>Symphony No. 1 G minor \"Sinfonie Serieuse\"/All...</td>\n",
              "      <td>Berwald: Symphonies Nos. 1/2/3/4</td>\n",
              "      <td>David Montgomery</td>\n",
              "      <td>0</td>\n",
              "    </tr>\n",
              "    <tr>\n",
              "      <th>6</th>\n",
              "      <td>SOQVRHI12A6D4FB2D7</td>\n",
              "      <td>We Have Got Love</td>\n",
              "      <td>Strictly The Best Vol. 34</td>\n",
              "      <td>Sasha / Turbulence</td>\n",
              "      <td>0</td>\n",
              "    </tr>\n",
              "    <tr>\n",
              "      <th>7</th>\n",
              "      <td>SOEYRFT12AB018936C</td>\n",
              "      <td>2 Da Beat Ch'yall</td>\n",
              "      <td>Da Bomb</td>\n",
              "      <td>Kris Kross</td>\n",
              "      <td>1993</td>\n",
              "    </tr>\n",
              "    <tr>\n",
              "      <th>8</th>\n",
              "      <td>SOPMIYT12A6D4F851E</td>\n",
              "      <td>Goodbye</td>\n",
              "      <td>Danny Boy</td>\n",
              "      <td>Joseph Locke</td>\n",
              "      <td>0</td>\n",
              "    </tr>\n",
              "    <tr>\n",
              "      <th>9</th>\n",
              "      <td>SOJCFMH12A8C13B0C2</td>\n",
              "      <td>Mama_ mama can't you see ?</td>\n",
              "      <td>March to cadence with the US marines</td>\n",
              "      <td>The Sun Harbor's Chorus-Documentary Recordings</td>\n",
              "      <td>0</td>\n",
              "    </tr>\n",
              "  </tbody>\n",
              "</table>\n",
              "</div>\n",
              "    <div class=\"colab-df-buttons\">\n",
              "\n",
              "  <div class=\"colab-df-container\">\n",
              "    <button class=\"colab-df-convert\" onclick=\"convertToInteractive('df-bf1afc53-1040-4fb8-88ec-628e69332124')\"\n",
              "            title=\"Convert this dataframe to an interactive table.\"\n",
              "            style=\"display:none;\">\n",
              "\n",
              "  <svg xmlns=\"http://www.w3.org/2000/svg\" height=\"24px\" viewBox=\"0 -960 960 960\">\n",
              "    <path d=\"M120-120v-720h720v720H120Zm60-500h600v-160H180v160Zm220 220h160v-160H400v160Zm0 220h160v-160H400v160ZM180-400h160v-160H180v160Zm440 0h160v-160H620v160ZM180-180h160v-160H180v160Zm440 0h160v-160H620v160Z\"/>\n",
              "  </svg>\n",
              "    </button>\n",
              "\n",
              "  <style>\n",
              "    .colab-df-container {\n",
              "      display:flex;\n",
              "      gap: 12px;\n",
              "    }\n",
              "\n",
              "    .colab-df-convert {\n",
              "      background-color: #E8F0FE;\n",
              "      border: none;\n",
              "      border-radius: 50%;\n",
              "      cursor: pointer;\n",
              "      display: none;\n",
              "      fill: #1967D2;\n",
              "      height: 32px;\n",
              "      padding: 0 0 0 0;\n",
              "      width: 32px;\n",
              "    }\n",
              "\n",
              "    .colab-df-convert:hover {\n",
              "      background-color: #E2EBFA;\n",
              "      box-shadow: 0px 1px 2px rgba(60, 64, 67, 0.3), 0px 1px 3px 1px rgba(60, 64, 67, 0.15);\n",
              "      fill: #174EA6;\n",
              "    }\n",
              "\n",
              "    .colab-df-buttons div {\n",
              "      margin-bottom: 4px;\n",
              "    }\n",
              "\n",
              "    [theme=dark] .colab-df-convert {\n",
              "      background-color: #3B4455;\n",
              "      fill: #D2E3FC;\n",
              "    }\n",
              "\n",
              "    [theme=dark] .colab-df-convert:hover {\n",
              "      background-color: #434B5C;\n",
              "      box-shadow: 0px 1px 3px 1px rgba(0, 0, 0, 0.15);\n",
              "      filter: drop-shadow(0px 1px 2px rgba(0, 0, 0, 0.3));\n",
              "      fill: #FFFFFF;\n",
              "    }\n",
              "  </style>\n",
              "\n",
              "    <script>\n",
              "      const buttonEl =\n",
              "        document.querySelector('#df-bf1afc53-1040-4fb8-88ec-628e69332124 button.colab-df-convert');\n",
              "      buttonEl.style.display =\n",
              "        google.colab.kernel.accessAllowed ? 'block' : 'none';\n",
              "\n",
              "      async function convertToInteractive(key) {\n",
              "        const element = document.querySelector('#df-bf1afc53-1040-4fb8-88ec-628e69332124');\n",
              "        const dataTable =\n",
              "          await google.colab.kernel.invokeFunction('convertToInteractive',\n",
              "                                                    [key], {});\n",
              "        if (!dataTable) return;\n",
              "\n",
              "        const docLinkHtml = 'Like what you see? Visit the ' +\n",
              "          '<a target=\"_blank\" href=https://colab.research.google.com/notebooks/data_table.ipynb>data table notebook</a>'\n",
              "          + ' to learn more about interactive tables.';\n",
              "        element.innerHTML = '';\n",
              "        dataTable['output_type'] = 'display_data';\n",
              "        await google.colab.output.renderOutput(dataTable, element);\n",
              "        const docLink = document.createElement('div');\n",
              "        docLink.innerHTML = docLinkHtml;\n",
              "        element.appendChild(docLink);\n",
              "      }\n",
              "    </script>\n",
              "  </div>\n",
              "\n",
              "\n",
              "<div id=\"df-8514dc36-c95d-48cf-866a-7526924c837a\">\n",
              "  <button class=\"colab-df-quickchart\" onclick=\"quickchart('df-8514dc36-c95d-48cf-866a-7526924c837a')\"\n",
              "            title=\"Suggest charts.\"\n",
              "            style=\"display:none;\">\n",
              "\n",
              "<svg xmlns=\"http://www.w3.org/2000/svg\" height=\"24px\"viewBox=\"0 0 24 24\"\n",
              "     width=\"24px\">\n",
              "    <g>\n",
              "        <path d=\"M19 3H5c-1.1 0-2 .9-2 2v14c0 1.1.9 2 2 2h14c1.1 0 2-.9 2-2V5c0-1.1-.9-2-2-2zM9 17H7v-7h2v7zm4 0h-2V7h2v10zm4 0h-2v-4h2v4z\"/>\n",
              "    </g>\n",
              "</svg>\n",
              "  </button>\n",
              "\n",
              "<style>\n",
              "  .colab-df-quickchart {\n",
              "      --bg-color: #E8F0FE;\n",
              "      --fill-color: #1967D2;\n",
              "      --hover-bg-color: #E2EBFA;\n",
              "      --hover-fill-color: #174EA6;\n",
              "      --disabled-fill-color: #AAA;\n",
              "      --disabled-bg-color: #DDD;\n",
              "  }\n",
              "\n",
              "  [theme=dark] .colab-df-quickchart {\n",
              "      --bg-color: #3B4455;\n",
              "      --fill-color: #D2E3FC;\n",
              "      --hover-bg-color: #434B5C;\n",
              "      --hover-fill-color: #FFFFFF;\n",
              "      --disabled-bg-color: #3B4455;\n",
              "      --disabled-fill-color: #666;\n",
              "  }\n",
              "\n",
              "  .colab-df-quickchart {\n",
              "    background-color: var(--bg-color);\n",
              "    border: none;\n",
              "    border-radius: 50%;\n",
              "    cursor: pointer;\n",
              "    display: none;\n",
              "    fill: var(--fill-color);\n",
              "    height: 32px;\n",
              "    padding: 0;\n",
              "    width: 32px;\n",
              "  }\n",
              "\n",
              "  .colab-df-quickchart:hover {\n",
              "    background-color: var(--hover-bg-color);\n",
              "    box-shadow: 0 1px 2px rgba(60, 64, 67, 0.3), 0 1px 3px 1px rgba(60, 64, 67, 0.15);\n",
              "    fill: var(--button-hover-fill-color);\n",
              "  }\n",
              "\n",
              "  .colab-df-quickchart-complete:disabled,\n",
              "  .colab-df-quickchart-complete:disabled:hover {\n",
              "    background-color: var(--disabled-bg-color);\n",
              "    fill: var(--disabled-fill-color);\n",
              "    box-shadow: none;\n",
              "  }\n",
              "\n",
              "  .colab-df-spinner {\n",
              "    border: 2px solid var(--fill-color);\n",
              "    border-color: transparent;\n",
              "    border-bottom-color: var(--fill-color);\n",
              "    animation:\n",
              "      spin 1s steps(1) infinite;\n",
              "  }\n",
              "\n",
              "  @keyframes spin {\n",
              "    0% {\n",
              "      border-color: transparent;\n",
              "      border-bottom-color: var(--fill-color);\n",
              "      border-left-color: var(--fill-color);\n",
              "    }\n",
              "    20% {\n",
              "      border-color: transparent;\n",
              "      border-left-color: var(--fill-color);\n",
              "      border-top-color: var(--fill-color);\n",
              "    }\n",
              "    30% {\n",
              "      border-color: transparent;\n",
              "      border-left-color: var(--fill-color);\n",
              "      border-top-color: var(--fill-color);\n",
              "      border-right-color: var(--fill-color);\n",
              "    }\n",
              "    40% {\n",
              "      border-color: transparent;\n",
              "      border-right-color: var(--fill-color);\n",
              "      border-top-color: var(--fill-color);\n",
              "    }\n",
              "    60% {\n",
              "      border-color: transparent;\n",
              "      border-right-color: var(--fill-color);\n",
              "    }\n",
              "    80% {\n",
              "      border-color: transparent;\n",
              "      border-right-color: var(--fill-color);\n",
              "      border-bottom-color: var(--fill-color);\n",
              "    }\n",
              "    90% {\n",
              "      border-color: transparent;\n",
              "      border-bottom-color: var(--fill-color);\n",
              "    }\n",
              "  }\n",
              "</style>\n",
              "\n",
              "  <script>\n",
              "    async function quickchart(key) {\n",
              "      const quickchartButtonEl =\n",
              "        document.querySelector('#' + key + ' button');\n",
              "      quickchartButtonEl.disabled = true;  // To prevent multiple clicks.\n",
              "      quickchartButtonEl.classList.add('colab-df-spinner');\n",
              "      try {\n",
              "        const charts = await google.colab.kernel.invokeFunction(\n",
              "            'suggestCharts', [key], {});\n",
              "      } catch (error) {\n",
              "        console.error('Error during call to suggestCharts:', error);\n",
              "      }\n",
              "      quickchartButtonEl.classList.remove('colab-df-spinner');\n",
              "      quickchartButtonEl.classList.add('colab-df-quickchart-complete');\n",
              "    }\n",
              "    (() => {\n",
              "      let quickchartButtonEl =\n",
              "        document.querySelector('#df-8514dc36-c95d-48cf-866a-7526924c837a button');\n",
              "      quickchartButtonEl.style.display =\n",
              "        google.colab.kernel.accessAllowed ? 'block' : 'none';\n",
              "    })();\n",
              "  </script>\n",
              "</div>\n",
              "    </div>\n",
              "  </div>\n"
            ]
          },
          "metadata": {},
          "execution_count": 8
        }
      ],
      "source": [
        "# See top 10 records of song_df data\n",
        "song_df.head(10)\n"
      ]
    },
    {
      "cell_type": "markdown",
      "metadata": {
        "id": "bvKb5FHcXzcN"
      },
      "source": [
        "### **Let us check the data types and and missing values of each column**"
      ]
    },
    {
      "cell_type": "code",
      "execution_count": 9,
      "metadata": {
        "id": "yyoHc_cnX19J",
        "colab": {
          "base_uri": "https://localhost:8080/"
        },
        "outputId": "0d49b7ff-7d7c-404e-d2ab-40eabdf2c0df"
      },
      "outputs": [
        {
          "output_type": "stream",
          "name": "stdout",
          "text": [
            "<class 'pandas.core.frame.DataFrame'>\n",
            "RangeIndex: 2000000 entries, 0 to 1999999\n",
            "Data columns (total 4 columns):\n",
            " #   Column      Dtype \n",
            "---  ------      ----- \n",
            " 0   Unnamed: 0  int64 \n",
            " 1   user_id     object\n",
            " 2   song_id     object\n",
            " 3   play_count  int64 \n",
            "dtypes: int64(2), object(2)\n",
            "memory usage: 61.0+ MB\n"
          ]
        }
      ],
      "source": [
        "# See the info of the count_df data\n",
        "count_df.info()"
      ]
    },
    {
      "cell_type": "code",
      "source": [
        "count_df.describe().T"
      ],
      "metadata": {
        "colab": {
          "base_uri": "https://localhost:8080/",
          "height": 112
        },
        "id": "apYW9JEn78jO",
        "outputId": "1f448890-5eb3-451c-a27b-5d95bace763b"
      },
      "execution_count": 10,
      "outputs": [
        {
          "output_type": "execute_result",
          "data": {
            "text/plain": [
              "                count           mean            std  min        25%       50%  \\\n",
              "Unnamed: 0  2000000.0  999999.500000  577350.413527  0.0  499999.75  999999.5   \n",
              "play_count  2000000.0       3.045485       6.579720  1.0       1.00       1.0   \n",
              "\n",
              "                   75%        max  \n",
              "Unnamed: 0  1499999.25  1999999.0  \n",
              "play_count        3.00     2213.0  "
            ],
            "text/html": [
              "\n",
              "  <div id=\"df-567339f2-08b2-44cd-b5e9-e0f038ec709b\" class=\"colab-df-container\">\n",
              "    <div>\n",
              "<style scoped>\n",
              "    .dataframe tbody tr th:only-of-type {\n",
              "        vertical-align: middle;\n",
              "    }\n",
              "\n",
              "    .dataframe tbody tr th {\n",
              "        vertical-align: top;\n",
              "    }\n",
              "\n",
              "    .dataframe thead th {\n",
              "        text-align: right;\n",
              "    }\n",
              "</style>\n",
              "<table border=\"1\" class=\"dataframe\">\n",
              "  <thead>\n",
              "    <tr style=\"text-align: right;\">\n",
              "      <th></th>\n",
              "      <th>count</th>\n",
              "      <th>mean</th>\n",
              "      <th>std</th>\n",
              "      <th>min</th>\n",
              "      <th>25%</th>\n",
              "      <th>50%</th>\n",
              "      <th>75%</th>\n",
              "      <th>max</th>\n",
              "    </tr>\n",
              "  </thead>\n",
              "  <tbody>\n",
              "    <tr>\n",
              "      <th>Unnamed: 0</th>\n",
              "      <td>2000000.0</td>\n",
              "      <td>999999.500000</td>\n",
              "      <td>577350.413527</td>\n",
              "      <td>0.0</td>\n",
              "      <td>499999.75</td>\n",
              "      <td>999999.5</td>\n",
              "      <td>1499999.25</td>\n",
              "      <td>1999999.0</td>\n",
              "    </tr>\n",
              "    <tr>\n",
              "      <th>play_count</th>\n",
              "      <td>2000000.0</td>\n",
              "      <td>3.045485</td>\n",
              "      <td>6.579720</td>\n",
              "      <td>1.0</td>\n",
              "      <td>1.00</td>\n",
              "      <td>1.0</td>\n",
              "      <td>3.00</td>\n",
              "      <td>2213.0</td>\n",
              "    </tr>\n",
              "  </tbody>\n",
              "</table>\n",
              "</div>\n",
              "    <div class=\"colab-df-buttons\">\n",
              "\n",
              "  <div class=\"colab-df-container\">\n",
              "    <button class=\"colab-df-convert\" onclick=\"convertToInteractive('df-567339f2-08b2-44cd-b5e9-e0f038ec709b')\"\n",
              "            title=\"Convert this dataframe to an interactive table.\"\n",
              "            style=\"display:none;\">\n",
              "\n",
              "  <svg xmlns=\"http://www.w3.org/2000/svg\" height=\"24px\" viewBox=\"0 -960 960 960\">\n",
              "    <path d=\"M120-120v-720h720v720H120Zm60-500h600v-160H180v160Zm220 220h160v-160H400v160Zm0 220h160v-160H400v160ZM180-400h160v-160H180v160Zm440 0h160v-160H620v160ZM180-180h160v-160H180v160Zm440 0h160v-160H620v160Z\"/>\n",
              "  </svg>\n",
              "    </button>\n",
              "\n",
              "  <style>\n",
              "    .colab-df-container {\n",
              "      display:flex;\n",
              "      gap: 12px;\n",
              "    }\n",
              "\n",
              "    .colab-df-convert {\n",
              "      background-color: #E8F0FE;\n",
              "      border: none;\n",
              "      border-radius: 50%;\n",
              "      cursor: pointer;\n",
              "      display: none;\n",
              "      fill: #1967D2;\n",
              "      height: 32px;\n",
              "      padding: 0 0 0 0;\n",
              "      width: 32px;\n",
              "    }\n",
              "\n",
              "    .colab-df-convert:hover {\n",
              "      background-color: #E2EBFA;\n",
              "      box-shadow: 0px 1px 2px rgba(60, 64, 67, 0.3), 0px 1px 3px 1px rgba(60, 64, 67, 0.15);\n",
              "      fill: #174EA6;\n",
              "    }\n",
              "\n",
              "    .colab-df-buttons div {\n",
              "      margin-bottom: 4px;\n",
              "    }\n",
              "\n",
              "    [theme=dark] .colab-df-convert {\n",
              "      background-color: #3B4455;\n",
              "      fill: #D2E3FC;\n",
              "    }\n",
              "\n",
              "    [theme=dark] .colab-df-convert:hover {\n",
              "      background-color: #434B5C;\n",
              "      box-shadow: 0px 1px 3px 1px rgba(0, 0, 0, 0.15);\n",
              "      filter: drop-shadow(0px 1px 2px rgba(0, 0, 0, 0.3));\n",
              "      fill: #FFFFFF;\n",
              "    }\n",
              "  </style>\n",
              "\n",
              "    <script>\n",
              "      const buttonEl =\n",
              "        document.querySelector('#df-567339f2-08b2-44cd-b5e9-e0f038ec709b button.colab-df-convert');\n",
              "      buttonEl.style.display =\n",
              "        google.colab.kernel.accessAllowed ? 'block' : 'none';\n",
              "\n",
              "      async function convertToInteractive(key) {\n",
              "        const element = document.querySelector('#df-567339f2-08b2-44cd-b5e9-e0f038ec709b');\n",
              "        const dataTable =\n",
              "          await google.colab.kernel.invokeFunction('convertToInteractive',\n",
              "                                                    [key], {});\n",
              "        if (!dataTable) return;\n",
              "\n",
              "        const docLinkHtml = 'Like what you see? Visit the ' +\n",
              "          '<a target=\"_blank\" href=https://colab.research.google.com/notebooks/data_table.ipynb>data table notebook</a>'\n",
              "          + ' to learn more about interactive tables.';\n",
              "        element.innerHTML = '';\n",
              "        dataTable['output_type'] = 'display_data';\n",
              "        await google.colab.output.renderOutput(dataTable, element);\n",
              "        const docLink = document.createElement('div');\n",
              "        docLink.innerHTML = docLinkHtml;\n",
              "        element.appendChild(docLink);\n",
              "      }\n",
              "    </script>\n",
              "  </div>\n",
              "\n",
              "\n",
              "<div id=\"df-f7b233b3-be84-42c1-93e0-10843e7953bb\">\n",
              "  <button class=\"colab-df-quickchart\" onclick=\"quickchart('df-f7b233b3-be84-42c1-93e0-10843e7953bb')\"\n",
              "            title=\"Suggest charts.\"\n",
              "            style=\"display:none;\">\n",
              "\n",
              "<svg xmlns=\"http://www.w3.org/2000/svg\" height=\"24px\"viewBox=\"0 0 24 24\"\n",
              "     width=\"24px\">\n",
              "    <g>\n",
              "        <path d=\"M19 3H5c-1.1 0-2 .9-2 2v14c0 1.1.9 2 2 2h14c1.1 0 2-.9 2-2V5c0-1.1-.9-2-2-2zM9 17H7v-7h2v7zm4 0h-2V7h2v10zm4 0h-2v-4h2v4z\"/>\n",
              "    </g>\n",
              "</svg>\n",
              "  </button>\n",
              "\n",
              "<style>\n",
              "  .colab-df-quickchart {\n",
              "      --bg-color: #E8F0FE;\n",
              "      --fill-color: #1967D2;\n",
              "      --hover-bg-color: #E2EBFA;\n",
              "      --hover-fill-color: #174EA6;\n",
              "      --disabled-fill-color: #AAA;\n",
              "      --disabled-bg-color: #DDD;\n",
              "  }\n",
              "\n",
              "  [theme=dark] .colab-df-quickchart {\n",
              "      --bg-color: #3B4455;\n",
              "      --fill-color: #D2E3FC;\n",
              "      --hover-bg-color: #434B5C;\n",
              "      --hover-fill-color: #FFFFFF;\n",
              "      --disabled-bg-color: #3B4455;\n",
              "      --disabled-fill-color: #666;\n",
              "  }\n",
              "\n",
              "  .colab-df-quickchart {\n",
              "    background-color: var(--bg-color);\n",
              "    border: none;\n",
              "    border-radius: 50%;\n",
              "    cursor: pointer;\n",
              "    display: none;\n",
              "    fill: var(--fill-color);\n",
              "    height: 32px;\n",
              "    padding: 0;\n",
              "    width: 32px;\n",
              "  }\n",
              "\n",
              "  .colab-df-quickchart:hover {\n",
              "    background-color: var(--hover-bg-color);\n",
              "    box-shadow: 0 1px 2px rgba(60, 64, 67, 0.3), 0 1px 3px 1px rgba(60, 64, 67, 0.15);\n",
              "    fill: var(--button-hover-fill-color);\n",
              "  }\n",
              "\n",
              "  .colab-df-quickchart-complete:disabled,\n",
              "  .colab-df-quickchart-complete:disabled:hover {\n",
              "    background-color: var(--disabled-bg-color);\n",
              "    fill: var(--disabled-fill-color);\n",
              "    box-shadow: none;\n",
              "  }\n",
              "\n",
              "  .colab-df-spinner {\n",
              "    border: 2px solid var(--fill-color);\n",
              "    border-color: transparent;\n",
              "    border-bottom-color: var(--fill-color);\n",
              "    animation:\n",
              "      spin 1s steps(1) infinite;\n",
              "  }\n",
              "\n",
              "  @keyframes spin {\n",
              "    0% {\n",
              "      border-color: transparent;\n",
              "      border-bottom-color: var(--fill-color);\n",
              "      border-left-color: var(--fill-color);\n",
              "    }\n",
              "    20% {\n",
              "      border-color: transparent;\n",
              "      border-left-color: var(--fill-color);\n",
              "      border-top-color: var(--fill-color);\n",
              "    }\n",
              "    30% {\n",
              "      border-color: transparent;\n",
              "      border-left-color: var(--fill-color);\n",
              "      border-top-color: var(--fill-color);\n",
              "      border-right-color: var(--fill-color);\n",
              "    }\n",
              "    40% {\n",
              "      border-color: transparent;\n",
              "      border-right-color: var(--fill-color);\n",
              "      border-top-color: var(--fill-color);\n",
              "    }\n",
              "    60% {\n",
              "      border-color: transparent;\n",
              "      border-right-color: var(--fill-color);\n",
              "    }\n",
              "    80% {\n",
              "      border-color: transparent;\n",
              "      border-right-color: var(--fill-color);\n",
              "      border-bottom-color: var(--fill-color);\n",
              "    }\n",
              "    90% {\n",
              "      border-color: transparent;\n",
              "      border-bottom-color: var(--fill-color);\n",
              "    }\n",
              "  }\n",
              "</style>\n",
              "\n",
              "  <script>\n",
              "    async function quickchart(key) {\n",
              "      const quickchartButtonEl =\n",
              "        document.querySelector('#' + key + ' button');\n",
              "      quickchartButtonEl.disabled = true;  // To prevent multiple clicks.\n",
              "      quickchartButtonEl.classList.add('colab-df-spinner');\n",
              "      try {\n",
              "        const charts = await google.colab.kernel.invokeFunction(\n",
              "            'suggestCharts', [key], {});\n",
              "      } catch (error) {\n",
              "        console.error('Error during call to suggestCharts:', error);\n",
              "      }\n",
              "      quickchartButtonEl.classList.remove('colab-df-spinner');\n",
              "      quickchartButtonEl.classList.add('colab-df-quickchart-complete');\n",
              "    }\n",
              "    (() => {\n",
              "      let quickchartButtonEl =\n",
              "        document.querySelector('#df-f7b233b3-be84-42c1-93e0-10843e7953bb button');\n",
              "      quickchartButtonEl.style.display =\n",
              "        google.colab.kernel.accessAllowed ? 'block' : 'none';\n",
              "    })();\n",
              "  </script>\n",
              "</div>\n",
              "    </div>\n",
              "  </div>\n"
            ]
          },
          "metadata": {},
          "execution_count": 10
        }
      ]
    },
    {
      "cell_type": "code",
      "execution_count": 11,
      "metadata": {
        "id": "rz3zDx_LX42y",
        "colab": {
          "base_uri": "https://localhost:8080/"
        },
        "outputId": "82831b40-2fd7-49d6-a440-65573a2c5714"
      },
      "outputs": [
        {
          "output_type": "stream",
          "name": "stdout",
          "text": [
            "<class 'pandas.core.frame.DataFrame'>\n",
            "RangeIndex: 1000000 entries, 0 to 999999\n",
            "Data columns (total 5 columns):\n",
            " #   Column       Non-Null Count    Dtype \n",
            "---  ------       --------------    ----- \n",
            " 0   song_id      1000000 non-null  object\n",
            " 1   title        999985 non-null   object\n",
            " 2   release      999995 non-null   object\n",
            " 3   artist_name  1000000 non-null  object\n",
            " 4   year         1000000 non-null  int64 \n",
            "dtypes: int64(1), object(4)\n",
            "memory usage: 38.1+ MB\n"
          ]
        }
      ],
      "source": [
        "# See the info of the song_df data\n",
        "song_df.info()"
      ]
    },
    {
      "cell_type": "code",
      "source": [
        "song_df.describe().T"
      ],
      "metadata": {
        "colab": {
          "base_uri": "https://localhost:8080/",
          "height": 81
        },
        "id": "FnmKQb-78nc8",
        "outputId": "ac18525b-5944-4497-a134-a4a87e46d8db"
      },
      "execution_count": 12,
      "outputs": [
        {
          "output_type": "execute_result",
          "data": {
            "text/plain": [
              "          count         mean         std  min  25%     50%     75%     max\n",
              "year  1000000.0  1030.325652  998.745002  0.0  0.0  1969.0  2002.0  2011.0"
            ],
            "text/html": [
              "\n",
              "  <div id=\"df-88a7313a-5c30-4eae-9530-39df787cb8f0\" class=\"colab-df-container\">\n",
              "    <div>\n",
              "<style scoped>\n",
              "    .dataframe tbody tr th:only-of-type {\n",
              "        vertical-align: middle;\n",
              "    }\n",
              "\n",
              "    .dataframe tbody tr th {\n",
              "        vertical-align: top;\n",
              "    }\n",
              "\n",
              "    .dataframe thead th {\n",
              "        text-align: right;\n",
              "    }\n",
              "</style>\n",
              "<table border=\"1\" class=\"dataframe\">\n",
              "  <thead>\n",
              "    <tr style=\"text-align: right;\">\n",
              "      <th></th>\n",
              "      <th>count</th>\n",
              "      <th>mean</th>\n",
              "      <th>std</th>\n",
              "      <th>min</th>\n",
              "      <th>25%</th>\n",
              "      <th>50%</th>\n",
              "      <th>75%</th>\n",
              "      <th>max</th>\n",
              "    </tr>\n",
              "  </thead>\n",
              "  <tbody>\n",
              "    <tr>\n",
              "      <th>year</th>\n",
              "      <td>1000000.0</td>\n",
              "      <td>1030.325652</td>\n",
              "      <td>998.745002</td>\n",
              "      <td>0.0</td>\n",
              "      <td>0.0</td>\n",
              "      <td>1969.0</td>\n",
              "      <td>2002.0</td>\n",
              "      <td>2011.0</td>\n",
              "    </tr>\n",
              "  </tbody>\n",
              "</table>\n",
              "</div>\n",
              "    <div class=\"colab-df-buttons\">\n",
              "\n",
              "  <div class=\"colab-df-container\">\n",
              "    <button class=\"colab-df-convert\" onclick=\"convertToInteractive('df-88a7313a-5c30-4eae-9530-39df787cb8f0')\"\n",
              "            title=\"Convert this dataframe to an interactive table.\"\n",
              "            style=\"display:none;\">\n",
              "\n",
              "  <svg xmlns=\"http://www.w3.org/2000/svg\" height=\"24px\" viewBox=\"0 -960 960 960\">\n",
              "    <path d=\"M120-120v-720h720v720H120Zm60-500h600v-160H180v160Zm220 220h160v-160H400v160Zm0 220h160v-160H400v160ZM180-400h160v-160H180v160Zm440 0h160v-160H620v160ZM180-180h160v-160H180v160Zm440 0h160v-160H620v160Z\"/>\n",
              "  </svg>\n",
              "    </button>\n",
              "\n",
              "  <style>\n",
              "    .colab-df-container {\n",
              "      display:flex;\n",
              "      gap: 12px;\n",
              "    }\n",
              "\n",
              "    .colab-df-convert {\n",
              "      background-color: #E8F0FE;\n",
              "      border: none;\n",
              "      border-radius: 50%;\n",
              "      cursor: pointer;\n",
              "      display: none;\n",
              "      fill: #1967D2;\n",
              "      height: 32px;\n",
              "      padding: 0 0 0 0;\n",
              "      width: 32px;\n",
              "    }\n",
              "\n",
              "    .colab-df-convert:hover {\n",
              "      background-color: #E2EBFA;\n",
              "      box-shadow: 0px 1px 2px rgba(60, 64, 67, 0.3), 0px 1px 3px 1px rgba(60, 64, 67, 0.15);\n",
              "      fill: #174EA6;\n",
              "    }\n",
              "\n",
              "    .colab-df-buttons div {\n",
              "      margin-bottom: 4px;\n",
              "    }\n",
              "\n",
              "    [theme=dark] .colab-df-convert {\n",
              "      background-color: #3B4455;\n",
              "      fill: #D2E3FC;\n",
              "    }\n",
              "\n",
              "    [theme=dark] .colab-df-convert:hover {\n",
              "      background-color: #434B5C;\n",
              "      box-shadow: 0px 1px 3px 1px rgba(0, 0, 0, 0.15);\n",
              "      filter: drop-shadow(0px 1px 2px rgba(0, 0, 0, 0.3));\n",
              "      fill: #FFFFFF;\n",
              "    }\n",
              "  </style>\n",
              "\n",
              "    <script>\n",
              "      const buttonEl =\n",
              "        document.querySelector('#df-88a7313a-5c30-4eae-9530-39df787cb8f0 button.colab-df-convert');\n",
              "      buttonEl.style.display =\n",
              "        google.colab.kernel.accessAllowed ? 'block' : 'none';\n",
              "\n",
              "      async function convertToInteractive(key) {\n",
              "        const element = document.querySelector('#df-88a7313a-5c30-4eae-9530-39df787cb8f0');\n",
              "        const dataTable =\n",
              "          await google.colab.kernel.invokeFunction('convertToInteractive',\n",
              "                                                    [key], {});\n",
              "        if (!dataTable) return;\n",
              "\n",
              "        const docLinkHtml = 'Like what you see? Visit the ' +\n",
              "          '<a target=\"_blank\" href=https://colab.research.google.com/notebooks/data_table.ipynb>data table notebook</a>'\n",
              "          + ' to learn more about interactive tables.';\n",
              "        element.innerHTML = '';\n",
              "        dataTable['output_type'] = 'display_data';\n",
              "        await google.colab.output.renderOutput(dataTable, element);\n",
              "        const docLink = document.createElement('div');\n",
              "        docLink.innerHTML = docLinkHtml;\n",
              "        element.appendChild(docLink);\n",
              "      }\n",
              "    </script>\n",
              "  </div>\n",
              "\n",
              "    </div>\n",
              "  </div>\n"
            ]
          },
          "metadata": {},
          "execution_count": 12
        }
      ]
    },
    {
      "cell_type": "markdown",
      "metadata": {
        "id": "Ze2TlWxpYadn"
      },
      "source": [
        "#### **Observations and Insights: There are no null values in the count data set. The data types are as such: user_id, song_id can take multiple data types such as string, float etc. Play_count is an integer.**\n",
        "\n",
        "**song_df has mostly non null values. title has only 15 null values out of 1 million and release has only 5 null values. Song_id, title, release and artist name can take any data type such as string, float, integer etc whereas year has integer data type.**\n"
      ]
    },
    {
      "cell_type": "code",
      "execution_count": 13,
      "metadata": {
        "id": "oTeurvID2T9U",
        "colab": {
          "base_uri": "https://localhost:8080/",
          "height": 424
        },
        "outputId": "edd3df11-5438-4670-d6c9-3734a8f713f4"
      },
      "outputs": [
        {
          "output_type": "execute_result",
          "data": {
            "text/plain": [
              "                                          user_id             song_id  \\\n",
              "0        b80344d063b5ccb3212f76538f3d9e43d87dca9e  SOAKIMP12A8C130995   \n",
              "1        b80344d063b5ccb3212f76538f3d9e43d87dca9e  SOBBMDR12A8C13253B   \n",
              "2        b80344d063b5ccb3212f76538f3d9e43d87dca9e  SOBXHDL12A81C204C0   \n",
              "3        b80344d063b5ccb3212f76538f3d9e43d87dca9e  SOBYHAJ12A6701BF1D   \n",
              "4        b80344d063b5ccb3212f76538f3d9e43d87dca9e  SODACBL12A8C13C273   \n",
              "...                                           ...                 ...   \n",
              "1999995  d8bfd4ec88f0f3773a9e022e3c1a0f1d3b7b6a92  SOJEYPO12AAA8C6B0E   \n",
              "1999996  d8bfd4ec88f0f3773a9e022e3c1a0f1d3b7b6a92  SOJJYDE12AF729FC16   \n",
              "1999997  d8bfd4ec88f0f3773a9e022e3c1a0f1d3b7b6a92  SOJKQSF12A6D4F5EE9   \n",
              "1999998  d8bfd4ec88f0f3773a9e022e3c1a0f1d3b7b6a92  SOJUXGA12AC961885C   \n",
              "1999999  d8bfd4ec88f0f3773a9e022e3c1a0f1d3b7b6a92  SOJYOLS12A8C13C06F   \n",
              "\n",
              "         play_count                           title  \\\n",
              "0                 1                        The Cove   \n",
              "1                 2                 Entre Dos Aguas   \n",
              "2                 1                        Stronger   \n",
              "3                 1                  Constellations   \n",
              "4                 1                    Learn To Fly   \n",
              "...             ...                             ...   \n",
              "1999995           2       Ignorance (Album Version)   \n",
              "1999996           4          Two Is Better Than One   \n",
              "1999997           3  What I've Done (Album Version)   \n",
              "1999998           1                              Up   \n",
              "1999999           1      Soil_ Soil (Album Version)   \n",
              "\n",
              "                               release  \\\n",
              "0                   Thicker Than Water   \n",
              "1                  Flamenco Para Niños   \n",
              "2                           Graduation   \n",
              "3                    In Between Dreams   \n",
              "4        There Is Nothing Left To Lose   \n",
              "...                                ...   \n",
              "1999995                      Ignorance   \n",
              "1999996                     Love Drunk   \n",
              "1999997                 What I've Done   \n",
              "1999998                      My Worlds   \n",
              "1999999                        The Con   \n",
              "\n",
              "                                    artist_name  year  \n",
              "0                                  Jack Johnson     0  \n",
              "1                                 Paco De Lucia  1976  \n",
              "2                                    Kanye West  2007  \n",
              "3                                  Jack Johnson  2005  \n",
              "4                                  Foo Fighters  1999  \n",
              "...                                         ...   ...  \n",
              "1999995                                Paramore     0  \n",
              "1999996  Boys Like Girls featuring Taylor Swift  2009  \n",
              "1999997                             Linkin Park  2007  \n",
              "1999998                           Justin Bieber  2010  \n",
              "1999999                          Tegan And Sara  2007  \n",
              "\n",
              "[2000000 rows x 7 columns]"
            ],
            "text/html": [
              "\n",
              "  <div id=\"df-07fcd339-8390-48f7-893c-c882f435b0d4\" class=\"colab-df-container\">\n",
              "    <div>\n",
              "<style scoped>\n",
              "    .dataframe tbody tr th:only-of-type {\n",
              "        vertical-align: middle;\n",
              "    }\n",
              "\n",
              "    .dataframe tbody tr th {\n",
              "        vertical-align: top;\n",
              "    }\n",
              "\n",
              "    .dataframe thead th {\n",
              "        text-align: right;\n",
              "    }\n",
              "</style>\n",
              "<table border=\"1\" class=\"dataframe\">\n",
              "  <thead>\n",
              "    <tr style=\"text-align: right;\">\n",
              "      <th></th>\n",
              "      <th>user_id</th>\n",
              "      <th>song_id</th>\n",
              "      <th>play_count</th>\n",
              "      <th>title</th>\n",
              "      <th>release</th>\n",
              "      <th>artist_name</th>\n",
              "      <th>year</th>\n",
              "    </tr>\n",
              "  </thead>\n",
              "  <tbody>\n",
              "    <tr>\n",
              "      <th>0</th>\n",
              "      <td>b80344d063b5ccb3212f76538f3d9e43d87dca9e</td>\n",
              "      <td>SOAKIMP12A8C130995</td>\n",
              "      <td>1</td>\n",
              "      <td>The Cove</td>\n",
              "      <td>Thicker Than Water</td>\n",
              "      <td>Jack Johnson</td>\n",
              "      <td>0</td>\n",
              "    </tr>\n",
              "    <tr>\n",
              "      <th>1</th>\n",
              "      <td>b80344d063b5ccb3212f76538f3d9e43d87dca9e</td>\n",
              "      <td>SOBBMDR12A8C13253B</td>\n",
              "      <td>2</td>\n",
              "      <td>Entre Dos Aguas</td>\n",
              "      <td>Flamenco Para Niños</td>\n",
              "      <td>Paco De Lucia</td>\n",
              "      <td>1976</td>\n",
              "    </tr>\n",
              "    <tr>\n",
              "      <th>2</th>\n",
              "      <td>b80344d063b5ccb3212f76538f3d9e43d87dca9e</td>\n",
              "      <td>SOBXHDL12A81C204C0</td>\n",
              "      <td>1</td>\n",
              "      <td>Stronger</td>\n",
              "      <td>Graduation</td>\n",
              "      <td>Kanye West</td>\n",
              "      <td>2007</td>\n",
              "    </tr>\n",
              "    <tr>\n",
              "      <th>3</th>\n",
              "      <td>b80344d063b5ccb3212f76538f3d9e43d87dca9e</td>\n",
              "      <td>SOBYHAJ12A6701BF1D</td>\n",
              "      <td>1</td>\n",
              "      <td>Constellations</td>\n",
              "      <td>In Between Dreams</td>\n",
              "      <td>Jack Johnson</td>\n",
              "      <td>2005</td>\n",
              "    </tr>\n",
              "    <tr>\n",
              "      <th>4</th>\n",
              "      <td>b80344d063b5ccb3212f76538f3d9e43d87dca9e</td>\n",
              "      <td>SODACBL12A8C13C273</td>\n",
              "      <td>1</td>\n",
              "      <td>Learn To Fly</td>\n",
              "      <td>There Is Nothing Left To Lose</td>\n",
              "      <td>Foo Fighters</td>\n",
              "      <td>1999</td>\n",
              "    </tr>\n",
              "    <tr>\n",
              "      <th>...</th>\n",
              "      <td>...</td>\n",
              "      <td>...</td>\n",
              "      <td>...</td>\n",
              "      <td>...</td>\n",
              "      <td>...</td>\n",
              "      <td>...</td>\n",
              "      <td>...</td>\n",
              "    </tr>\n",
              "    <tr>\n",
              "      <th>1999995</th>\n",
              "      <td>d8bfd4ec88f0f3773a9e022e3c1a0f1d3b7b6a92</td>\n",
              "      <td>SOJEYPO12AAA8C6B0E</td>\n",
              "      <td>2</td>\n",
              "      <td>Ignorance (Album Version)</td>\n",
              "      <td>Ignorance</td>\n",
              "      <td>Paramore</td>\n",
              "      <td>0</td>\n",
              "    </tr>\n",
              "    <tr>\n",
              "      <th>1999996</th>\n",
              "      <td>d8bfd4ec88f0f3773a9e022e3c1a0f1d3b7b6a92</td>\n",
              "      <td>SOJJYDE12AF729FC16</td>\n",
              "      <td>4</td>\n",
              "      <td>Two Is Better Than One</td>\n",
              "      <td>Love Drunk</td>\n",
              "      <td>Boys Like Girls featuring Taylor Swift</td>\n",
              "      <td>2009</td>\n",
              "    </tr>\n",
              "    <tr>\n",
              "      <th>1999997</th>\n",
              "      <td>d8bfd4ec88f0f3773a9e022e3c1a0f1d3b7b6a92</td>\n",
              "      <td>SOJKQSF12A6D4F5EE9</td>\n",
              "      <td>3</td>\n",
              "      <td>What I've Done (Album Version)</td>\n",
              "      <td>What I've Done</td>\n",
              "      <td>Linkin Park</td>\n",
              "      <td>2007</td>\n",
              "    </tr>\n",
              "    <tr>\n",
              "      <th>1999998</th>\n",
              "      <td>d8bfd4ec88f0f3773a9e022e3c1a0f1d3b7b6a92</td>\n",
              "      <td>SOJUXGA12AC961885C</td>\n",
              "      <td>1</td>\n",
              "      <td>Up</td>\n",
              "      <td>My Worlds</td>\n",
              "      <td>Justin Bieber</td>\n",
              "      <td>2010</td>\n",
              "    </tr>\n",
              "    <tr>\n",
              "      <th>1999999</th>\n",
              "      <td>d8bfd4ec88f0f3773a9e022e3c1a0f1d3b7b6a92</td>\n",
              "      <td>SOJYOLS12A8C13C06F</td>\n",
              "      <td>1</td>\n",
              "      <td>Soil_ Soil (Album Version)</td>\n",
              "      <td>The Con</td>\n",
              "      <td>Tegan And Sara</td>\n",
              "      <td>2007</td>\n",
              "    </tr>\n",
              "  </tbody>\n",
              "</table>\n",
              "<p>2000000 rows × 7 columns</p>\n",
              "</div>\n",
              "    <div class=\"colab-df-buttons\">\n",
              "\n",
              "  <div class=\"colab-df-container\">\n",
              "    <button class=\"colab-df-convert\" onclick=\"convertToInteractive('df-07fcd339-8390-48f7-893c-c882f435b0d4')\"\n",
              "            title=\"Convert this dataframe to an interactive table.\"\n",
              "            style=\"display:none;\">\n",
              "\n",
              "  <svg xmlns=\"http://www.w3.org/2000/svg\" height=\"24px\" viewBox=\"0 -960 960 960\">\n",
              "    <path d=\"M120-120v-720h720v720H120Zm60-500h600v-160H180v160Zm220 220h160v-160H400v160Zm0 220h160v-160H400v160ZM180-400h160v-160H180v160Zm440 0h160v-160H620v160ZM180-180h160v-160H180v160Zm440 0h160v-160H620v160Z\"/>\n",
              "  </svg>\n",
              "    </button>\n",
              "\n",
              "  <style>\n",
              "    .colab-df-container {\n",
              "      display:flex;\n",
              "      gap: 12px;\n",
              "    }\n",
              "\n",
              "    .colab-df-convert {\n",
              "      background-color: #E8F0FE;\n",
              "      border: none;\n",
              "      border-radius: 50%;\n",
              "      cursor: pointer;\n",
              "      display: none;\n",
              "      fill: #1967D2;\n",
              "      height: 32px;\n",
              "      padding: 0 0 0 0;\n",
              "      width: 32px;\n",
              "    }\n",
              "\n",
              "    .colab-df-convert:hover {\n",
              "      background-color: #E2EBFA;\n",
              "      box-shadow: 0px 1px 2px rgba(60, 64, 67, 0.3), 0px 1px 3px 1px rgba(60, 64, 67, 0.15);\n",
              "      fill: #174EA6;\n",
              "    }\n",
              "\n",
              "    .colab-df-buttons div {\n",
              "      margin-bottom: 4px;\n",
              "    }\n",
              "\n",
              "    [theme=dark] .colab-df-convert {\n",
              "      background-color: #3B4455;\n",
              "      fill: #D2E3FC;\n",
              "    }\n",
              "\n",
              "    [theme=dark] .colab-df-convert:hover {\n",
              "      background-color: #434B5C;\n",
              "      box-shadow: 0px 1px 3px 1px rgba(0, 0, 0, 0.15);\n",
              "      filter: drop-shadow(0px 1px 2px rgba(0, 0, 0, 0.3));\n",
              "      fill: #FFFFFF;\n",
              "    }\n",
              "  </style>\n",
              "\n",
              "    <script>\n",
              "      const buttonEl =\n",
              "        document.querySelector('#df-07fcd339-8390-48f7-893c-c882f435b0d4 button.colab-df-convert');\n",
              "      buttonEl.style.display =\n",
              "        google.colab.kernel.accessAllowed ? 'block' : 'none';\n",
              "\n",
              "      async function convertToInteractive(key) {\n",
              "        const element = document.querySelector('#df-07fcd339-8390-48f7-893c-c882f435b0d4');\n",
              "        const dataTable =\n",
              "          await google.colab.kernel.invokeFunction('convertToInteractive',\n",
              "                                                    [key], {});\n",
              "        if (!dataTable) return;\n",
              "\n",
              "        const docLinkHtml = 'Like what you see? Visit the ' +\n",
              "          '<a target=\"_blank\" href=https://colab.research.google.com/notebooks/data_table.ipynb>data table notebook</a>'\n",
              "          + ' to learn more about interactive tables.';\n",
              "        element.innerHTML = '';\n",
              "        dataTable['output_type'] = 'display_data';\n",
              "        await google.colab.output.renderOutput(dataTable, element);\n",
              "        const docLink = document.createElement('div');\n",
              "        docLink.innerHTML = docLinkHtml;\n",
              "        element.appendChild(docLink);\n",
              "      }\n",
              "    </script>\n",
              "  </div>\n",
              "\n",
              "\n",
              "<div id=\"df-fe454baf-c9a2-4ce7-ba6d-c5ef974820e1\">\n",
              "  <button class=\"colab-df-quickchart\" onclick=\"quickchart('df-fe454baf-c9a2-4ce7-ba6d-c5ef974820e1')\"\n",
              "            title=\"Suggest charts.\"\n",
              "            style=\"display:none;\">\n",
              "\n",
              "<svg xmlns=\"http://www.w3.org/2000/svg\" height=\"24px\"viewBox=\"0 0 24 24\"\n",
              "     width=\"24px\">\n",
              "    <g>\n",
              "        <path d=\"M19 3H5c-1.1 0-2 .9-2 2v14c0 1.1.9 2 2 2h14c1.1 0 2-.9 2-2V5c0-1.1-.9-2-2-2zM9 17H7v-7h2v7zm4 0h-2V7h2v10zm4 0h-2v-4h2v4z\"/>\n",
              "    </g>\n",
              "</svg>\n",
              "  </button>\n",
              "\n",
              "<style>\n",
              "  .colab-df-quickchart {\n",
              "      --bg-color: #E8F0FE;\n",
              "      --fill-color: #1967D2;\n",
              "      --hover-bg-color: #E2EBFA;\n",
              "      --hover-fill-color: #174EA6;\n",
              "      --disabled-fill-color: #AAA;\n",
              "      --disabled-bg-color: #DDD;\n",
              "  }\n",
              "\n",
              "  [theme=dark] .colab-df-quickchart {\n",
              "      --bg-color: #3B4455;\n",
              "      --fill-color: #D2E3FC;\n",
              "      --hover-bg-color: #434B5C;\n",
              "      --hover-fill-color: #FFFFFF;\n",
              "      --disabled-bg-color: #3B4455;\n",
              "      --disabled-fill-color: #666;\n",
              "  }\n",
              "\n",
              "  .colab-df-quickchart {\n",
              "    background-color: var(--bg-color);\n",
              "    border: none;\n",
              "    border-radius: 50%;\n",
              "    cursor: pointer;\n",
              "    display: none;\n",
              "    fill: var(--fill-color);\n",
              "    height: 32px;\n",
              "    padding: 0;\n",
              "    width: 32px;\n",
              "  }\n",
              "\n",
              "  .colab-df-quickchart:hover {\n",
              "    background-color: var(--hover-bg-color);\n",
              "    box-shadow: 0 1px 2px rgba(60, 64, 67, 0.3), 0 1px 3px 1px rgba(60, 64, 67, 0.15);\n",
              "    fill: var(--button-hover-fill-color);\n",
              "  }\n",
              "\n",
              "  .colab-df-quickchart-complete:disabled,\n",
              "  .colab-df-quickchart-complete:disabled:hover {\n",
              "    background-color: var(--disabled-bg-color);\n",
              "    fill: var(--disabled-fill-color);\n",
              "    box-shadow: none;\n",
              "  }\n",
              "\n",
              "  .colab-df-spinner {\n",
              "    border: 2px solid var(--fill-color);\n",
              "    border-color: transparent;\n",
              "    border-bottom-color: var(--fill-color);\n",
              "    animation:\n",
              "      spin 1s steps(1) infinite;\n",
              "  }\n",
              "\n",
              "  @keyframes spin {\n",
              "    0% {\n",
              "      border-color: transparent;\n",
              "      border-bottom-color: var(--fill-color);\n",
              "      border-left-color: var(--fill-color);\n",
              "    }\n",
              "    20% {\n",
              "      border-color: transparent;\n",
              "      border-left-color: var(--fill-color);\n",
              "      border-top-color: var(--fill-color);\n",
              "    }\n",
              "    30% {\n",
              "      border-color: transparent;\n",
              "      border-left-color: var(--fill-color);\n",
              "      border-top-color: var(--fill-color);\n",
              "      border-right-color: var(--fill-color);\n",
              "    }\n",
              "    40% {\n",
              "      border-color: transparent;\n",
              "      border-right-color: var(--fill-color);\n",
              "      border-top-color: var(--fill-color);\n",
              "    }\n",
              "    60% {\n",
              "      border-color: transparent;\n",
              "      border-right-color: var(--fill-color);\n",
              "    }\n",
              "    80% {\n",
              "      border-color: transparent;\n",
              "      border-right-color: var(--fill-color);\n",
              "      border-bottom-color: var(--fill-color);\n",
              "    }\n",
              "    90% {\n",
              "      border-color: transparent;\n",
              "      border-bottom-color: var(--fill-color);\n",
              "    }\n",
              "  }\n",
              "</style>\n",
              "\n",
              "  <script>\n",
              "    async function quickchart(key) {\n",
              "      const quickchartButtonEl =\n",
              "        document.querySelector('#' + key + ' button');\n",
              "      quickchartButtonEl.disabled = true;  // To prevent multiple clicks.\n",
              "      quickchartButtonEl.classList.add('colab-df-spinner');\n",
              "      try {\n",
              "        const charts = await google.colab.kernel.invokeFunction(\n",
              "            'suggestCharts', [key], {});\n",
              "      } catch (error) {\n",
              "        console.error('Error during call to suggestCharts:', error);\n",
              "      }\n",
              "      quickchartButtonEl.classList.remove('colab-df-spinner');\n",
              "      quickchartButtonEl.classList.add('colab-df-quickchart-complete');\n",
              "    }\n",
              "    (() => {\n",
              "      let quickchartButtonEl =\n",
              "        document.querySelector('#df-fe454baf-c9a2-4ce7-ba6d-c5ef974820e1 button');\n",
              "      quickchartButtonEl.style.display =\n",
              "        google.colab.kernel.accessAllowed ? 'block' : 'none';\n",
              "    })();\n",
              "  </script>\n",
              "</div>\n",
              "    </div>\n",
              "  </div>\n"
            ]
          },
          "metadata": {},
          "execution_count": 13
        }
      ],
      "source": [
        "# Left merge the count_df and song_df data on \"song_id\". Drop duplicates from song_df data simultaneously\n",
        "\n",
        "# Drop the column 'Unnamed: 0'\n",
        "\n",
        "df = pd.merge(count_df, song_df.drop_duplicates(['song_id']), on=\"song_id\", how=\"left\")\n",
        "df = df.drop(['Unnamed: 0'],axis=1)\n",
        "df"
      ]
    },
    {
      "cell_type": "markdown",
      "metadata": {
        "id": "yWeY9ZT43XFX"
      },
      "source": [
        "**Think About It:** As the user_id and song_id are encrypted. Can they be encoded to numeric features?"
      ]
    },
    {
      "cell_type": "code",
      "execution_count": 14,
      "metadata": {
        "id": "oxeoOVxh2T9U"
      },
      "outputs": [],
      "source": [
        "# Apply label encoding for \"user_id\" and \"song_id\"\n",
        "# Label encoding code\n",
        "from sklearn.preprocessing import LabelEncoder\n",
        "\n",
        "le = LabelEncoder()\n",
        "df['user_id'] = le.fit_transform(df['user_id'])\n",
        "\n",
        "df['song_id'] = le.fit_transform(df['song_id'])\n"
      ]
    },
    {
      "cell_type": "markdown",
      "metadata": {
        "id": "6Q9EFYwj35Ju"
      },
      "source": [
        "**Think About It:** As the data also contains users who have listened to very few songs and vice versa, is it required to filter the data so that it contains users who have listened to a good count of songs and vice versa?"
      ]
    },
    {
      "cell_type": "code",
      "execution_count": 15,
      "metadata": {
        "id": "7GGH9TW0_9uX"
      },
      "outputs": [],
      "source": [
        "# Get the column containing the users\n",
        "users = df.user_id\n",
        "\n",
        "# Create a dictionary from users to their number of songs\n",
        "ratings_count = dict()\n",
        "\n",
        "for user in users:\n",
        "    # If we already have the user, just add 1 to their rating count\n",
        "    if user in ratings_count:\n",
        "        ratings_count[user] += 1\n",
        "\n",
        "    # Otherwise, set their rating count to 1\n",
        "    else:\n",
        "        ratings_count[user] = 1"
      ]
    },
    {
      "cell_type": "code",
      "execution_count": 16,
      "metadata": {
        "id": "-cc6mOK7_9uX"
      },
      "outputs": [],
      "source": [
        "# We want our users to have listened at least 90 songs\n",
        "RATINGS_CUTOFF = 90\n",
        "\n",
        "# Create a list of users who need to be removed\n",
        "remove_users = []\n",
        "\n",
        "for user, num_ratings in ratings_count.items():\n",
        "\n",
        "    if num_ratings < RATINGS_CUTOFF:\n",
        "        remove_users.append(user)\n",
        "\n",
        "df = df.loc[ ~ df.user_id.isin(remove_users)]"
      ]
    },
    {
      "cell_type": "code",
      "execution_count": 17,
      "metadata": {
        "id": "B5BS-Wk5_9uY"
      },
      "outputs": [],
      "source": [
        "# Get the column containing the songs\n",
        "songs = df.song_id\n",
        "\n",
        "# Create a dictionary from songs to their number of users\n",
        "ratings_count = dict()\n",
        "\n",
        "for song in songs:\n",
        "    # If we already have the song, just add 1 to their rating count\n",
        "    if song in ratings_count:\n",
        "        ratings_count[song] += 1\n",
        "\n",
        "    # Otherwise, set their rating count to 1\n",
        "    else:\n",
        "        ratings_count[song] = 1"
      ]
    },
    {
      "cell_type": "code",
      "execution_count": 18,
      "metadata": {
        "id": "_nCtGwGO_9uY"
      },
      "outputs": [],
      "source": [
        "# We want our song to be listened by atleast 120 users to be considred\n",
        "RATINGS_CUTOFF = 120\n",
        "\n",
        "remove_songs = []\n",
        "\n",
        "for song, num_ratings in ratings_count.items():\n",
        "    if num_ratings < RATINGS_CUTOFF:\n",
        "        remove_songs.append(song)\n",
        "\n",
        "df_final= df.loc[ ~ df.song_id.isin(remove_songs)]"
      ]
    },
    {
      "cell_type": "code",
      "source": [
        "df_final.head()"
      ],
      "metadata": {
        "colab": {
          "base_uri": "https://localhost:8080/",
          "height": 206
        },
        "id": "hpyT-_TTCNhM",
        "outputId": "8607778c-5f79-4366-c0bb-18719ce2b536"
      },
      "execution_count": 19,
      "outputs": [
        {
          "output_type": "execute_result",
          "data": {
            "text/plain": [
              "     user_id  song_id  play_count                            title  \\\n",
              "200     6958      447           1               Daisy And Prudence   \n",
              "202     6958      512           1  The Ballad of Michael Valentine   \n",
              "203     6958      549           1        I Stand Corrected (Album)   \n",
              "204     6958      703           1            They Might Follow You   \n",
              "205     6958      719           1                       Monkey Man   \n",
              "\n",
              "                  release      artist_name  year  \n",
              "200          Distillation     Erin McKeown  2000  \n",
              "202               Sawdust      The Killers  2004  \n",
              "203       Vampire Weekend  Vampire Weekend  2007  \n",
              "204           Tiny Vipers      Tiny Vipers  2007  \n",
              "205  You Know I'm No Good    Amy Winehouse  2007  "
            ],
            "text/html": [
              "\n",
              "  <div id=\"df-77f6e6ae-7280-438f-8f0b-9ff0f7f39a9e\" class=\"colab-df-container\">\n",
              "    <div>\n",
              "<style scoped>\n",
              "    .dataframe tbody tr th:only-of-type {\n",
              "        vertical-align: middle;\n",
              "    }\n",
              "\n",
              "    .dataframe tbody tr th {\n",
              "        vertical-align: top;\n",
              "    }\n",
              "\n",
              "    .dataframe thead th {\n",
              "        text-align: right;\n",
              "    }\n",
              "</style>\n",
              "<table border=\"1\" class=\"dataframe\">\n",
              "  <thead>\n",
              "    <tr style=\"text-align: right;\">\n",
              "      <th></th>\n",
              "      <th>user_id</th>\n",
              "      <th>song_id</th>\n",
              "      <th>play_count</th>\n",
              "      <th>title</th>\n",
              "      <th>release</th>\n",
              "      <th>artist_name</th>\n",
              "      <th>year</th>\n",
              "    </tr>\n",
              "  </thead>\n",
              "  <tbody>\n",
              "    <tr>\n",
              "      <th>200</th>\n",
              "      <td>6958</td>\n",
              "      <td>447</td>\n",
              "      <td>1</td>\n",
              "      <td>Daisy And Prudence</td>\n",
              "      <td>Distillation</td>\n",
              "      <td>Erin McKeown</td>\n",
              "      <td>2000</td>\n",
              "    </tr>\n",
              "    <tr>\n",
              "      <th>202</th>\n",
              "      <td>6958</td>\n",
              "      <td>512</td>\n",
              "      <td>1</td>\n",
              "      <td>The Ballad of Michael Valentine</td>\n",
              "      <td>Sawdust</td>\n",
              "      <td>The Killers</td>\n",
              "      <td>2004</td>\n",
              "    </tr>\n",
              "    <tr>\n",
              "      <th>203</th>\n",
              "      <td>6958</td>\n",
              "      <td>549</td>\n",
              "      <td>1</td>\n",
              "      <td>I Stand Corrected (Album)</td>\n",
              "      <td>Vampire Weekend</td>\n",
              "      <td>Vampire Weekend</td>\n",
              "      <td>2007</td>\n",
              "    </tr>\n",
              "    <tr>\n",
              "      <th>204</th>\n",
              "      <td>6958</td>\n",
              "      <td>703</td>\n",
              "      <td>1</td>\n",
              "      <td>They Might Follow You</td>\n",
              "      <td>Tiny Vipers</td>\n",
              "      <td>Tiny Vipers</td>\n",
              "      <td>2007</td>\n",
              "    </tr>\n",
              "    <tr>\n",
              "      <th>205</th>\n",
              "      <td>6958</td>\n",
              "      <td>719</td>\n",
              "      <td>1</td>\n",
              "      <td>Monkey Man</td>\n",
              "      <td>You Know I'm No Good</td>\n",
              "      <td>Amy Winehouse</td>\n",
              "      <td>2007</td>\n",
              "    </tr>\n",
              "  </tbody>\n",
              "</table>\n",
              "</div>\n",
              "    <div class=\"colab-df-buttons\">\n",
              "\n",
              "  <div class=\"colab-df-container\">\n",
              "    <button class=\"colab-df-convert\" onclick=\"convertToInteractive('df-77f6e6ae-7280-438f-8f0b-9ff0f7f39a9e')\"\n",
              "            title=\"Convert this dataframe to an interactive table.\"\n",
              "            style=\"display:none;\">\n",
              "\n",
              "  <svg xmlns=\"http://www.w3.org/2000/svg\" height=\"24px\" viewBox=\"0 -960 960 960\">\n",
              "    <path d=\"M120-120v-720h720v720H120Zm60-500h600v-160H180v160Zm220 220h160v-160H400v160Zm0 220h160v-160H400v160ZM180-400h160v-160H180v160Zm440 0h160v-160H620v160ZM180-180h160v-160H180v160Zm440 0h160v-160H620v160Z\"/>\n",
              "  </svg>\n",
              "    </button>\n",
              "\n",
              "  <style>\n",
              "    .colab-df-container {\n",
              "      display:flex;\n",
              "      gap: 12px;\n",
              "    }\n",
              "\n",
              "    .colab-df-convert {\n",
              "      background-color: #E8F0FE;\n",
              "      border: none;\n",
              "      border-radius: 50%;\n",
              "      cursor: pointer;\n",
              "      display: none;\n",
              "      fill: #1967D2;\n",
              "      height: 32px;\n",
              "      padding: 0 0 0 0;\n",
              "      width: 32px;\n",
              "    }\n",
              "\n",
              "    .colab-df-convert:hover {\n",
              "      background-color: #E2EBFA;\n",
              "      box-shadow: 0px 1px 2px rgba(60, 64, 67, 0.3), 0px 1px 3px 1px rgba(60, 64, 67, 0.15);\n",
              "      fill: #174EA6;\n",
              "    }\n",
              "\n",
              "    .colab-df-buttons div {\n",
              "      margin-bottom: 4px;\n",
              "    }\n",
              "\n",
              "    [theme=dark] .colab-df-convert {\n",
              "      background-color: #3B4455;\n",
              "      fill: #D2E3FC;\n",
              "    }\n",
              "\n",
              "    [theme=dark] .colab-df-convert:hover {\n",
              "      background-color: #434B5C;\n",
              "      box-shadow: 0px 1px 3px 1px rgba(0, 0, 0, 0.15);\n",
              "      filter: drop-shadow(0px 1px 2px rgba(0, 0, 0, 0.3));\n",
              "      fill: #FFFFFF;\n",
              "    }\n",
              "  </style>\n",
              "\n",
              "    <script>\n",
              "      const buttonEl =\n",
              "        document.querySelector('#df-77f6e6ae-7280-438f-8f0b-9ff0f7f39a9e button.colab-df-convert');\n",
              "      buttonEl.style.display =\n",
              "        google.colab.kernel.accessAllowed ? 'block' : 'none';\n",
              "\n",
              "      async function convertToInteractive(key) {\n",
              "        const element = document.querySelector('#df-77f6e6ae-7280-438f-8f0b-9ff0f7f39a9e');\n",
              "        const dataTable =\n",
              "          await google.colab.kernel.invokeFunction('convertToInteractive',\n",
              "                                                    [key], {});\n",
              "        if (!dataTable) return;\n",
              "\n",
              "        const docLinkHtml = 'Like what you see? Visit the ' +\n",
              "          '<a target=\"_blank\" href=https://colab.research.google.com/notebooks/data_table.ipynb>data table notebook</a>'\n",
              "          + ' to learn more about interactive tables.';\n",
              "        element.innerHTML = '';\n",
              "        dataTable['output_type'] = 'display_data';\n",
              "        await google.colab.output.renderOutput(dataTable, element);\n",
              "        const docLink = document.createElement('div');\n",
              "        docLink.innerHTML = docLinkHtml;\n",
              "        element.appendChild(docLink);\n",
              "      }\n",
              "    </script>\n",
              "  </div>\n",
              "\n",
              "\n",
              "<div id=\"df-04cbcda1-c168-44a4-9b13-003764efa385\">\n",
              "  <button class=\"colab-df-quickchart\" onclick=\"quickchart('df-04cbcda1-c168-44a4-9b13-003764efa385')\"\n",
              "            title=\"Suggest charts.\"\n",
              "            style=\"display:none;\">\n",
              "\n",
              "<svg xmlns=\"http://www.w3.org/2000/svg\" height=\"24px\"viewBox=\"0 0 24 24\"\n",
              "     width=\"24px\">\n",
              "    <g>\n",
              "        <path d=\"M19 3H5c-1.1 0-2 .9-2 2v14c0 1.1.9 2 2 2h14c1.1 0 2-.9 2-2V5c0-1.1-.9-2-2-2zM9 17H7v-7h2v7zm4 0h-2V7h2v10zm4 0h-2v-4h2v4z\"/>\n",
              "    </g>\n",
              "</svg>\n",
              "  </button>\n",
              "\n",
              "<style>\n",
              "  .colab-df-quickchart {\n",
              "      --bg-color: #E8F0FE;\n",
              "      --fill-color: #1967D2;\n",
              "      --hover-bg-color: #E2EBFA;\n",
              "      --hover-fill-color: #174EA6;\n",
              "      --disabled-fill-color: #AAA;\n",
              "      --disabled-bg-color: #DDD;\n",
              "  }\n",
              "\n",
              "  [theme=dark] .colab-df-quickchart {\n",
              "      --bg-color: #3B4455;\n",
              "      --fill-color: #D2E3FC;\n",
              "      --hover-bg-color: #434B5C;\n",
              "      --hover-fill-color: #FFFFFF;\n",
              "      --disabled-bg-color: #3B4455;\n",
              "      --disabled-fill-color: #666;\n",
              "  }\n",
              "\n",
              "  .colab-df-quickchart {\n",
              "    background-color: var(--bg-color);\n",
              "    border: none;\n",
              "    border-radius: 50%;\n",
              "    cursor: pointer;\n",
              "    display: none;\n",
              "    fill: var(--fill-color);\n",
              "    height: 32px;\n",
              "    padding: 0;\n",
              "    width: 32px;\n",
              "  }\n",
              "\n",
              "  .colab-df-quickchart:hover {\n",
              "    background-color: var(--hover-bg-color);\n",
              "    box-shadow: 0 1px 2px rgba(60, 64, 67, 0.3), 0 1px 3px 1px rgba(60, 64, 67, 0.15);\n",
              "    fill: var(--button-hover-fill-color);\n",
              "  }\n",
              "\n",
              "  .colab-df-quickchart-complete:disabled,\n",
              "  .colab-df-quickchart-complete:disabled:hover {\n",
              "    background-color: var(--disabled-bg-color);\n",
              "    fill: var(--disabled-fill-color);\n",
              "    box-shadow: none;\n",
              "  }\n",
              "\n",
              "  .colab-df-spinner {\n",
              "    border: 2px solid var(--fill-color);\n",
              "    border-color: transparent;\n",
              "    border-bottom-color: var(--fill-color);\n",
              "    animation:\n",
              "      spin 1s steps(1) infinite;\n",
              "  }\n",
              "\n",
              "  @keyframes spin {\n",
              "    0% {\n",
              "      border-color: transparent;\n",
              "      border-bottom-color: var(--fill-color);\n",
              "      border-left-color: var(--fill-color);\n",
              "    }\n",
              "    20% {\n",
              "      border-color: transparent;\n",
              "      border-left-color: var(--fill-color);\n",
              "      border-top-color: var(--fill-color);\n",
              "    }\n",
              "    30% {\n",
              "      border-color: transparent;\n",
              "      border-left-color: var(--fill-color);\n",
              "      border-top-color: var(--fill-color);\n",
              "      border-right-color: var(--fill-color);\n",
              "    }\n",
              "    40% {\n",
              "      border-color: transparent;\n",
              "      border-right-color: var(--fill-color);\n",
              "      border-top-color: var(--fill-color);\n",
              "    }\n",
              "    60% {\n",
              "      border-color: transparent;\n",
              "      border-right-color: var(--fill-color);\n",
              "    }\n",
              "    80% {\n",
              "      border-color: transparent;\n",
              "      border-right-color: var(--fill-color);\n",
              "      border-bottom-color: var(--fill-color);\n",
              "    }\n",
              "    90% {\n",
              "      border-color: transparent;\n",
              "      border-bottom-color: var(--fill-color);\n",
              "    }\n",
              "  }\n",
              "</style>\n",
              "\n",
              "  <script>\n",
              "    async function quickchart(key) {\n",
              "      const quickchartButtonEl =\n",
              "        document.querySelector('#' + key + ' button');\n",
              "      quickchartButtonEl.disabled = true;  // To prevent multiple clicks.\n",
              "      quickchartButtonEl.classList.add('colab-df-spinner');\n",
              "      try {\n",
              "        const charts = await google.colab.kernel.invokeFunction(\n",
              "            'suggestCharts', [key], {});\n",
              "      } catch (error) {\n",
              "        console.error('Error during call to suggestCharts:', error);\n",
              "      }\n",
              "      quickchartButtonEl.classList.remove('colab-df-spinner');\n",
              "      quickchartButtonEl.classList.add('colab-df-quickchart-complete');\n",
              "    }\n",
              "    (() => {\n",
              "      let quickchartButtonEl =\n",
              "        document.querySelector('#df-04cbcda1-c168-44a4-9b13-003764efa385 button');\n",
              "      quickchartButtonEl.style.display =\n",
              "        google.colab.kernel.accessAllowed ? 'block' : 'none';\n",
              "    })();\n",
              "  </script>\n",
              "</div>\n",
              "    </div>\n",
              "  </div>\n"
            ]
          },
          "metadata": {},
          "execution_count": 19
        }
      ]
    },
    {
      "cell_type": "code",
      "execution_count": 20,
      "metadata": {
        "id": "8qaKeoMcGpad"
      },
      "outputs": [],
      "source": [
        "# Drop records with play_count more than(>) 5\n",
        "\n",
        "df_final = df_final[df_final['play_count'] <= 5]"
      ]
    },
    {
      "cell_type": "code",
      "execution_count": 21,
      "metadata": {
        "id": "aL1JZ00o5JtQ",
        "colab": {
          "base_uri": "https://localhost:8080/"
        },
        "outputId": "feddd257-329f-4cf8-9acb-96ba0b6e5562"
      },
      "outputs": [
        {
          "output_type": "execute_result",
          "data": {
            "text/plain": [
              "(117876, 7)"
            ]
          },
          "metadata": {},
          "execution_count": 21
        }
      ],
      "source": [
        "# Check the shape of the data\n",
        "df_final.shape\n"
      ]
    },
    {
      "cell_type": "markdown",
      "metadata": {
        "id": "uZcr1Eke2T9W"
      },
      "source": [
        "## **Exploratory Data Analysis**"
      ]
    },
    {
      "cell_type": "markdown",
      "metadata": {
        "id": "ByuHmvWDeBJI"
      },
      "source": [
        "### **Let's check the total number of unique users, songs, artists in the data**"
      ]
    },
    {
      "cell_type": "markdown",
      "metadata": {
        "id": "DE_gukSJ2T9W"
      },
      "source": [
        "Total number of unique user id"
      ]
    },
    {
      "cell_type": "code",
      "execution_count": 22,
      "metadata": {
        "id": "n5E24_Ec2T9W",
        "colab": {
          "base_uri": "https://localhost:8080/"
        },
        "outputId": "7378dfe6-da23-4874-d63f-0b1d0e7a8333"
      },
      "outputs": [
        {
          "output_type": "execute_result",
          "data": {
            "text/plain": [
              "3155"
            ]
          },
          "metadata": {},
          "execution_count": 22
        }
      ],
      "source": [
        "# Display total number of unique user_id\n",
        "df_final['user_id'].nunique()"
      ]
    },
    {
      "cell_type": "markdown",
      "metadata": {
        "id": "wV3BOTdJII-t"
      },
      "source": [
        "Total number of unique song id is 3155"
      ]
    },
    {
      "cell_type": "code",
      "execution_count": 23,
      "metadata": {
        "id": "5SlpPkIE2T9W",
        "colab": {
          "base_uri": "https://localhost:8080/"
        },
        "outputId": "47263936-698b-4b68-c895-b25cbf80a5b3"
      },
      "outputs": [
        {
          "output_type": "execute_result",
          "data": {
            "text/plain": [
              "563"
            ]
          },
          "metadata": {},
          "execution_count": 23
        }
      ],
      "source": [
        "# Display total number of unique song_id\n",
        "df_final['song_id'].nunique()\n"
      ]
    },
    {
      "cell_type": "markdown",
      "metadata": {
        "id": "eGXPsCjXVpUW"
      },
      "source": [
        "Total number of unique Songs is 563"
      ]
    },
    {
      "cell_type": "code",
      "execution_count": 24,
      "metadata": {
        "id": "qSVUwb8h2T9X",
        "colab": {
          "base_uri": "https://localhost:8080/"
        },
        "outputId": "628a85bd-03e4-4404-e7fa-b7766191cf6e"
      },
      "outputs": [
        {
          "output_type": "execute_result",
          "data": {
            "text/plain": [
              "232"
            ]
          },
          "metadata": {},
          "execution_count": 24
        }
      ],
      "source": [
        "# Display total number of unique artists\n",
        "df_final['artist_name'].nunique()\n"
      ]
    },
    {
      "cell_type": "markdown",
      "source": [
        "The total number of unique artists is 232"
      ],
      "metadata": {
        "id": "_P9N_jWbDwYS"
      }
    },
    {
      "cell_type": "markdown",
      "metadata": {
        "id": "rLdIfv22ISBK"
      },
      "source": [
        "### **Let's find out about the most interacted songs and interacted users**"
      ]
    },
    {
      "cell_type": "markdown",
      "metadata": {
        "id": "W3DyN_8atsCx"
      },
      "source": [
        "Most interacted songs"
      ]
    },
    {
      "cell_type": "code",
      "execution_count": 25,
      "metadata": {
        "id": "qWDrvIFF2T9X",
        "colab": {
          "base_uri": "https://localhost:8080/"
        },
        "outputId": "2363d416-b92e-429b-85c3-fb6eb10a86aa"
      },
      "outputs": [
        {
          "output_type": "execute_result",
          "data": {
            "text/plain": [
              "song_id\n",
              "352     1634\n",
              "2220    1583\n",
              "8582    1463\n",
              "5531    1427\n",
              "4448    1291\n",
              "        ... \n",
              "122      158\n",
              "1659     157\n",
              "2501     157\n",
              "6121     155\n",
              "2342     146\n",
              "Name: play_count, Length: 563, dtype: int64"
            ]
          },
          "metadata": {},
          "execution_count": 25
        }
      ],
      "source": [
        "df_final.groupby('song_id')['play_count'].sum().sort_values(ascending = False)"
      ]
    },
    {
      "cell_type": "markdown",
      "source": [
        "The most interacted songs are the following song_ids: 352, 2220, 8582."
      ],
      "metadata": {
        "id": "SRinP7oUEshQ"
      }
    },
    {
      "cell_type": "markdown",
      "metadata": {
        "id": "nnoXCc9zIV45"
      },
      "source": [
        "Most interacted users"
      ]
    },
    {
      "cell_type": "code",
      "execution_count": 26,
      "metadata": {
        "id": "971EiBdf2T9X",
        "colab": {
          "base_uri": "https://localhost:8080/"
        },
        "outputId": "aad21380-b98a-4df1-ed5e-50cbde0ae142"
      },
      "outputs": [
        {
          "output_type": "execute_result",
          "data": {
            "text/plain": [
              "user_id\n",
              "3237     586\n",
              "15733    479\n",
              "62759    438\n",
              "43041    417\n",
              "27401    409\n",
              "        ... \n",
              "33657      1\n",
              "14439      1\n",
              "34194      1\n",
              "45476      1\n",
              "76347      1\n",
              "Name: play_count, Length: 3155, dtype: int64"
            ]
          },
          "metadata": {},
          "execution_count": 26
        }
      ],
      "source": [
        "df_final.groupby('user_id')['play_count'].sum().sort_values(ascending = False)"
      ]
    },
    {
      "cell_type": "markdown",
      "source": [
        "The top 3 most interacted users are the following user_ids: 3237, 15733, 62759"
      ],
      "metadata": {
        "id": "zDwM7Da6E6DV"
      }
    },
    {
      "cell_type": "markdown",
      "metadata": {
        "id": "joFF5zndX1Dk"
      },
      "source": [
        "Songs played in a year"
      ]
    },
    {
      "cell_type": "code",
      "execution_count": 27,
      "metadata": {
        "colab": {
          "base_uri": "https://localhost:8080/",
          "height": 238
        },
        "id": "bQp2iVMC2T9Y",
        "outputId": "8ed72d22-b1a7-4ce0-b069-84df9a903745"
      },
      "outputs": [
        {
          "output_type": "execute_result",
          "data": {
            "text/plain": [
              "      title\n",
              "year       \n",
              "2006   7592\n",
              "2007  13750\n",
              "2008  14031\n",
              "2009  16351\n",
              "2010   4087"
            ],
            "text/html": [
              "\n",
              "  <div id=\"df-dd600d52-84a2-4f25-9961-ba92c6d60224\" class=\"colab-df-container\">\n",
              "    <div>\n",
              "<style scoped>\n",
              "    .dataframe tbody tr th:only-of-type {\n",
              "        vertical-align: middle;\n",
              "    }\n",
              "\n",
              "    .dataframe tbody tr th {\n",
              "        vertical-align: top;\n",
              "    }\n",
              "\n",
              "    .dataframe thead th {\n",
              "        text-align: right;\n",
              "    }\n",
              "</style>\n",
              "<table border=\"1\" class=\"dataframe\">\n",
              "  <thead>\n",
              "    <tr style=\"text-align: right;\">\n",
              "      <th></th>\n",
              "      <th>title</th>\n",
              "    </tr>\n",
              "    <tr>\n",
              "      <th>year</th>\n",
              "      <th></th>\n",
              "    </tr>\n",
              "  </thead>\n",
              "  <tbody>\n",
              "    <tr>\n",
              "      <th>2006</th>\n",
              "      <td>7592</td>\n",
              "    </tr>\n",
              "    <tr>\n",
              "      <th>2007</th>\n",
              "      <td>13750</td>\n",
              "    </tr>\n",
              "    <tr>\n",
              "      <th>2008</th>\n",
              "      <td>14031</td>\n",
              "    </tr>\n",
              "    <tr>\n",
              "      <th>2009</th>\n",
              "      <td>16351</td>\n",
              "    </tr>\n",
              "    <tr>\n",
              "      <th>2010</th>\n",
              "      <td>4087</td>\n",
              "    </tr>\n",
              "  </tbody>\n",
              "</table>\n",
              "</div>\n",
              "    <div class=\"colab-df-buttons\">\n",
              "\n",
              "  <div class=\"colab-df-container\">\n",
              "    <button class=\"colab-df-convert\" onclick=\"convertToInteractive('df-dd600d52-84a2-4f25-9961-ba92c6d60224')\"\n",
              "            title=\"Convert this dataframe to an interactive table.\"\n",
              "            style=\"display:none;\">\n",
              "\n",
              "  <svg xmlns=\"http://www.w3.org/2000/svg\" height=\"24px\" viewBox=\"0 -960 960 960\">\n",
              "    <path d=\"M120-120v-720h720v720H120Zm60-500h600v-160H180v160Zm220 220h160v-160H400v160Zm0 220h160v-160H400v160ZM180-400h160v-160H180v160Zm440 0h160v-160H620v160ZM180-180h160v-160H180v160Zm440 0h160v-160H620v160Z\"/>\n",
              "  </svg>\n",
              "    </button>\n",
              "\n",
              "  <style>\n",
              "    .colab-df-container {\n",
              "      display:flex;\n",
              "      gap: 12px;\n",
              "    }\n",
              "\n",
              "    .colab-df-convert {\n",
              "      background-color: #E8F0FE;\n",
              "      border: none;\n",
              "      border-radius: 50%;\n",
              "      cursor: pointer;\n",
              "      display: none;\n",
              "      fill: #1967D2;\n",
              "      height: 32px;\n",
              "      padding: 0 0 0 0;\n",
              "      width: 32px;\n",
              "    }\n",
              "\n",
              "    .colab-df-convert:hover {\n",
              "      background-color: #E2EBFA;\n",
              "      box-shadow: 0px 1px 2px rgba(60, 64, 67, 0.3), 0px 1px 3px 1px rgba(60, 64, 67, 0.15);\n",
              "      fill: #174EA6;\n",
              "    }\n",
              "\n",
              "    .colab-df-buttons div {\n",
              "      margin-bottom: 4px;\n",
              "    }\n",
              "\n",
              "    [theme=dark] .colab-df-convert {\n",
              "      background-color: #3B4455;\n",
              "      fill: #D2E3FC;\n",
              "    }\n",
              "\n",
              "    [theme=dark] .colab-df-convert:hover {\n",
              "      background-color: #434B5C;\n",
              "      box-shadow: 0px 1px 3px 1px rgba(0, 0, 0, 0.15);\n",
              "      filter: drop-shadow(0px 1px 2px rgba(0, 0, 0, 0.3));\n",
              "      fill: #FFFFFF;\n",
              "    }\n",
              "  </style>\n",
              "\n",
              "    <script>\n",
              "      const buttonEl =\n",
              "        document.querySelector('#df-dd600d52-84a2-4f25-9961-ba92c6d60224 button.colab-df-convert');\n",
              "      buttonEl.style.display =\n",
              "        google.colab.kernel.accessAllowed ? 'block' : 'none';\n",
              "\n",
              "      async function convertToInteractive(key) {\n",
              "        const element = document.querySelector('#df-dd600d52-84a2-4f25-9961-ba92c6d60224');\n",
              "        const dataTable =\n",
              "          await google.colab.kernel.invokeFunction('convertToInteractive',\n",
              "                                                    [key], {});\n",
              "        if (!dataTable) return;\n",
              "\n",
              "        const docLinkHtml = 'Like what you see? Visit the ' +\n",
              "          '<a target=\"_blank\" href=https://colab.research.google.com/notebooks/data_table.ipynb>data table notebook</a>'\n",
              "          + ' to learn more about interactive tables.';\n",
              "        element.innerHTML = '';\n",
              "        dataTable['output_type'] = 'display_data';\n",
              "        await google.colab.output.renderOutput(dataTable, element);\n",
              "        const docLink = document.createElement('div');\n",
              "        docLink.innerHTML = docLinkHtml;\n",
              "        element.appendChild(docLink);\n",
              "      }\n",
              "    </script>\n",
              "  </div>\n",
              "\n",
              "\n",
              "<div id=\"df-babf6dea-9ee5-4d1d-a8ab-6ba9281144bc\">\n",
              "  <button class=\"colab-df-quickchart\" onclick=\"quickchart('df-babf6dea-9ee5-4d1d-a8ab-6ba9281144bc')\"\n",
              "            title=\"Suggest charts.\"\n",
              "            style=\"display:none;\">\n",
              "\n",
              "<svg xmlns=\"http://www.w3.org/2000/svg\" height=\"24px\"viewBox=\"0 0 24 24\"\n",
              "     width=\"24px\">\n",
              "    <g>\n",
              "        <path d=\"M19 3H5c-1.1 0-2 .9-2 2v14c0 1.1.9 2 2 2h14c1.1 0 2-.9 2-2V5c0-1.1-.9-2-2-2zM9 17H7v-7h2v7zm4 0h-2V7h2v10zm4 0h-2v-4h2v4z\"/>\n",
              "    </g>\n",
              "</svg>\n",
              "  </button>\n",
              "\n",
              "<style>\n",
              "  .colab-df-quickchart {\n",
              "      --bg-color: #E8F0FE;\n",
              "      --fill-color: #1967D2;\n",
              "      --hover-bg-color: #E2EBFA;\n",
              "      --hover-fill-color: #174EA6;\n",
              "      --disabled-fill-color: #AAA;\n",
              "      --disabled-bg-color: #DDD;\n",
              "  }\n",
              "\n",
              "  [theme=dark] .colab-df-quickchart {\n",
              "      --bg-color: #3B4455;\n",
              "      --fill-color: #D2E3FC;\n",
              "      --hover-bg-color: #434B5C;\n",
              "      --hover-fill-color: #FFFFFF;\n",
              "      --disabled-bg-color: #3B4455;\n",
              "      --disabled-fill-color: #666;\n",
              "  }\n",
              "\n",
              "  .colab-df-quickchart {\n",
              "    background-color: var(--bg-color);\n",
              "    border: none;\n",
              "    border-radius: 50%;\n",
              "    cursor: pointer;\n",
              "    display: none;\n",
              "    fill: var(--fill-color);\n",
              "    height: 32px;\n",
              "    padding: 0;\n",
              "    width: 32px;\n",
              "  }\n",
              "\n",
              "  .colab-df-quickchart:hover {\n",
              "    background-color: var(--hover-bg-color);\n",
              "    box-shadow: 0 1px 2px rgba(60, 64, 67, 0.3), 0 1px 3px 1px rgba(60, 64, 67, 0.15);\n",
              "    fill: var(--button-hover-fill-color);\n",
              "  }\n",
              "\n",
              "  .colab-df-quickchart-complete:disabled,\n",
              "  .colab-df-quickchart-complete:disabled:hover {\n",
              "    background-color: var(--disabled-bg-color);\n",
              "    fill: var(--disabled-fill-color);\n",
              "    box-shadow: none;\n",
              "  }\n",
              "\n",
              "  .colab-df-spinner {\n",
              "    border: 2px solid var(--fill-color);\n",
              "    border-color: transparent;\n",
              "    border-bottom-color: var(--fill-color);\n",
              "    animation:\n",
              "      spin 1s steps(1) infinite;\n",
              "  }\n",
              "\n",
              "  @keyframes spin {\n",
              "    0% {\n",
              "      border-color: transparent;\n",
              "      border-bottom-color: var(--fill-color);\n",
              "      border-left-color: var(--fill-color);\n",
              "    }\n",
              "    20% {\n",
              "      border-color: transparent;\n",
              "      border-left-color: var(--fill-color);\n",
              "      border-top-color: var(--fill-color);\n",
              "    }\n",
              "    30% {\n",
              "      border-color: transparent;\n",
              "      border-left-color: var(--fill-color);\n",
              "      border-top-color: var(--fill-color);\n",
              "      border-right-color: var(--fill-color);\n",
              "    }\n",
              "    40% {\n",
              "      border-color: transparent;\n",
              "      border-right-color: var(--fill-color);\n",
              "      border-top-color: var(--fill-color);\n",
              "    }\n",
              "    60% {\n",
              "      border-color: transparent;\n",
              "      border-right-color: var(--fill-color);\n",
              "    }\n",
              "    80% {\n",
              "      border-color: transparent;\n",
              "      border-right-color: var(--fill-color);\n",
              "      border-bottom-color: var(--fill-color);\n",
              "    }\n",
              "    90% {\n",
              "      border-color: transparent;\n",
              "      border-bottom-color: var(--fill-color);\n",
              "    }\n",
              "  }\n",
              "</style>\n",
              "\n",
              "  <script>\n",
              "    async function quickchart(key) {\n",
              "      const quickchartButtonEl =\n",
              "        document.querySelector('#' + key + ' button');\n",
              "      quickchartButtonEl.disabled = true;  // To prevent multiple clicks.\n",
              "      quickchartButtonEl.classList.add('colab-df-spinner');\n",
              "      try {\n",
              "        const charts = await google.colab.kernel.invokeFunction(\n",
              "            'suggestCharts', [key], {});\n",
              "      } catch (error) {\n",
              "        console.error('Error during call to suggestCharts:', error);\n",
              "      }\n",
              "      quickchartButtonEl.classList.remove('colab-df-spinner');\n",
              "      quickchartButtonEl.classList.add('colab-df-quickchart-complete');\n",
              "    }\n",
              "    (() => {\n",
              "      let quickchartButtonEl =\n",
              "        document.querySelector('#df-babf6dea-9ee5-4d1d-a8ab-6ba9281144bc button');\n",
              "      quickchartButtonEl.style.display =\n",
              "        google.colab.kernel.accessAllowed ? 'block' : 'none';\n",
              "    })();\n",
              "  </script>\n",
              "</div>\n",
              "    </div>\n",
              "  </div>\n"
            ]
          },
          "metadata": {},
          "execution_count": 27
        }
      ],
      "source": [
        "count_songs = df_final.groupby('year').count()['title']\n",
        "\n",
        "count = pd.DataFrame(count_songs)\n",
        "\n",
        "count.drop(count.index[0], inplace = True)\n",
        "\n",
        "count.tail()"
      ]
    },
    {
      "cell_type": "code",
      "execution_count": 28,
      "metadata": {
        "colab": {
          "base_uri": "https://localhost:8080/",
          "height": 534
        },
        "id": "bZCkOiAB2T9Y",
        "outputId": "eafcd634-6413-4db0-932d-af6a197c6478"
      },
      "outputs": [
        {
          "output_type": "display_data",
          "data": {
            "text/plain": [
              "<Figure size 3000x1000 with 1 Axes>"
            ],
            "image/png": "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\n"
          },
          "metadata": {}
        }
      ],
      "source": [
        "# Create the plot\n",
        "\n",
        "# Set the figure size\n",
        "plt.figure(figsize = (30, 10))\n",
        "\n",
        "sns.barplot(x = count.index,\n",
        "            y = 'title',\n",
        "            data = count,\n",
        "            estimator = np.median)\n",
        "\n",
        "# Set the y label of the plot\n",
        "plt.ylabel('number of titles played')\n",
        "\n",
        "# Show the plot\n",
        "plt.show()"
      ]
    },
    {
      "cell_type": "code",
      "source": [
        "df_final.head()"
      ],
      "metadata": {
        "colab": {
          "base_uri": "https://localhost:8080/",
          "height": 206
        },
        "id": "4t7m4RoxF8Gc",
        "outputId": "fc799d8a-bcc2-4ca7-8304-939fd0103bb9"
      },
      "execution_count": 29,
      "outputs": [
        {
          "output_type": "execute_result",
          "data": {
            "text/plain": [
              "     user_id  song_id  play_count                            title  \\\n",
              "200     6958      447           1               Daisy And Prudence   \n",
              "202     6958      512           1  The Ballad of Michael Valentine   \n",
              "203     6958      549           1        I Stand Corrected (Album)   \n",
              "204     6958      703           1            They Might Follow You   \n",
              "205     6958      719           1                       Monkey Man   \n",
              "\n",
              "                  release      artist_name  year  \n",
              "200          Distillation     Erin McKeown  2000  \n",
              "202               Sawdust      The Killers  2004  \n",
              "203       Vampire Weekend  Vampire Weekend  2007  \n",
              "204           Tiny Vipers      Tiny Vipers  2007  \n",
              "205  You Know I'm No Good    Amy Winehouse  2007  "
            ],
            "text/html": [
              "\n",
              "  <div id=\"df-33496bdb-fbe7-4a8b-9951-f5dd5f52bf03\" class=\"colab-df-container\">\n",
              "    <div>\n",
              "<style scoped>\n",
              "    .dataframe tbody tr th:only-of-type {\n",
              "        vertical-align: middle;\n",
              "    }\n",
              "\n",
              "    .dataframe tbody tr th {\n",
              "        vertical-align: top;\n",
              "    }\n",
              "\n",
              "    .dataframe thead th {\n",
              "        text-align: right;\n",
              "    }\n",
              "</style>\n",
              "<table border=\"1\" class=\"dataframe\">\n",
              "  <thead>\n",
              "    <tr style=\"text-align: right;\">\n",
              "      <th></th>\n",
              "      <th>user_id</th>\n",
              "      <th>song_id</th>\n",
              "      <th>play_count</th>\n",
              "      <th>title</th>\n",
              "      <th>release</th>\n",
              "      <th>artist_name</th>\n",
              "      <th>year</th>\n",
              "    </tr>\n",
              "  </thead>\n",
              "  <tbody>\n",
              "    <tr>\n",
              "      <th>200</th>\n",
              "      <td>6958</td>\n",
              "      <td>447</td>\n",
              "      <td>1</td>\n",
              "      <td>Daisy And Prudence</td>\n",
              "      <td>Distillation</td>\n",
              "      <td>Erin McKeown</td>\n",
              "      <td>2000</td>\n",
              "    </tr>\n",
              "    <tr>\n",
              "      <th>202</th>\n",
              "      <td>6958</td>\n",
              "      <td>512</td>\n",
              "      <td>1</td>\n",
              "      <td>The Ballad of Michael Valentine</td>\n",
              "      <td>Sawdust</td>\n",
              "      <td>The Killers</td>\n",
              "      <td>2004</td>\n",
              "    </tr>\n",
              "    <tr>\n",
              "      <th>203</th>\n",
              "      <td>6958</td>\n",
              "      <td>549</td>\n",
              "      <td>1</td>\n",
              "      <td>I Stand Corrected (Album)</td>\n",
              "      <td>Vampire Weekend</td>\n",
              "      <td>Vampire Weekend</td>\n",
              "      <td>2007</td>\n",
              "    </tr>\n",
              "    <tr>\n",
              "      <th>204</th>\n",
              "      <td>6958</td>\n",
              "      <td>703</td>\n",
              "      <td>1</td>\n",
              "      <td>They Might Follow You</td>\n",
              "      <td>Tiny Vipers</td>\n",
              "      <td>Tiny Vipers</td>\n",
              "      <td>2007</td>\n",
              "    </tr>\n",
              "    <tr>\n",
              "      <th>205</th>\n",
              "      <td>6958</td>\n",
              "      <td>719</td>\n",
              "      <td>1</td>\n",
              "      <td>Monkey Man</td>\n",
              "      <td>You Know I'm No Good</td>\n",
              "      <td>Amy Winehouse</td>\n",
              "      <td>2007</td>\n",
              "    </tr>\n",
              "  </tbody>\n",
              "</table>\n",
              "</div>\n",
              "    <div class=\"colab-df-buttons\">\n",
              "\n",
              "  <div class=\"colab-df-container\">\n",
              "    <button class=\"colab-df-convert\" onclick=\"convertToInteractive('df-33496bdb-fbe7-4a8b-9951-f5dd5f52bf03')\"\n",
              "            title=\"Convert this dataframe to an interactive table.\"\n",
              "            style=\"display:none;\">\n",
              "\n",
              "  <svg xmlns=\"http://www.w3.org/2000/svg\" height=\"24px\" viewBox=\"0 -960 960 960\">\n",
              "    <path d=\"M120-120v-720h720v720H120Zm60-500h600v-160H180v160Zm220 220h160v-160H400v160Zm0 220h160v-160H400v160ZM180-400h160v-160H180v160Zm440 0h160v-160H620v160ZM180-180h160v-160H180v160Zm440 0h160v-160H620v160Z\"/>\n",
              "  </svg>\n",
              "    </button>\n",
              "\n",
              "  <style>\n",
              "    .colab-df-container {\n",
              "      display:flex;\n",
              "      gap: 12px;\n",
              "    }\n",
              "\n",
              "    .colab-df-convert {\n",
              "      background-color: #E8F0FE;\n",
              "      border: none;\n",
              "      border-radius: 50%;\n",
              "      cursor: pointer;\n",
              "      display: none;\n",
              "      fill: #1967D2;\n",
              "      height: 32px;\n",
              "      padding: 0 0 0 0;\n",
              "      width: 32px;\n",
              "    }\n",
              "\n",
              "    .colab-df-convert:hover {\n",
              "      background-color: #E2EBFA;\n",
              "      box-shadow: 0px 1px 2px rgba(60, 64, 67, 0.3), 0px 1px 3px 1px rgba(60, 64, 67, 0.15);\n",
              "      fill: #174EA6;\n",
              "    }\n",
              "\n",
              "    .colab-df-buttons div {\n",
              "      margin-bottom: 4px;\n",
              "    }\n",
              "\n",
              "    [theme=dark] .colab-df-convert {\n",
              "      background-color: #3B4455;\n",
              "      fill: #D2E3FC;\n",
              "    }\n",
              "\n",
              "    [theme=dark] .colab-df-convert:hover {\n",
              "      background-color: #434B5C;\n",
              "      box-shadow: 0px 1px 3px 1px rgba(0, 0, 0, 0.15);\n",
              "      filter: drop-shadow(0px 1px 2px rgba(0, 0, 0, 0.3));\n",
              "      fill: #FFFFFF;\n",
              "    }\n",
              "  </style>\n",
              "\n",
              "    <script>\n",
              "      const buttonEl =\n",
              "        document.querySelector('#df-33496bdb-fbe7-4a8b-9951-f5dd5f52bf03 button.colab-df-convert');\n",
              "      buttonEl.style.display =\n",
              "        google.colab.kernel.accessAllowed ? 'block' : 'none';\n",
              "\n",
              "      async function convertToInteractive(key) {\n",
              "        const element = document.querySelector('#df-33496bdb-fbe7-4a8b-9951-f5dd5f52bf03');\n",
              "        const dataTable =\n",
              "          await google.colab.kernel.invokeFunction('convertToInteractive',\n",
              "                                                    [key], {});\n",
              "        if (!dataTable) return;\n",
              "\n",
              "        const docLinkHtml = 'Like what you see? Visit the ' +\n",
              "          '<a target=\"_blank\" href=https://colab.research.google.com/notebooks/data_table.ipynb>data table notebook</a>'\n",
              "          + ' to learn more about interactive tables.';\n",
              "        element.innerHTML = '';\n",
              "        dataTable['output_type'] = 'display_data';\n",
              "        await google.colab.output.renderOutput(dataTable, element);\n",
              "        const docLink = document.createElement('div');\n",
              "        docLink.innerHTML = docLinkHtml;\n",
              "        element.appendChild(docLink);\n",
              "      }\n",
              "    </script>\n",
              "  </div>\n",
              "\n",
              "\n",
              "<div id=\"df-50fc8ec2-a495-483a-869f-f61de2d90b7d\">\n",
              "  <button class=\"colab-df-quickchart\" onclick=\"quickchart('df-50fc8ec2-a495-483a-869f-f61de2d90b7d')\"\n",
              "            title=\"Suggest charts.\"\n",
              "            style=\"display:none;\">\n",
              "\n",
              "<svg xmlns=\"http://www.w3.org/2000/svg\" height=\"24px\"viewBox=\"0 0 24 24\"\n",
              "     width=\"24px\">\n",
              "    <g>\n",
              "        <path d=\"M19 3H5c-1.1 0-2 .9-2 2v14c0 1.1.9 2 2 2h14c1.1 0 2-.9 2-2V5c0-1.1-.9-2-2-2zM9 17H7v-7h2v7zm4 0h-2V7h2v10zm4 0h-2v-4h2v4z\"/>\n",
              "    </g>\n",
              "</svg>\n",
              "  </button>\n",
              "\n",
              "<style>\n",
              "  .colab-df-quickchart {\n",
              "      --bg-color: #E8F0FE;\n",
              "      --fill-color: #1967D2;\n",
              "      --hover-bg-color: #E2EBFA;\n",
              "      --hover-fill-color: #174EA6;\n",
              "      --disabled-fill-color: #AAA;\n",
              "      --disabled-bg-color: #DDD;\n",
              "  }\n",
              "\n",
              "  [theme=dark] .colab-df-quickchart {\n",
              "      --bg-color: #3B4455;\n",
              "      --fill-color: #D2E3FC;\n",
              "      --hover-bg-color: #434B5C;\n",
              "      --hover-fill-color: #FFFFFF;\n",
              "      --disabled-bg-color: #3B4455;\n",
              "      --disabled-fill-color: #666;\n",
              "  }\n",
              "\n",
              "  .colab-df-quickchart {\n",
              "    background-color: var(--bg-color);\n",
              "    border: none;\n",
              "    border-radius: 50%;\n",
              "    cursor: pointer;\n",
              "    display: none;\n",
              "    fill: var(--fill-color);\n",
              "    height: 32px;\n",
              "    padding: 0;\n",
              "    width: 32px;\n",
              "  }\n",
              "\n",
              "  .colab-df-quickchart:hover {\n",
              "    background-color: var(--hover-bg-color);\n",
              "    box-shadow: 0 1px 2px rgba(60, 64, 67, 0.3), 0 1px 3px 1px rgba(60, 64, 67, 0.15);\n",
              "    fill: var(--button-hover-fill-color);\n",
              "  }\n",
              "\n",
              "  .colab-df-quickchart-complete:disabled,\n",
              "  .colab-df-quickchart-complete:disabled:hover {\n",
              "    background-color: var(--disabled-bg-color);\n",
              "    fill: var(--disabled-fill-color);\n",
              "    box-shadow: none;\n",
              "  }\n",
              "\n",
              "  .colab-df-spinner {\n",
              "    border: 2px solid var(--fill-color);\n",
              "    border-color: transparent;\n",
              "    border-bottom-color: var(--fill-color);\n",
              "    animation:\n",
              "      spin 1s steps(1) infinite;\n",
              "  }\n",
              "\n",
              "  @keyframes spin {\n",
              "    0% {\n",
              "      border-color: transparent;\n",
              "      border-bottom-color: var(--fill-color);\n",
              "      border-left-color: var(--fill-color);\n",
              "    }\n",
              "    20% {\n",
              "      border-color: transparent;\n",
              "      border-left-color: var(--fill-color);\n",
              "      border-top-color: var(--fill-color);\n",
              "    }\n",
              "    30% {\n",
              "      border-color: transparent;\n",
              "      border-left-color: var(--fill-color);\n",
              "      border-top-color: var(--fill-color);\n",
              "      border-right-color: var(--fill-color);\n",
              "    }\n",
              "    40% {\n",
              "      border-color: transparent;\n",
              "      border-right-color: var(--fill-color);\n",
              "      border-top-color: var(--fill-color);\n",
              "    }\n",
              "    60% {\n",
              "      border-color: transparent;\n",
              "      border-right-color: var(--fill-color);\n",
              "    }\n",
              "    80% {\n",
              "      border-color: transparent;\n",
              "      border-right-color: var(--fill-color);\n",
              "      border-bottom-color: var(--fill-color);\n",
              "    }\n",
              "    90% {\n",
              "      border-color: transparent;\n",
              "      border-bottom-color: var(--fill-color);\n",
              "    }\n",
              "  }\n",
              "</style>\n",
              "\n",
              "  <script>\n",
              "    async function quickchart(key) {\n",
              "      const quickchartButtonEl =\n",
              "        document.querySelector('#' + key + ' button');\n",
              "      quickchartButtonEl.disabled = true;  // To prevent multiple clicks.\n",
              "      quickchartButtonEl.classList.add('colab-df-spinner');\n",
              "      try {\n",
              "        const charts = await google.colab.kernel.invokeFunction(\n",
              "            'suggestCharts', [key], {});\n",
              "      } catch (error) {\n",
              "        console.error('Error during call to suggestCharts:', error);\n",
              "      }\n",
              "      quickchartButtonEl.classList.remove('colab-df-spinner');\n",
              "      quickchartButtonEl.classList.add('colab-df-quickchart-complete');\n",
              "    }\n",
              "    (() => {\n",
              "      let quickchartButtonEl =\n",
              "        document.querySelector('#df-50fc8ec2-a495-483a-869f-f61de2d90b7d button');\n",
              "      quickchartButtonEl.style.display =\n",
              "        google.colab.kernel.accessAllowed ? 'block' : 'none';\n",
              "    })();\n",
              "  </script>\n",
              "</div>\n",
              "    </div>\n",
              "  </div>\n"
            ]
          },
          "metadata": {},
          "execution_count": 29
        }
      ]
    },
    {
      "cell_type": "markdown",
      "metadata": {
        "id": "VUcXc7ZYfaGl"
      },
      "source": [
        "#### **Observations and Insights:The most number of songs were played in 2007,8 and 9. The least were played in 19070 and 1971** #"
      ]
    },
    {
      "cell_type": "code",
      "source": [
        "plt.figure(figsize = (25, 5))\n",
        "sns.boxplot(x='year', y='play_count', data=df_final)\n",
        "plt.ylabel('play_count')\n",
        "plt.xlabel('year')\n",
        "plt.show()"
      ],
      "metadata": {
        "colab": {
          "base_uri": "https://localhost:8080/",
          "height": 352
        },
        "id": "Ry9KK35AGBqP",
        "outputId": "d723d776-291a-4515-f62f-3475c44d739a"
      },
      "execution_count": 30,
      "outputs": [
        {
          "output_type": "display_data",
          "data": {
            "text/plain": [
              "<Figure size 2500x500 with 1 Axes>"
            ],
            "image/png": "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\n"
          },
          "metadata": {}
        }
      ]
    },
    {
      "cell_type": "markdown",
      "source": [
        "1975, 1979 have a median play_count of 3 and 1990 has 2. The rest of the years have median play_count of 2 as well."
      ],
      "metadata": {
        "id": "1qAE-ktEJGcA"
      }
    },
    {
      "cell_type": "code",
      "source": [
        "plt.figure(figsize = (25, 5))\n",
        "sns.barplot(df_final, x = 'year', y = 'user_id')\n",
        "plt.show()\n"
      ],
      "metadata": {
        "colab": {
          "base_uri": "https://localhost:8080/",
          "height": 348
        },
        "id": "4MbNx9BfIQnq",
        "outputId": "aef19bfa-1e02-48f7-ca8b-9af18eef477c"
      },
      "execution_count": 31,
      "outputs": [
        {
          "output_type": "display_data",
          "data": {
            "text/plain": [
              "<Figure size 2500x500 with 1 Axes>"
            ],
            "image/png": "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\n"
          },
          "metadata": {}
        }
      ]
    },
    {
      "cell_type": "markdown",
      "metadata": {
        "id": "RtAjyDMioHCp"
      },
      "source": [
        "**Think About It:** What other insights can be drawn using exploratory data analysis?"
      ]
    },
    {
      "cell_type": "markdown",
      "metadata": {
        "id": "OWO4C8KsK_5e"
      },
      "source": [
        "Now that we have explored the data, let's apply different algorithms to build recommendation systems."
      ]
    },
    {
      "cell_type": "markdown",
      "metadata": {
        "id": "Agt5rYGqtcYC"
      },
      "source": [
        "## Building various models"
      ]
    },
    {
      "cell_type": "markdown",
      "metadata": {
        "id": "Ituk9wA4Idib"
      },
      "source": [
        "### **Popularity-Based Recommendation Systems**"
      ]
    },
    {
      "cell_type": "markdown",
      "metadata": {
        "id": "462hsbxaI1ED"
      },
      "source": [
        "Let's take the count and sum of play counts of the songs and build the popularity recommendation systems based on the sum of play counts."
      ]
    },
    {
      "cell_type": "code",
      "execution_count": 32,
      "metadata": {
        "id": "UXhBZlDE-jEu"
      },
      "outputs": [],
      "source": [
        "# Calculating average play_count\n",
        "average_count = df_final.groupby('song_id').mean()['play_count']       # Hint: Use groupby function on the song_id column\n",
        "\n",
        "# Calculating the frequency a song is played\n",
        "play_freq = df_final.groupby('song_id').sum()['play_count']       # Hint: Use groupby function on the song_id column"
      ]
    },
    {
      "cell_type": "code",
      "execution_count": 33,
      "metadata": {
        "id": "v2XYdXvWdyys",
        "colab": {
          "base_uri": "https://localhost:8080/",
          "height": 238
        },
        "outputId": "fe8bec47-5fa7-43f0-9e91-a93ddaa2e6d5"
      },
      "outputs": [
        {
          "output_type": "execute_result",
          "data": {
            "text/plain": [
              "         avg_count  play_freq\n",
              "song_id                      \n",
              "21        1.622642        430\n",
              "22        1.492424        197\n",
              "52        1.729216        728\n",
              "62        1.728070        197\n",
              "93        1.452174        167"
            ],
            "text/html": [
              "\n",
              "  <div id=\"df-318331e3-5501-468a-a305-a164fa7c0d39\" class=\"colab-df-container\">\n",
              "    <div>\n",
              "<style scoped>\n",
              "    .dataframe tbody tr th:only-of-type {\n",
              "        vertical-align: middle;\n",
              "    }\n",
              "\n",
              "    .dataframe tbody tr th {\n",
              "        vertical-align: top;\n",
              "    }\n",
              "\n",
              "    .dataframe thead th {\n",
              "        text-align: right;\n",
              "    }\n",
              "</style>\n",
              "<table border=\"1\" class=\"dataframe\">\n",
              "  <thead>\n",
              "    <tr style=\"text-align: right;\">\n",
              "      <th></th>\n",
              "      <th>avg_count</th>\n",
              "      <th>play_freq</th>\n",
              "    </tr>\n",
              "    <tr>\n",
              "      <th>song_id</th>\n",
              "      <th></th>\n",
              "      <th></th>\n",
              "    </tr>\n",
              "  </thead>\n",
              "  <tbody>\n",
              "    <tr>\n",
              "      <th>21</th>\n",
              "      <td>1.622642</td>\n",
              "      <td>430</td>\n",
              "    </tr>\n",
              "    <tr>\n",
              "      <th>22</th>\n",
              "      <td>1.492424</td>\n",
              "      <td>197</td>\n",
              "    </tr>\n",
              "    <tr>\n",
              "      <th>52</th>\n",
              "      <td>1.729216</td>\n",
              "      <td>728</td>\n",
              "    </tr>\n",
              "    <tr>\n",
              "      <th>62</th>\n",
              "      <td>1.728070</td>\n",
              "      <td>197</td>\n",
              "    </tr>\n",
              "    <tr>\n",
              "      <th>93</th>\n",
              "      <td>1.452174</td>\n",
              "      <td>167</td>\n",
              "    </tr>\n",
              "  </tbody>\n",
              "</table>\n",
              "</div>\n",
              "    <div class=\"colab-df-buttons\">\n",
              "\n",
              "  <div class=\"colab-df-container\">\n",
              "    <button class=\"colab-df-convert\" onclick=\"convertToInteractive('df-318331e3-5501-468a-a305-a164fa7c0d39')\"\n",
              "            title=\"Convert this dataframe to an interactive table.\"\n",
              "            style=\"display:none;\">\n",
              "\n",
              "  <svg xmlns=\"http://www.w3.org/2000/svg\" height=\"24px\" viewBox=\"0 -960 960 960\">\n",
              "    <path d=\"M120-120v-720h720v720H120Zm60-500h600v-160H180v160Zm220 220h160v-160H400v160Zm0 220h160v-160H400v160ZM180-400h160v-160H180v160Zm440 0h160v-160H620v160ZM180-180h160v-160H180v160Zm440 0h160v-160H620v160Z\"/>\n",
              "  </svg>\n",
              "    </button>\n",
              "\n",
              "  <style>\n",
              "    .colab-df-container {\n",
              "      display:flex;\n",
              "      gap: 12px;\n",
              "    }\n",
              "\n",
              "    .colab-df-convert {\n",
              "      background-color: #E8F0FE;\n",
              "      border: none;\n",
              "      border-radius: 50%;\n",
              "      cursor: pointer;\n",
              "      display: none;\n",
              "      fill: #1967D2;\n",
              "      height: 32px;\n",
              "      padding: 0 0 0 0;\n",
              "      width: 32px;\n",
              "    }\n",
              "\n",
              "    .colab-df-convert:hover {\n",
              "      background-color: #E2EBFA;\n",
              "      box-shadow: 0px 1px 2px rgba(60, 64, 67, 0.3), 0px 1px 3px 1px rgba(60, 64, 67, 0.15);\n",
              "      fill: #174EA6;\n",
              "    }\n",
              "\n",
              "    .colab-df-buttons div {\n",
              "      margin-bottom: 4px;\n",
              "    }\n",
              "\n",
              "    [theme=dark] .colab-df-convert {\n",
              "      background-color: #3B4455;\n",
              "      fill: #D2E3FC;\n",
              "    }\n",
              "\n",
              "    [theme=dark] .colab-df-convert:hover {\n",
              "      background-color: #434B5C;\n",
              "      box-shadow: 0px 1px 3px 1px rgba(0, 0, 0, 0.15);\n",
              "      filter: drop-shadow(0px 1px 2px rgba(0, 0, 0, 0.3));\n",
              "      fill: #FFFFFF;\n",
              "    }\n",
              "  </style>\n",
              "\n",
              "    <script>\n",
              "      const buttonEl =\n",
              "        document.querySelector('#df-318331e3-5501-468a-a305-a164fa7c0d39 button.colab-df-convert');\n",
              "      buttonEl.style.display =\n",
              "        google.colab.kernel.accessAllowed ? 'block' : 'none';\n",
              "\n",
              "      async function convertToInteractive(key) {\n",
              "        const element = document.querySelector('#df-318331e3-5501-468a-a305-a164fa7c0d39');\n",
              "        const dataTable =\n",
              "          await google.colab.kernel.invokeFunction('convertToInteractive',\n",
              "                                                    [key], {});\n",
              "        if (!dataTable) return;\n",
              "\n",
              "        const docLinkHtml = 'Like what you see? Visit the ' +\n",
              "          '<a target=\"_blank\" href=https://colab.research.google.com/notebooks/data_table.ipynb>data table notebook</a>'\n",
              "          + ' to learn more about interactive tables.';\n",
              "        element.innerHTML = '';\n",
              "        dataTable['output_type'] = 'display_data';\n",
              "        await google.colab.output.renderOutput(dataTable, element);\n",
              "        const docLink = document.createElement('div');\n",
              "        docLink.innerHTML = docLinkHtml;\n",
              "        element.appendChild(docLink);\n",
              "      }\n",
              "    </script>\n",
              "  </div>\n",
              "\n",
              "\n",
              "<div id=\"df-580a17d6-1719-4946-b914-65b8d137954f\">\n",
              "  <button class=\"colab-df-quickchart\" onclick=\"quickchart('df-580a17d6-1719-4946-b914-65b8d137954f')\"\n",
              "            title=\"Suggest charts.\"\n",
              "            style=\"display:none;\">\n",
              "\n",
              "<svg xmlns=\"http://www.w3.org/2000/svg\" height=\"24px\"viewBox=\"0 0 24 24\"\n",
              "     width=\"24px\">\n",
              "    <g>\n",
              "        <path d=\"M19 3H5c-1.1 0-2 .9-2 2v14c0 1.1.9 2 2 2h14c1.1 0 2-.9 2-2V5c0-1.1-.9-2-2-2zM9 17H7v-7h2v7zm4 0h-2V7h2v10zm4 0h-2v-4h2v4z\"/>\n",
              "    </g>\n",
              "</svg>\n",
              "  </button>\n",
              "\n",
              "<style>\n",
              "  .colab-df-quickchart {\n",
              "      --bg-color: #E8F0FE;\n",
              "      --fill-color: #1967D2;\n",
              "      --hover-bg-color: #E2EBFA;\n",
              "      --hover-fill-color: #174EA6;\n",
              "      --disabled-fill-color: #AAA;\n",
              "      --disabled-bg-color: #DDD;\n",
              "  }\n",
              "\n",
              "  [theme=dark] .colab-df-quickchart {\n",
              "      --bg-color: #3B4455;\n",
              "      --fill-color: #D2E3FC;\n",
              "      --hover-bg-color: #434B5C;\n",
              "      --hover-fill-color: #FFFFFF;\n",
              "      --disabled-bg-color: #3B4455;\n",
              "      --disabled-fill-color: #666;\n",
              "  }\n",
              "\n",
              "  .colab-df-quickchart {\n",
              "    background-color: var(--bg-color);\n",
              "    border: none;\n",
              "    border-radius: 50%;\n",
              "    cursor: pointer;\n",
              "    display: none;\n",
              "    fill: var(--fill-color);\n",
              "    height: 32px;\n",
              "    padding: 0;\n",
              "    width: 32px;\n",
              "  }\n",
              "\n",
              "  .colab-df-quickchart:hover {\n",
              "    background-color: var(--hover-bg-color);\n",
              "    box-shadow: 0 1px 2px rgba(60, 64, 67, 0.3), 0 1px 3px 1px rgba(60, 64, 67, 0.15);\n",
              "    fill: var(--button-hover-fill-color);\n",
              "  }\n",
              "\n",
              "  .colab-df-quickchart-complete:disabled,\n",
              "  .colab-df-quickchart-complete:disabled:hover {\n",
              "    background-color: var(--disabled-bg-color);\n",
              "    fill: var(--disabled-fill-color);\n",
              "    box-shadow: none;\n",
              "  }\n",
              "\n",
              "  .colab-df-spinner {\n",
              "    border: 2px solid var(--fill-color);\n",
              "    border-color: transparent;\n",
              "    border-bottom-color: var(--fill-color);\n",
              "    animation:\n",
              "      spin 1s steps(1) infinite;\n",
              "  }\n",
              "\n",
              "  @keyframes spin {\n",
              "    0% {\n",
              "      border-color: transparent;\n",
              "      border-bottom-color: var(--fill-color);\n",
              "      border-left-color: var(--fill-color);\n",
              "    }\n",
              "    20% {\n",
              "      border-color: transparent;\n",
              "      border-left-color: var(--fill-color);\n",
              "      border-top-color: var(--fill-color);\n",
              "    }\n",
              "    30% {\n",
              "      border-color: transparent;\n",
              "      border-left-color: var(--fill-color);\n",
              "      border-top-color: var(--fill-color);\n",
              "      border-right-color: var(--fill-color);\n",
              "    }\n",
              "    40% {\n",
              "      border-color: transparent;\n",
              "      border-right-color: var(--fill-color);\n",
              "      border-top-color: var(--fill-color);\n",
              "    }\n",
              "    60% {\n",
              "      border-color: transparent;\n",
              "      border-right-color: var(--fill-color);\n",
              "    }\n",
              "    80% {\n",
              "      border-color: transparent;\n",
              "      border-right-color: var(--fill-color);\n",
              "      border-bottom-color: var(--fill-color);\n",
              "    }\n",
              "    90% {\n",
              "      border-color: transparent;\n",
              "      border-bottom-color: var(--fill-color);\n",
              "    }\n",
              "  }\n",
              "</style>\n",
              "\n",
              "  <script>\n",
              "    async function quickchart(key) {\n",
              "      const quickchartButtonEl =\n",
              "        document.querySelector('#' + key + ' button');\n",
              "      quickchartButtonEl.disabled = true;  // To prevent multiple clicks.\n",
              "      quickchartButtonEl.classList.add('colab-df-spinner');\n",
              "      try {\n",
              "        const charts = await google.colab.kernel.invokeFunction(\n",
              "            'suggestCharts', [key], {});\n",
              "      } catch (error) {\n",
              "        console.error('Error during call to suggestCharts:', error);\n",
              "      }\n",
              "      quickchartButtonEl.classList.remove('colab-df-spinner');\n",
              "      quickchartButtonEl.classList.add('colab-df-quickchart-complete');\n",
              "    }\n",
              "    (() => {\n",
              "      let quickchartButtonEl =\n",
              "        document.querySelector('#df-580a17d6-1719-4946-b914-65b8d137954f button');\n",
              "      quickchartButtonEl.style.display =\n",
              "        google.colab.kernel.accessAllowed ? 'block' : 'none';\n",
              "    })();\n",
              "  </script>\n",
              "</div>\n",
              "    </div>\n",
              "  </div>\n"
            ]
          },
          "metadata": {},
          "execution_count": 33
        }
      ],
      "source": [
        "# Making a dataframe with the average_count and play_freq\n",
        "final_play = pd.DataFrame({'avg_count':average_count, 'play_freq':play_freq})\n",
        "\n",
        "# Let us see the first five records of the final_play dataset\n",
        "final_play.head()"
      ]
    },
    {
      "cell_type": "markdown",
      "metadata": {
        "id": "WnCT-A7RK_5g"
      },
      "source": [
        "Now, let's create a function to find the top n songs for a recommendation based on the average play count of song. We can also add a threshold for a minimum number of playcounts for a song to be considered for recommendation."
      ]
    },
    {
      "cell_type": "code",
      "execution_count": 34,
      "metadata": {
        "id": "QiT9FV3GNCrb"
      },
      "outputs": [],
      "source": [
        "# Build the function to find top n songs\n",
        "def top_n_songs(avg_count, n, min_playcounts):\n",
        "\n",
        "    # Finding products with minimum number of interactions\n",
        "    recommendations = final_play[final_play['play_freq'] > min_playcounts]\n",
        "\n",
        "    # Sorting values with respect to average rating\n",
        "    recommendations = recommendations.sort_values(by = 'avg_count', ascending = False)\n",
        "\n",
        "    return recommendations.index[:n]"
      ]
    },
    {
      "cell_type": "code",
      "execution_count": 35,
      "metadata": {
        "id": "GpZt_BeXgz4F",
        "colab": {
          "base_uri": "https://localhost:8080/"
        },
        "outputId": "0e8c76b6-d4d0-49d9-b7a9-e378386afaaa"
      },
      "outputs": [
        {
          "output_type": "execute_result",
          "data": {
            "text/plain": [
              "[7224, 8324, 6450, 9942, 5531, 5653, 8483, 2220, 657, 614]"
            ]
          },
          "metadata": {},
          "execution_count": 35
        }
      ],
      "source": [
        "# Recommend top 10 songs using the function defined above\n",
        "list(top_n_songs(final_play, 10, 100))"
      ]
    },
    {
      "cell_type": "markdown",
      "metadata": {
        "id": "gf13HrPPJeWT"
      },
      "source": [
        "### **User User Similarity-Based Collaborative Filtering**"
      ]
    },
    {
      "cell_type": "markdown",
      "metadata": {
        "id": "ROcEpduohdua"
      },
      "source": [
        "To build the user-user-similarity-based and subsequent models we will use the \"surprise\" library."
      ]
    },
    {
      "cell_type": "code",
      "execution_count": 36,
      "metadata": {
        "id": "aKLrKn8IfGjk",
        "colab": {
          "base_uri": "https://localhost:8080/"
        },
        "outputId": "54e71585-8c04-42ad-b6e9-ebe52ab37792"
      },
      "outputs": [
        {
          "output_type": "stream",
          "name": "stdout",
          "text": [
            "Collecting surprise\n",
            "  Downloading surprise-0.1-py2.py3-none-any.whl (1.8 kB)\n",
            "Collecting scikit-surprise (from surprise)\n",
            "  Downloading scikit-surprise-1.1.3.tar.gz (771 kB)\n",
            "\u001b[2K     \u001b[90m━━━━━━━━━━━━━━━━━━━━━━━━━━━━━━━━━━━━━━━\u001b[0m \u001b[32m772.0/772.0 kB\u001b[0m \u001b[31m5.9 MB/s\u001b[0m eta \u001b[36m0:00:00\u001b[0m\n",
            "\u001b[?25h  Preparing metadata (setup.py) ... \u001b[?25l\u001b[?25hdone\n",
            "Requirement already satisfied: joblib>=1.0.0 in /usr/local/lib/python3.10/dist-packages (from scikit-surprise->surprise) (1.3.2)\n",
            "Requirement already satisfied: numpy>=1.17.3 in /usr/local/lib/python3.10/dist-packages (from scikit-surprise->surprise) (1.23.5)\n",
            "Requirement already satisfied: scipy>=1.3.2 in /usr/local/lib/python3.10/dist-packages (from scikit-surprise->surprise) (1.11.3)\n",
            "Building wheels for collected packages: scikit-surprise\n",
            "  Building wheel for scikit-surprise (setup.py) ... \u001b[?25l\u001b[?25hdone\n",
            "  Created wheel for scikit-surprise: filename=scikit_surprise-1.1.3-cp310-cp310-linux_x86_64.whl size=3163333 sha256=391d758f13f45733daa4fbf3763f3b5ac6379b376c534e4cd333a371745004e5\n",
            "  Stored in directory: /root/.cache/pip/wheels/a5/ca/a8/4e28def53797fdc4363ca4af740db15a9c2f1595ebc51fb445\n",
            "Successfully built scikit-surprise\n",
            "Installing collected packages: scikit-surprise, surprise\n",
            "Successfully installed scikit-surprise-1.1.3 surprise-0.1\n"
          ]
        }
      ],
      "source": [
        "# Install the surprise package using pip. Uncomment and run the below code to do the same\n",
        "!pip install surprise"
      ]
    },
    {
      "cell_type": "code",
      "execution_count": 37,
      "metadata": {
        "id": "UJ1wEylUpexj"
      },
      "outputs": [],
      "source": [
        "# Import necessary libraries\n",
        "\n",
        "# To compute the accuracy of models\n",
        "from surprise import accuracy\n",
        "\n",
        "# This class is used to parse a file containing play_counts, data should be in structure - user; item; play_count\n",
        "from surprise.reader import Reader\n",
        "\n",
        "# Class for loading datasets\n",
        "from surprise.dataset import Dataset\n",
        "\n",
        "# For tuning model hyperparameters\n",
        "from surprise.model_selection import GridSearchCV\n",
        "\n",
        "# For splitting the data in train and test dataset\n",
        "from surprise.model_selection import train_test_split\n",
        "\n",
        "# For implementing similarity-based recommendation system\n",
        "from surprise.prediction_algorithms.knns import KNNBasic\n",
        "\n",
        "# For implementing matrix factorization based recommendation system\n",
        "from surprise.prediction_algorithms.matrix_factorization import SVD\n",
        "\n",
        "# For implementing KFold cross-validation\n",
        "from surprise.model_selection import KFold\n",
        "\n",
        "# For implementing clustering-based recommendation system\n",
        "from surprise import CoClustering"
      ]
    },
    {
      "cell_type": "markdown",
      "metadata": {
        "id": "jBW4BUhWTsnm"
      },
      "source": [
        "### Some useful functions"
      ]
    },
    {
      "cell_type": "markdown",
      "metadata": {
        "id": "ZhFa_4aHHchr"
      },
      "source": [
        "Below is the function to calculate precision@k and recall@k, RMSE and F1_Score@k to evaluate the model performance."
      ]
    },
    {
      "cell_type": "markdown",
      "metadata": {
        "id": "ZOvOgjGWrMVV"
      },
      "source": [
        "**Think About It:** Which metric should be used for this problem to compare different models?"
      ]
    },
    {
      "cell_type": "code",
      "execution_count": 38,
      "metadata": {
        "id": "Rxn-GahOTsnm"
      },
      "outputs": [],
      "source": [
        "# The function to calulate the RMSE, precision@k, recall@k, and F_1 score\n",
        "def precision_recall_at_k(model, k = 30, threshold = 1.5):\n",
        "    \"\"\"Return precision and recall at k metrics for each user\"\"\"\n",
        "\n",
        "    # First map the predictions to each user.\n",
        "    user_est_true = defaultdict(list)\n",
        "\n",
        "    # Making predictions on the test data\n",
        "    predictions=model.test(testset)\n",
        "\n",
        "    for uid, _, true_r, est, _ in predictions:\n",
        "        user_est_true[uid].append((est, true_r))\n",
        "\n",
        "    precisions = dict()\n",
        "    recalls = dict()\n",
        "    for uid, user_ratings in user_est_true.items():\n",
        "\n",
        "        # Sort user ratings by estimated value\n",
        "        user_ratings.sort(key = lambda x : x[0], reverse = True)\n",
        "\n",
        "        # Number of relevant items\n",
        "        n_rel = sum((true_r >= threshold) for (_, true_r) in user_ratings)\n",
        "\n",
        "        # Number of recommended items in top k\n",
        "        n_rec_k = sum((est >= threshold) for (est, _) in user_ratings[ : k])\n",
        "\n",
        "        # Number of relevant and recommended items in top k\n",
        "        n_rel_and_rec_k = sum(((true_r >= threshold) and (est >= threshold))\n",
        "                              for (est, true_r) in user_ratings[ : k])\n",
        "\n",
        "        # Precision@K: Proportion of recommended items that are relevant\n",
        "        # When n_rec_k is 0, Precision is undefined. We here set Precision to 0 when n_rec_k is 0\n",
        "\n",
        "        precisions[uid] = n_rel_and_rec_k / n_rec_k if n_rec_k != 0 else 0\n",
        "\n",
        "        # Recall@K: Proportion of relevant items that are recommended\n",
        "        # When n_rel is 0, Recall is undefined. We here set Recall to 0 when n_rel is 0\n",
        "\n",
        "        recalls[uid] = n_rel_and_rec_k / n_rel if n_rel != 0 else 0\n",
        "\n",
        "    # Mean of all the predicted precisions are calculated\n",
        "    precision = round((sum(prec for prec in precisions.values()) / len(precisions)), 3)\n",
        "\n",
        "    # Mean of all the predicted recalls are calculated\n",
        "    recall = round((sum(rec for rec in recalls.values()) / len(recalls)), 3)\n",
        "\n",
        "    accuracy.rmse(predictions)\n",
        "\n",
        "    # Command to print the overall precision\n",
        "    print('Precision: ', precision)\n",
        "\n",
        "    # Command to print the overall recall\n",
        "    print('Recall: ', recall)\n",
        "\n",
        "    # Formula to compute the F-1 score\n",
        "    print('F_1 score: ', round((2 * precision * recall) / (precision + recall), 3))"
      ]
    },
    {
      "cell_type": "markdown",
      "metadata": {
        "id": "PcmLRxH4IjfG"
      },
      "source": [
        "**Think About It:** In the function precision_recall_at_k above the threshold value used is 1.5. How precision and recall are affected by changing the threshold? What is the intuition behind using the threshold value of 1.5?"
      ]
    },
    {
      "cell_type": "code",
      "execution_count": 39,
      "metadata": {
        "id": "rGfYDiOCpe4X"
      },
      "outputs": [],
      "source": [
        "# Instantiating Reader scale with expected rating scale\n",
        "reader = Reader(rating_scale=(0,5)) #use rating scale (0, 5)\n",
        "\n",
        "# Loading the dataset\n",
        "data = Dataset.load_from_df(df_final[['user_id', 'song_id', 'play_count']], reader) # Take only \"user_id\",\"song_id\", and \"play_count\"\n",
        "\n",
        "# Splitting the data into train and test dataset\n",
        "trainset, testset = train_test_split(data, test_size=0.4, random_state = 42) # Take test_size = 0.4"
      ]
    },
    {
      "cell_type": "markdown",
      "metadata": {
        "id": "CuTmLjUP1aED"
      },
      "source": [
        "**Think About It:** How changing the test size would change the results and outputs?"
      ]
    },
    {
      "cell_type": "code",
      "execution_count": 45,
      "metadata": {
        "id": "vO3FL7iape8A",
        "scrolled": false,
        "colab": {
          "base_uri": "https://localhost:8080/"
        },
        "outputId": "846199be-7d15-4924-ec31-ac7472b3e35c"
      },
      "outputs": [
        {
          "output_type": "stream",
          "name": "stdout",
          "text": [
            "RMSE: 1.0878\n",
            "Precision:  0.396\n",
            "Recall:  0.692\n",
            "F_1 score:  0.504\n"
          ]
        }
      ],
      "source": [
        "# Build the default user-user-similarity model\n",
        "sim_options = {'name': 'cosine',\n",
        "               'user_based':True}\n",
        "\n",
        "# KNN algorithm is used to find desired similar items\n",
        "sim_user_user = KNNBasic(sim_options = sim_options, verbose = False, random_state = 1) # Use random_state = 1\n",
        "\n",
        "# Train the algorithm on the trainset, and predict play_count for the testset\n",
        "sim_user_user.fit(trainset)\n",
        "\n",
        "# Let us compute precision@k, recall@k, and f_1 score with k = 30\n",
        "precision_recall_at_k(sim_user_user) # Use sim_user_user model"
      ]
    },
    {
      "cell_type": "markdown",
      "metadata": {
        "id": "mzcdlWmer6GA"
      },
      "source": [
        "**Observations and Insights:We have calculated RMSE of 1.08 to check how far the overall predicted ratings are from the actual ratings. Recall is about 0.69, which means out of all the relevant products, 69% are recommended. Precision is about 0.396, which means out of all the recommended products 39.6% are relevant. F_1 scoreis almost 0.504. It indicates that mostly recommended products were relevant and relevant products were recommended to the user.**"
      ]
    },
    {
      "cell_type": "code",
      "execution_count": 46,
      "metadata": {
        "id": "Sxd23bZ9pe_x",
        "colab": {
          "base_uri": "https://localhost:8080/"
        },
        "outputId": "43cf524c-3fe4-439c-ebb3-c614a57a1cd8"
      },
      "outputs": [
        {
          "output_type": "stream",
          "name": "stdout",
          "text": [
            "user: 6958       item: 1671       r_ui = 2.00   est = 1.80   {'actual_k': 40, 'was_impossible': False}\n"
          ]
        },
        {
          "output_type": "execute_result",
          "data": {
            "text/plain": [
              "Prediction(uid=6958, iid=1671, r_ui=2, est=1.8009387435128914, details={'actual_k': 40, 'was_impossible': False})"
            ]
          },
          "metadata": {},
          "execution_count": 46
        }
      ],
      "source": [
        "# Predicting play_count for a sample user with a listened song\n",
        "sim_user_user.predict(6958, 1671, r_ui = 2, verbose = True) # Use user id 6958 and song_id 1671"
      ]
    },
    {
      "cell_type": "markdown",
      "source": [
        "**Observations and Insights:The actual play_count for this user-song pair is 2 and the predicted play count is 1.8 by the user-user-similarity-based model. This implies that the model is under-estimating the ratings.**"
      ],
      "metadata": {
        "id": "rDmBj_X4SS63"
      }
    },
    {
      "cell_type": "code",
      "execution_count": 47,
      "metadata": {
        "id": "PbFcBj1PpfEV",
        "colab": {
          "base_uri": "https://localhost:8080/"
        },
        "outputId": "3eb156fb-f2b2-4c73-9a84-306a6077dd1d"
      },
      "outputs": [
        {
          "output_type": "stream",
          "name": "stdout",
          "text": [
            "user: 6958       item: 3232       r_ui = None   est = 1.64   {'actual_k': 40, 'was_impossible': False}\n"
          ]
        },
        {
          "output_type": "execute_result",
          "data": {
            "text/plain": [
              "Prediction(uid=6958, iid=3232, r_ui=None, est=1.6386860897998294, details={'actual_k': 40, 'was_impossible': False})"
            ]
          },
          "metadata": {},
          "execution_count": 47
        }
      ],
      "source": [
        "# Predicting play_count for a sample user with a song not-listened by the user\n",
        "sim_user_user.predict(6958, 3232, verbose = True) # Use user_id 6958 and song_id 3232"
      ]
    },
    {
      "cell_type": "markdown",
      "metadata": {
        "id": "P9EVM7DysC47"
      },
      "source": [
        "**Observations and Insights:The predicted play count is 1.64 by the user-user-similarity-based model.**"
      ]
    },
    {
      "cell_type": "markdown",
      "metadata": {
        "id": "Lt1QBiylsIOm"
      },
      "source": [
        "Now, let's try to tune the model and see if we can improve the model performance."
      ]
    },
    {
      "cell_type": "code",
      "execution_count": 48,
      "metadata": {
        "id": "T3diJPL7-tVw",
        "colab": {
          "base_uri": "https://localhost:8080/"
        },
        "outputId": "cf25ac19-0478-4db5-e18a-8a132cfb5896"
      },
      "outputs": [
        {
          "output_type": "stream",
          "name": "stdout",
          "text": [
            "1.0465548039498433\n",
            "{'k': 30, 'min_k': 9, 'sim_options': {'name': 'pearson_baseline', 'user_based': True, 'min_support': 2}}\n"
          ]
        }
      ],
      "source": [
        "# Setting up parameter grid to tune the hyperparameters\n",
        "param_grid = {'k': [10, 20, 30], 'min_k': [3, 6, 9],\n",
        "              'sim_options': {'name': [\"cosine\", 'pearson', \"pearson_baseline\"],\n",
        "                              'user_based': [True], \"min_support\": [2, 4]}\n",
        "              }\n",
        "\n",
        "# Performing 3-fold cross-validation to tune the hyperparameters\n",
        "gs = GridSearchCV(KNNBasic, param_grid, measures = ['rmse'], cv = 3, n_jobs = -1)\n",
        "\n",
        "# Fitting the data\n",
        "gs.fit(data) # Use entire data for GridSearch\n",
        "\n",
        "# Best RMSE score\n",
        "print(gs.best_score['rmse'])\n",
        "# Combination of parameters that gave the best RMSE score\n",
        "print(gs.best_params['rmse'])"
      ]
    },
    {
      "cell_type": "code",
      "execution_count": 49,
      "metadata": {
        "id": "PujRJA8X_JEJ",
        "colab": {
          "base_uri": "https://localhost:8080/"
        },
        "outputId": "15f1848f-c266-4d85-a33c-4894afa0610b"
      },
      "outputs": [
        {
          "output_type": "stream",
          "name": "stdout",
          "text": [
            "RMSE: 1.0928\n",
            "Precision:  0.394\n",
            "Recall:  0.676\n",
            "F_1 score:  0.498\n"
          ]
        }
      ],
      "source": [
        "# Train the best model found in above gridsearch\n",
        "sim_options = {'name': 'cosine',\n",
        "               'user_based': True}\n",
        "\n",
        "# Creating an instance of KNNBasic with optimal hyperparameter values\n",
        "sim_user_user_optimized = KNNBasic(sim_options = sim_options, k = 30, min_k = 9, random_state = 1, verbose = False)\n",
        "\n",
        "# Training the algorithm on the train set\n",
        "sim_user_user_optimized.fit(trainset)\n",
        "\n",
        "# Let us compute precision@k and recall@k also with k = 10\n",
        "precision_recall_at_k(sim_user_user_optimized)"
      ]
    },
    {
      "cell_type": "markdown",
      "metadata": {
        "id": "MH5OBZ7Nse6m"
      },
      "source": [
        "**Observations and Insights:We have calculated RMSE of 1.09 to check how far the overall predicted ratings are from the actual ratings. Recall is about 0.67, which means out of all the relevant products, 67% are recommended. Precision is about 0.394, which means out of all the recommended products 39.4% are relevant. F_1 scoreis almost 0.498. It indicates that mostly recommended products were relevant and relevant products were recommended to the user. There is not much change in the RMSE, Precision and Recall**"
      ]
    },
    {
      "cell_type": "code",
      "execution_count": 50,
      "metadata": {
        "id": "FgV63lHiq1TV",
        "colab": {
          "base_uri": "https://localhost:8080/"
        },
        "outputId": "9d6fb69e-5c9d-4368-95e5-99bce4a15947"
      },
      "outputs": [
        {
          "output_type": "stream",
          "name": "stdout",
          "text": [
            "user: 6958       item: 1671       r_ui = 2.00   est = 1.70   {'was_impossible': True, 'reason': 'User and/or item is unknown.'}\n"
          ]
        },
        {
          "output_type": "execute_result",
          "data": {
            "text/plain": [
              "Prediction(uid='6958', iid='1671', r_ui=2, est=1.6989607635206787, details={'was_impossible': True, 'reason': 'User and/or item is unknown.'})"
            ]
          },
          "metadata": {},
          "execution_count": 50
        }
      ],
      "source": [
        "# Predict the play count for a user who has listened to the song. Take user_id 6958, song_id 1671 and r_ui = 2\n",
        "sim_user_user_optimized.predict(\"6958\", \"1671\", r_ui = 2, verbose = True)\n"
      ]
    },
    {
      "cell_type": "markdown",
      "source": [
        "The model is predicting a play count of 1.70 for this user and song pair whereas the actual play count is 2."
      ],
      "metadata": {
        "id": "bstdeBI9Y1pq"
      }
    },
    {
      "cell_type": "code",
      "execution_count": 51,
      "metadata": {
        "id": "HXO2Ztjhq1bN",
        "colab": {
          "base_uri": "https://localhost:8080/"
        },
        "outputId": "0a90f039-b79c-4440-ff50-53a6743e2a0d"
      },
      "outputs": [
        {
          "output_type": "stream",
          "name": "stdout",
          "text": [
            "user: 6958       item: 3232       r_ui = None   est = 1.64   {'actual_k': 40, 'was_impossible': False}\n"
          ]
        },
        {
          "output_type": "execute_result",
          "data": {
            "text/plain": [
              "Prediction(uid=6958, iid=3232, r_ui=None, est=1.6386860897998294, details={'actual_k': 40, 'was_impossible': False})"
            ]
          },
          "metadata": {},
          "execution_count": 51
        }
      ],
      "source": [
        "# Predict the play count for a song that is not listened to by the user (with user_id 6958)\n",
        "sim_user_user.predict(6958, 3232, verbose = True) # Use user_id 6958 and song_id 3232"
      ]
    },
    {
      "cell_type": "markdown",
      "metadata": {
        "id": "SdpJ--8QWuzz"
      },
      "source": [
        "**Observations and Insights:The model is predicting a play count of 1.64 for this user and song pair. The iuser has not listened to this song.**"
      ]
    },
    {
      "cell_type": "markdown",
      "metadata": {
        "id": "SQ9M4pplNbWS"
      },
      "source": [
        "**Think About It:** Along with making predictions on listened and unknown songs can we get 5 nearest neighbors (most similar) to a certain song?"
      ]
    },
    {
      "cell_type": "code",
      "execution_count": 52,
      "metadata": {
        "id": "TbFle7cKmBJG",
        "colab": {
          "base_uri": "https://localhost:8080/"
        },
        "outputId": "751e2625-65b1-47ac-c0e3-21fc0cf1c2c6"
      },
      "outputs": [
        {
          "output_type": "execute_result",
          "data": {
            "text/plain": [
              "[3, 6, 11, 16, 28]"
            ]
          },
          "metadata": {},
          "execution_count": 52
        }
      ],
      "source": [
        "# Use inner id 0\n",
        "sim_user_user_optimized.get_neighbors(0, 5)\n"
      ]
    },
    {
      "cell_type": "markdown",
      "metadata": {
        "id": "U3ESobDynVNI"
      },
      "source": [
        "Below we will be implementing a function where the input parameters are:\n",
        "\n",
        "- data: A **song** dataset\n",
        "- user_id: A user-id **against which we want the recommendations**\n",
        "- top_n: The **number of songs we want to recommend**\n",
        "- algo: The algorithm we want to use **for predicting the play_count**\n",
        "- The output of the function is a **set of top_n items** recommended for the given user_id based on the given algorithm"
      ]
    },
    {
      "cell_type": "code",
      "execution_count": 40,
      "metadata": {
        "id": "vW9V1Tk65HlY"
      },
      "outputs": [],
      "source": [
        "def get_recommendations(data, user_id, top_n, algo):\n",
        "\n",
        "    # Creating an empty list to store the recommended product ids\n",
        "    recommendations = []\n",
        "\n",
        "    # Creating an user item interactions matrix\n",
        "    user_item_interactions_matrix = data.pivot_table(index = 'user_id', columns = 'song_id', values = 'play_count')\n",
        "\n",
        "    # Extracting those business ids which the user_id has not visited yet\n",
        "    non_interacted_products = user_item_interactions_matrix.loc[user_id][user_item_interactions_matrix.loc[user_id].isnull()].index.tolist()\n",
        "\n",
        "    # Looping through each of the business ids which user_id has not interacted yet\n",
        "    for item_id in non_interacted_products:\n",
        "\n",
        "        # Predicting the ratings for those non visited restaurant ids by this user\n",
        "        est = algo.predict(user_id, item_id).est\n",
        "\n",
        "        # Appending the predicted ratings\n",
        "        recommendations.append((item_id, est))\n",
        "\n",
        "    # Sorting the predicted ratings in descending order\n",
        "    recommendations.sort(key = lambda x : x[1], reverse = True)\n",
        "\n",
        "    return recommendations[:top_n] # Returing top n highest predicted rating products for this user"
      ]
    },
    {
      "cell_type": "code",
      "execution_count": 54,
      "metadata": {
        "id": "qWbR85mI5Hrk"
      },
      "outputs": [],
      "source": [
        "# Make top 5 recommendations for user_id 6958 with a similarity-based recommendation engine\n",
        "recommendations =get_recommendations(df_final, 6958, 5, sim_user_user_optimized)"
      ]
    },
    {
      "cell_type": "code",
      "execution_count": 55,
      "metadata": {
        "id": "b5WfIX0Z6_q2",
        "colab": {
          "base_uri": "https://localhost:8080/",
          "height": 206
        },
        "outputId": "310ea45c-d208-4c03-8b56-e8d3213fb8bd"
      },
      "outputs": [
        {
          "output_type": "execute_result",
          "data": {
            "text/plain": [
              "   song_id  predicted_play_count\n",
              "0     7224              3.051318\n",
              "1      614              2.600000\n",
              "2     5653              2.514023\n",
              "3     8324              2.471793\n",
              "4      952              2.400000"
            ],
            "text/html": [
              "\n",
              "  <div id=\"df-332e7b08-22d0-4a2c-869b-46952a2606a2\" class=\"colab-df-container\">\n",
              "    <div>\n",
              "<style scoped>\n",
              "    .dataframe tbody tr th:only-of-type {\n",
              "        vertical-align: middle;\n",
              "    }\n",
              "\n",
              "    .dataframe tbody tr th {\n",
              "        vertical-align: top;\n",
              "    }\n",
              "\n",
              "    .dataframe thead th {\n",
              "        text-align: right;\n",
              "    }\n",
              "</style>\n",
              "<table border=\"1\" class=\"dataframe\">\n",
              "  <thead>\n",
              "    <tr style=\"text-align: right;\">\n",
              "      <th></th>\n",
              "      <th>song_id</th>\n",
              "      <th>predicted_play_count</th>\n",
              "    </tr>\n",
              "  </thead>\n",
              "  <tbody>\n",
              "    <tr>\n",
              "      <th>0</th>\n",
              "      <td>7224</td>\n",
              "      <td>3.051318</td>\n",
              "    </tr>\n",
              "    <tr>\n",
              "      <th>1</th>\n",
              "      <td>614</td>\n",
              "      <td>2.600000</td>\n",
              "    </tr>\n",
              "    <tr>\n",
              "      <th>2</th>\n",
              "      <td>5653</td>\n",
              "      <td>2.514023</td>\n",
              "    </tr>\n",
              "    <tr>\n",
              "      <th>3</th>\n",
              "      <td>8324</td>\n",
              "      <td>2.471793</td>\n",
              "    </tr>\n",
              "    <tr>\n",
              "      <th>4</th>\n",
              "      <td>952</td>\n",
              "      <td>2.400000</td>\n",
              "    </tr>\n",
              "  </tbody>\n",
              "</table>\n",
              "</div>\n",
              "    <div class=\"colab-df-buttons\">\n",
              "\n",
              "  <div class=\"colab-df-container\">\n",
              "    <button class=\"colab-df-convert\" onclick=\"convertToInteractive('df-332e7b08-22d0-4a2c-869b-46952a2606a2')\"\n",
              "            title=\"Convert this dataframe to an interactive table.\"\n",
              "            style=\"display:none;\">\n",
              "\n",
              "  <svg xmlns=\"http://www.w3.org/2000/svg\" height=\"24px\" viewBox=\"0 -960 960 960\">\n",
              "    <path d=\"M120-120v-720h720v720H120Zm60-500h600v-160H180v160Zm220 220h160v-160H400v160Zm0 220h160v-160H400v160ZM180-400h160v-160H180v160Zm440 0h160v-160H620v160ZM180-180h160v-160H180v160Zm440 0h160v-160H620v160Z\"/>\n",
              "  </svg>\n",
              "    </button>\n",
              "\n",
              "  <style>\n",
              "    .colab-df-container {\n",
              "      display:flex;\n",
              "      gap: 12px;\n",
              "    }\n",
              "\n",
              "    .colab-df-convert {\n",
              "      background-color: #E8F0FE;\n",
              "      border: none;\n",
              "      border-radius: 50%;\n",
              "      cursor: pointer;\n",
              "      display: none;\n",
              "      fill: #1967D2;\n",
              "      height: 32px;\n",
              "      padding: 0 0 0 0;\n",
              "      width: 32px;\n",
              "    }\n",
              "\n",
              "    .colab-df-convert:hover {\n",
              "      background-color: #E2EBFA;\n",
              "      box-shadow: 0px 1px 2px rgba(60, 64, 67, 0.3), 0px 1px 3px 1px rgba(60, 64, 67, 0.15);\n",
              "      fill: #174EA6;\n",
              "    }\n",
              "\n",
              "    .colab-df-buttons div {\n",
              "      margin-bottom: 4px;\n",
              "    }\n",
              "\n",
              "    [theme=dark] .colab-df-convert {\n",
              "      background-color: #3B4455;\n",
              "      fill: #D2E3FC;\n",
              "    }\n",
              "\n",
              "    [theme=dark] .colab-df-convert:hover {\n",
              "      background-color: #434B5C;\n",
              "      box-shadow: 0px 1px 3px 1px rgba(0, 0, 0, 0.15);\n",
              "      filter: drop-shadow(0px 1px 2px rgba(0, 0, 0, 0.3));\n",
              "      fill: #FFFFFF;\n",
              "    }\n",
              "  </style>\n",
              "\n",
              "    <script>\n",
              "      const buttonEl =\n",
              "        document.querySelector('#df-332e7b08-22d0-4a2c-869b-46952a2606a2 button.colab-df-convert');\n",
              "      buttonEl.style.display =\n",
              "        google.colab.kernel.accessAllowed ? 'block' : 'none';\n",
              "\n",
              "      async function convertToInteractive(key) {\n",
              "        const element = document.querySelector('#df-332e7b08-22d0-4a2c-869b-46952a2606a2');\n",
              "        const dataTable =\n",
              "          await google.colab.kernel.invokeFunction('convertToInteractive',\n",
              "                                                    [key], {});\n",
              "        if (!dataTable) return;\n",
              "\n",
              "        const docLinkHtml = 'Like what you see? Visit the ' +\n",
              "          '<a target=\"_blank\" href=https://colab.research.google.com/notebooks/data_table.ipynb>data table notebook</a>'\n",
              "          + ' to learn more about interactive tables.';\n",
              "        element.innerHTML = '';\n",
              "        dataTable['output_type'] = 'display_data';\n",
              "        await google.colab.output.renderOutput(dataTable, element);\n",
              "        const docLink = document.createElement('div');\n",
              "        docLink.innerHTML = docLinkHtml;\n",
              "        element.appendChild(docLink);\n",
              "      }\n",
              "    </script>\n",
              "  </div>\n",
              "\n",
              "\n",
              "<div id=\"df-454b42b1-8186-4b2e-b0bd-0d04dd61c4a5\">\n",
              "  <button class=\"colab-df-quickchart\" onclick=\"quickchart('df-454b42b1-8186-4b2e-b0bd-0d04dd61c4a5')\"\n",
              "            title=\"Suggest charts.\"\n",
              "            style=\"display:none;\">\n",
              "\n",
              "<svg xmlns=\"http://www.w3.org/2000/svg\" height=\"24px\"viewBox=\"0 0 24 24\"\n",
              "     width=\"24px\">\n",
              "    <g>\n",
              "        <path d=\"M19 3H5c-1.1 0-2 .9-2 2v14c0 1.1.9 2 2 2h14c1.1 0 2-.9 2-2V5c0-1.1-.9-2-2-2zM9 17H7v-7h2v7zm4 0h-2V7h2v10zm4 0h-2v-4h2v4z\"/>\n",
              "    </g>\n",
              "</svg>\n",
              "  </button>\n",
              "\n",
              "<style>\n",
              "  .colab-df-quickchart {\n",
              "      --bg-color: #E8F0FE;\n",
              "      --fill-color: #1967D2;\n",
              "      --hover-bg-color: #E2EBFA;\n",
              "      --hover-fill-color: #174EA6;\n",
              "      --disabled-fill-color: #AAA;\n",
              "      --disabled-bg-color: #DDD;\n",
              "  }\n",
              "\n",
              "  [theme=dark] .colab-df-quickchart {\n",
              "      --bg-color: #3B4455;\n",
              "      --fill-color: #D2E3FC;\n",
              "      --hover-bg-color: #434B5C;\n",
              "      --hover-fill-color: #FFFFFF;\n",
              "      --disabled-bg-color: #3B4455;\n",
              "      --disabled-fill-color: #666;\n",
              "  }\n",
              "\n",
              "  .colab-df-quickchart {\n",
              "    background-color: var(--bg-color);\n",
              "    border: none;\n",
              "    border-radius: 50%;\n",
              "    cursor: pointer;\n",
              "    display: none;\n",
              "    fill: var(--fill-color);\n",
              "    height: 32px;\n",
              "    padding: 0;\n",
              "    width: 32px;\n",
              "  }\n",
              "\n",
              "  .colab-df-quickchart:hover {\n",
              "    background-color: var(--hover-bg-color);\n",
              "    box-shadow: 0 1px 2px rgba(60, 64, 67, 0.3), 0 1px 3px 1px rgba(60, 64, 67, 0.15);\n",
              "    fill: var(--button-hover-fill-color);\n",
              "  }\n",
              "\n",
              "  .colab-df-quickchart-complete:disabled,\n",
              "  .colab-df-quickchart-complete:disabled:hover {\n",
              "    background-color: var(--disabled-bg-color);\n",
              "    fill: var(--disabled-fill-color);\n",
              "    box-shadow: none;\n",
              "  }\n",
              "\n",
              "  .colab-df-spinner {\n",
              "    border: 2px solid var(--fill-color);\n",
              "    border-color: transparent;\n",
              "    border-bottom-color: var(--fill-color);\n",
              "    animation:\n",
              "      spin 1s steps(1) infinite;\n",
              "  }\n",
              "\n",
              "  @keyframes spin {\n",
              "    0% {\n",
              "      border-color: transparent;\n",
              "      border-bottom-color: var(--fill-color);\n",
              "      border-left-color: var(--fill-color);\n",
              "    }\n",
              "    20% {\n",
              "      border-color: transparent;\n",
              "      border-left-color: var(--fill-color);\n",
              "      border-top-color: var(--fill-color);\n",
              "    }\n",
              "    30% {\n",
              "      border-color: transparent;\n",
              "      border-left-color: var(--fill-color);\n",
              "      border-top-color: var(--fill-color);\n",
              "      border-right-color: var(--fill-color);\n",
              "    }\n",
              "    40% {\n",
              "      border-color: transparent;\n",
              "      border-right-color: var(--fill-color);\n",
              "      border-top-color: var(--fill-color);\n",
              "    }\n",
              "    60% {\n",
              "      border-color: transparent;\n",
              "      border-right-color: var(--fill-color);\n",
              "    }\n",
              "    80% {\n",
              "      border-color: transparent;\n",
              "      border-right-color: var(--fill-color);\n",
              "      border-bottom-color: var(--fill-color);\n",
              "    }\n",
              "    90% {\n",
              "      border-color: transparent;\n",
              "      border-bottom-color: var(--fill-color);\n",
              "    }\n",
              "  }\n",
              "</style>\n",
              "\n",
              "  <script>\n",
              "    async function quickchart(key) {\n",
              "      const quickchartButtonEl =\n",
              "        document.querySelector('#' + key + ' button');\n",
              "      quickchartButtonEl.disabled = true;  // To prevent multiple clicks.\n",
              "      quickchartButtonEl.classList.add('colab-df-spinner');\n",
              "      try {\n",
              "        const charts = await google.colab.kernel.invokeFunction(\n",
              "            'suggestCharts', [key], {});\n",
              "      } catch (error) {\n",
              "        console.error('Error during call to suggestCharts:', error);\n",
              "      }\n",
              "      quickchartButtonEl.classList.remove('colab-df-spinner');\n",
              "      quickchartButtonEl.classList.add('colab-df-quickchart-complete');\n",
              "    }\n",
              "    (() => {\n",
              "      let quickchartButtonEl =\n",
              "        document.querySelector('#df-454b42b1-8186-4b2e-b0bd-0d04dd61c4a5 button');\n",
              "      quickchartButtonEl.style.display =\n",
              "        google.colab.kernel.accessAllowed ? 'block' : 'none';\n",
              "    })();\n",
              "  </script>\n",
              "</div>\n",
              "    </div>\n",
              "  </div>\n"
            ]
          },
          "metadata": {},
          "execution_count": 55
        }
      ],
      "source": [
        "# Building the dataframe for above recommendations with columns \"song_id\" and \"predicted_ratings\"\n",
        "pd.DataFrame(recommendations, columns = ['song_id', 'predicted_play_count'])"
      ]
    },
    {
      "cell_type": "markdown",
      "metadata": {
        "id": "kyhThMOttWjj"
      },
      "source": [
        "**Observations and Insights:______________**"
      ]
    },
    {
      "cell_type": "markdown",
      "metadata": {
        "id": "ghwEJY2e7INB"
      },
      "source": [
        "### Correcting the play_counts and Ranking the above songs"
      ]
    },
    {
      "cell_type": "code",
      "execution_count": 41,
      "metadata": {
        "id": "39Hs7ZbO9v3O"
      },
      "outputs": [],
      "source": [
        "def ranking_songs(recommendations, final_play):\n",
        "  # Sort the songs based on play counts\n",
        "  ranked_songs = final_play.loc[[items[0] for items in recommendations]].sort_values('play_freq', ascending = False)[['play_freq']].reset_index()\n",
        "\n",
        "  # Merge with the recommended songs to get predicted play_count\n",
        "  ranked_songs = ranked_songs.merge(pd.DataFrame(recommendations, columns = ['song_id', 'predicted_play_count']), on = 'song_id', how = 'inner')\n",
        "\n",
        "  # Rank the songs based on corrected play_counts\n",
        "  ranked_songs['corrected_play_count'] = ranked_songs['predicted_play_count'] - 1 / np.sqrt(ranked_songs['play_freq'])\n",
        "\n",
        "  # Sort the songs based on corrected play_counts\n",
        "  ranked_songs = ranked_songs.sort_values('corrected_play_count', ascending = False)\n",
        "\n",
        "  return ranked_songs"
      ]
    },
    {
      "cell_type": "markdown",
      "metadata": {
        "id": "zQvst41lOoMX"
      },
      "source": [
        "**Think About It:** In the above function to correct the predicted play_count a quantity 1/np.sqrt(n) is subtracted. What is the intuition behind it? Is it also possible to add this quantity instead of subtracting?"
      ]
    },
    {
      "cell_type": "code",
      "execution_count": 57,
      "metadata": {
        "id": "xoiAL_vH8miC",
        "colab": {
          "base_uri": "https://localhost:8080/",
          "height": 206
        },
        "outputId": "5853274b-52d0-4891-848a-d43fc3606396"
      },
      "outputs": [
        {
          "output_type": "execute_result",
          "data": {
            "text/plain": [
              "   song_id  play_freq  predicted_play_count  corrected_play_count\n",
              "2     7224        361              3.051318              2.998687\n",
              "1      614        827              2.600000              2.565227\n",
              "4     5653        248              2.514023              2.450523\n",
              "3     8324        252              2.471793              2.408799\n",
              "0      952        921              2.400000              2.367049"
            ],
            "text/html": [
              "\n",
              "  <div id=\"df-49abb6be-385b-4e73-9156-a43c627df05a\" class=\"colab-df-container\">\n",
              "    <div>\n",
              "<style scoped>\n",
              "    .dataframe tbody tr th:only-of-type {\n",
              "        vertical-align: middle;\n",
              "    }\n",
              "\n",
              "    .dataframe tbody tr th {\n",
              "        vertical-align: top;\n",
              "    }\n",
              "\n",
              "    .dataframe thead th {\n",
              "        text-align: right;\n",
              "    }\n",
              "</style>\n",
              "<table border=\"1\" class=\"dataframe\">\n",
              "  <thead>\n",
              "    <tr style=\"text-align: right;\">\n",
              "      <th></th>\n",
              "      <th>song_id</th>\n",
              "      <th>play_freq</th>\n",
              "      <th>predicted_play_count</th>\n",
              "      <th>corrected_play_count</th>\n",
              "    </tr>\n",
              "  </thead>\n",
              "  <tbody>\n",
              "    <tr>\n",
              "      <th>2</th>\n",
              "      <td>7224</td>\n",
              "      <td>361</td>\n",
              "      <td>3.051318</td>\n",
              "      <td>2.998687</td>\n",
              "    </tr>\n",
              "    <tr>\n",
              "      <th>1</th>\n",
              "      <td>614</td>\n",
              "      <td>827</td>\n",
              "      <td>2.600000</td>\n",
              "      <td>2.565227</td>\n",
              "    </tr>\n",
              "    <tr>\n",
              "      <th>4</th>\n",
              "      <td>5653</td>\n",
              "      <td>248</td>\n",
              "      <td>2.514023</td>\n",
              "      <td>2.450523</td>\n",
              "    </tr>\n",
              "    <tr>\n",
              "      <th>3</th>\n",
              "      <td>8324</td>\n",
              "      <td>252</td>\n",
              "      <td>2.471793</td>\n",
              "      <td>2.408799</td>\n",
              "    </tr>\n",
              "    <tr>\n",
              "      <th>0</th>\n",
              "      <td>952</td>\n",
              "      <td>921</td>\n",
              "      <td>2.400000</td>\n",
              "      <td>2.367049</td>\n",
              "    </tr>\n",
              "  </tbody>\n",
              "</table>\n",
              "</div>\n",
              "    <div class=\"colab-df-buttons\">\n",
              "\n",
              "  <div class=\"colab-df-container\">\n",
              "    <button class=\"colab-df-convert\" onclick=\"convertToInteractive('df-49abb6be-385b-4e73-9156-a43c627df05a')\"\n",
              "            title=\"Convert this dataframe to an interactive table.\"\n",
              "            style=\"display:none;\">\n",
              "\n",
              "  <svg xmlns=\"http://www.w3.org/2000/svg\" height=\"24px\" viewBox=\"0 -960 960 960\">\n",
              "    <path d=\"M120-120v-720h720v720H120Zm60-500h600v-160H180v160Zm220 220h160v-160H400v160Zm0 220h160v-160H400v160ZM180-400h160v-160H180v160Zm440 0h160v-160H620v160ZM180-180h160v-160H180v160Zm440 0h160v-160H620v160Z\"/>\n",
              "  </svg>\n",
              "    </button>\n",
              "\n",
              "  <style>\n",
              "    .colab-df-container {\n",
              "      display:flex;\n",
              "      gap: 12px;\n",
              "    }\n",
              "\n",
              "    .colab-df-convert {\n",
              "      background-color: #E8F0FE;\n",
              "      border: none;\n",
              "      border-radius: 50%;\n",
              "      cursor: pointer;\n",
              "      display: none;\n",
              "      fill: #1967D2;\n",
              "      height: 32px;\n",
              "      padding: 0 0 0 0;\n",
              "      width: 32px;\n",
              "    }\n",
              "\n",
              "    .colab-df-convert:hover {\n",
              "      background-color: #E2EBFA;\n",
              "      box-shadow: 0px 1px 2px rgba(60, 64, 67, 0.3), 0px 1px 3px 1px rgba(60, 64, 67, 0.15);\n",
              "      fill: #174EA6;\n",
              "    }\n",
              "\n",
              "    .colab-df-buttons div {\n",
              "      margin-bottom: 4px;\n",
              "    }\n",
              "\n",
              "    [theme=dark] .colab-df-convert {\n",
              "      background-color: #3B4455;\n",
              "      fill: #D2E3FC;\n",
              "    }\n",
              "\n",
              "    [theme=dark] .colab-df-convert:hover {\n",
              "      background-color: #434B5C;\n",
              "      box-shadow: 0px 1px 3px 1px rgba(0, 0, 0, 0.15);\n",
              "      filter: drop-shadow(0px 1px 2px rgba(0, 0, 0, 0.3));\n",
              "      fill: #FFFFFF;\n",
              "    }\n",
              "  </style>\n",
              "\n",
              "    <script>\n",
              "      const buttonEl =\n",
              "        document.querySelector('#df-49abb6be-385b-4e73-9156-a43c627df05a button.colab-df-convert');\n",
              "      buttonEl.style.display =\n",
              "        google.colab.kernel.accessAllowed ? 'block' : 'none';\n",
              "\n",
              "      async function convertToInteractive(key) {\n",
              "        const element = document.querySelector('#df-49abb6be-385b-4e73-9156-a43c627df05a');\n",
              "        const dataTable =\n",
              "          await google.colab.kernel.invokeFunction('convertToInteractive',\n",
              "                                                    [key], {});\n",
              "        if (!dataTable) return;\n",
              "\n",
              "        const docLinkHtml = 'Like what you see? Visit the ' +\n",
              "          '<a target=\"_blank\" href=https://colab.research.google.com/notebooks/data_table.ipynb>data table notebook</a>'\n",
              "          + ' to learn more about interactive tables.';\n",
              "        element.innerHTML = '';\n",
              "        dataTable['output_type'] = 'display_data';\n",
              "        await google.colab.output.renderOutput(dataTable, element);\n",
              "        const docLink = document.createElement('div');\n",
              "        docLink.innerHTML = docLinkHtml;\n",
              "        element.appendChild(docLink);\n",
              "      }\n",
              "    </script>\n",
              "  </div>\n",
              "\n",
              "\n",
              "<div id=\"df-cc1583f9-263e-4302-8398-6277edf1c677\">\n",
              "  <button class=\"colab-df-quickchart\" onclick=\"quickchart('df-cc1583f9-263e-4302-8398-6277edf1c677')\"\n",
              "            title=\"Suggest charts.\"\n",
              "            style=\"display:none;\">\n",
              "\n",
              "<svg xmlns=\"http://www.w3.org/2000/svg\" height=\"24px\"viewBox=\"0 0 24 24\"\n",
              "     width=\"24px\">\n",
              "    <g>\n",
              "        <path d=\"M19 3H5c-1.1 0-2 .9-2 2v14c0 1.1.9 2 2 2h14c1.1 0 2-.9 2-2V5c0-1.1-.9-2-2-2zM9 17H7v-7h2v7zm4 0h-2V7h2v10zm4 0h-2v-4h2v4z\"/>\n",
              "    </g>\n",
              "</svg>\n",
              "  </button>\n",
              "\n",
              "<style>\n",
              "  .colab-df-quickchart {\n",
              "      --bg-color: #E8F0FE;\n",
              "      --fill-color: #1967D2;\n",
              "      --hover-bg-color: #E2EBFA;\n",
              "      --hover-fill-color: #174EA6;\n",
              "      --disabled-fill-color: #AAA;\n",
              "      --disabled-bg-color: #DDD;\n",
              "  }\n",
              "\n",
              "  [theme=dark] .colab-df-quickchart {\n",
              "      --bg-color: #3B4455;\n",
              "      --fill-color: #D2E3FC;\n",
              "      --hover-bg-color: #434B5C;\n",
              "      --hover-fill-color: #FFFFFF;\n",
              "      --disabled-bg-color: #3B4455;\n",
              "      --disabled-fill-color: #666;\n",
              "  }\n",
              "\n",
              "  .colab-df-quickchart {\n",
              "    background-color: var(--bg-color);\n",
              "    border: none;\n",
              "    border-radius: 50%;\n",
              "    cursor: pointer;\n",
              "    display: none;\n",
              "    fill: var(--fill-color);\n",
              "    height: 32px;\n",
              "    padding: 0;\n",
              "    width: 32px;\n",
              "  }\n",
              "\n",
              "  .colab-df-quickchart:hover {\n",
              "    background-color: var(--hover-bg-color);\n",
              "    box-shadow: 0 1px 2px rgba(60, 64, 67, 0.3), 0 1px 3px 1px rgba(60, 64, 67, 0.15);\n",
              "    fill: var(--button-hover-fill-color);\n",
              "  }\n",
              "\n",
              "  .colab-df-quickchart-complete:disabled,\n",
              "  .colab-df-quickchart-complete:disabled:hover {\n",
              "    background-color: var(--disabled-bg-color);\n",
              "    fill: var(--disabled-fill-color);\n",
              "    box-shadow: none;\n",
              "  }\n",
              "\n",
              "  .colab-df-spinner {\n",
              "    border: 2px solid var(--fill-color);\n",
              "    border-color: transparent;\n",
              "    border-bottom-color: var(--fill-color);\n",
              "    animation:\n",
              "      spin 1s steps(1) infinite;\n",
              "  }\n",
              "\n",
              "  @keyframes spin {\n",
              "    0% {\n",
              "      border-color: transparent;\n",
              "      border-bottom-color: var(--fill-color);\n",
              "      border-left-color: var(--fill-color);\n",
              "    }\n",
              "    20% {\n",
              "      border-color: transparent;\n",
              "      border-left-color: var(--fill-color);\n",
              "      border-top-color: var(--fill-color);\n",
              "    }\n",
              "    30% {\n",
              "      border-color: transparent;\n",
              "      border-left-color: var(--fill-color);\n",
              "      border-top-color: var(--fill-color);\n",
              "      border-right-color: var(--fill-color);\n",
              "    }\n",
              "    40% {\n",
              "      border-color: transparent;\n",
              "      border-right-color: var(--fill-color);\n",
              "      border-top-color: var(--fill-color);\n",
              "    }\n",
              "    60% {\n",
              "      border-color: transparent;\n",
              "      border-right-color: var(--fill-color);\n",
              "    }\n",
              "    80% {\n",
              "      border-color: transparent;\n",
              "      border-right-color: var(--fill-color);\n",
              "      border-bottom-color: var(--fill-color);\n",
              "    }\n",
              "    90% {\n",
              "      border-color: transparent;\n",
              "      border-bottom-color: var(--fill-color);\n",
              "    }\n",
              "  }\n",
              "</style>\n",
              "\n",
              "  <script>\n",
              "    async function quickchart(key) {\n",
              "      const quickchartButtonEl =\n",
              "        document.querySelector('#' + key + ' button');\n",
              "      quickchartButtonEl.disabled = true;  // To prevent multiple clicks.\n",
              "      quickchartButtonEl.classList.add('colab-df-spinner');\n",
              "      try {\n",
              "        const charts = await google.colab.kernel.invokeFunction(\n",
              "            'suggestCharts', [key], {});\n",
              "      } catch (error) {\n",
              "        console.error('Error during call to suggestCharts:', error);\n",
              "      }\n",
              "      quickchartButtonEl.classList.remove('colab-df-spinner');\n",
              "      quickchartButtonEl.classList.add('colab-df-quickchart-complete');\n",
              "    }\n",
              "    (() => {\n",
              "      let quickchartButtonEl =\n",
              "        document.querySelector('#df-cc1583f9-263e-4302-8398-6277edf1c677 button');\n",
              "      quickchartButtonEl.style.display =\n",
              "        google.colab.kernel.accessAllowed ? 'block' : 'none';\n",
              "    })();\n",
              "  </script>\n",
              "</div>\n",
              "    </div>\n",
              "  </div>\n"
            ]
          },
          "metadata": {},
          "execution_count": 57
        }
      ],
      "source": [
        "# Applying the ranking_songs function on the final_play data\n",
        "ranking_songs(recommendations, final_play)"
      ]
    },
    {
      "cell_type": "markdown",
      "metadata": {
        "id": "KOwwGsH8toLG"
      },
      "source": [
        "**Observations and Insights: We do not see a huge difference between corrected and predicted play counts for these songs**"
      ]
    },
    {
      "cell_type": "markdown",
      "metadata": {
        "id": "QgbzJKk7Tsnr"
      },
      "source": [
        "### Item Item Similarity-based collaborative filtering recommendation systems"
      ]
    },
    {
      "cell_type": "code",
      "execution_count": 58,
      "metadata": {
        "id": "W5RMcdzjTsns",
        "scrolled": false,
        "colab": {
          "base_uri": "https://localhost:8080/"
        },
        "outputId": "75fdfa5f-8591-470a-e740-9844138f6bd0"
      },
      "outputs": [
        {
          "output_type": "stream",
          "name": "stdout",
          "text": [
            "RMSE: 1.0394\n",
            "Precision:  0.307\n",
            "Recall:  0.562\n",
            "F_1 score:  0.397\n"
          ]
        }
      ],
      "source": [
        "# Apply the item-item similarity collaborative filtering model with random_state = 1 and evaluate the model performance\n",
        "\n",
        "sim_options = {'name': 'cosine',\n",
        "               'user_based': False}\n",
        "sim_item_item = KNNBasic(sim_options = sim_options, random_state = 1, verbose = False)\n",
        "\n",
        "# Training the algorithm on the train set\n",
        "sim_item_item.fit(trainset)\n",
        "\n",
        "# Let us compute precision@k and recall@k also with k = 10\n",
        "precision_recall_at_k(sim_item_item)\n",
        "\n"
      ]
    },
    {
      "cell_type": "markdown",
      "metadata": {
        "id": "JfdIJ6XWunx0"
      },
      "source": [
        "**Observations and Insights:We have calculated RMSE of 1.039 to check how far the overall predicted play count are from the actual play count. Recall is about 0.56, which means out of all the relevant products, 56% are recommended. Precision is about 0.307, which means out of all the recommended songs 30.7% are relevant. F_1 scoreis almost 0.397. It indicates that mostly recommended songs were relevant and relevant songs were recommended to the user.**"
      ]
    },
    {
      "cell_type": "code",
      "execution_count": 60,
      "metadata": {
        "id": "5yILOxXRTsns",
        "colab": {
          "base_uri": "https://localhost:8080/"
        },
        "outputId": "fa2f4c03-f3dd-4ae7-9b7c-56b296446545"
      },
      "outputs": [
        {
          "output_type": "stream",
          "name": "stdout",
          "text": [
            "user: 6958       item: 1671       r_ui = 5.00   est = 1.70   {'was_impossible': True, 'reason': 'User and/or item is unknown.'}\n"
          ]
        },
        {
          "output_type": "execute_result",
          "data": {
            "text/plain": [
              "Prediction(uid='6958', iid='1671', r_ui=5, est=1.6989607635206787, details={'was_impossible': True, 'reason': 'User and/or item is unknown.'})"
            ]
          },
          "metadata": {},
          "execution_count": 60
        }
      ],
      "source": [
        "# Predicting play count for a sample user_id 6958 and song (with song_id 1671) heard by the user\n",
        "sim_item_item.predict(\"6958\", \"1671\", r_ui = 5, verbose = True)"
      ]
    },
    {
      "cell_type": "markdown",
      "source": [
        "The model is predicting a play count of 1.70 for this user and song pair whereas the actual play count is 5."
      ],
      "metadata": {
        "id": "jTnI10D88B53"
      }
    },
    {
      "cell_type": "code",
      "execution_count": 61,
      "metadata": {
        "id": "jSn8oK3JZsTc",
        "colab": {
          "base_uri": "https://localhost:8080/"
        },
        "outputId": "8a1474c1-e0c3-4468-dd16-cfb09cf700bf"
      },
      "outputs": [
        {
          "output_type": "stream",
          "name": "stdout",
          "text": [
            "user: 47786      item: 1671       r_ui = None   est = 1.70   {'was_impossible': True, 'reason': 'User and/or item is unknown.'}\n"
          ]
        },
        {
          "output_type": "execute_result",
          "data": {
            "text/plain": [
              "Prediction(uid='47786', iid='1671', r_ui=None, est=1.6989607635206787, details={'was_impossible': True, 'reason': 'User and/or item is unknown.'})"
            ]
          },
          "metadata": {},
          "execution_count": 61
        }
      ],
      "source": [
        "# Predict the play count for a user that has not listened to the song (with song_id 1671)\n",
        "sim_item_item.predict(\"47786\", \"1671\", verbose = True)"
      ]
    },
    {
      "cell_type": "markdown",
      "metadata": {
        "id": "dxE9fJ8Dupby"
      },
      "source": [
        "**Observations and Insights:The model is predicting a play count of 1.70 for this user and song pair whereas the user has not listened to this song.**"
      ]
    },
    {
      "cell_type": "code",
      "execution_count": 62,
      "metadata": {
        "id": "f5bcZ3HgTsnt",
        "colab": {
          "base_uri": "https://localhost:8080/"
        },
        "outputId": "4ef0ddf8-7490-4b6f-d3d4-b19643cffa03"
      },
      "outputs": [
        {
          "output_type": "stream",
          "name": "stdout",
          "text": [
            "1.023163021271622\n",
            "{'k': 30, 'min_k': 6, 'sim_options': {'name': 'pearson_baseline', 'user_based': False, 'min_support': 2}}\n"
          ]
        }
      ],
      "source": [
        "# Apply grid search for enhancing model performance\n",
        "\n",
        "# Setting up parameter grid to tune the hyperparameters\n",
        "param_grid = {'k': [10, 20, 30], 'min_k': [3, 6, 9],\n",
        "              'sim_options': {'name': [\"cosine\", 'pearson', \"pearson_baseline\"],\n",
        "                              'user_based': [False], \"min_support\": [2, 4]}\n",
        "              }\n",
        "\n",
        "# Performing 3-fold cross-validation to tune the hyperparameters\n",
        "gs =GridSearchCV(KNNBasic, param_grid, measures = ['rmse'], cv = 3, n_jobs = -1)\n",
        "\n",
        "# Fitting the data\n",
        "gs.fit(data)\n",
        "\n",
        "# Find the best RMSE score\n",
        "print(gs.best_score['rmse'])\n",
        "\n",
        "# Print the combination of parameters that gave the best RMSE score\n",
        "print(gs.best_params['rmse'])"
      ]
    },
    {
      "cell_type": "markdown",
      "metadata": {
        "id": "SXLxjLEQYvWk"
      },
      "source": [
        "**Think About It:** How do the parameters affect the performance of the model? Can we improve the performance of the model further? Check the list of hyperparameters [here](https://surprise.readthedocs.io/en/stable/knn_inspired.html)."
      ]
    },
    {
      "cell_type": "code",
      "execution_count": 63,
      "metadata": {
        "id": "dSeiM1qeTsnt",
        "colab": {
          "base_uri": "https://localhost:8080/"
        },
        "outputId": "8f2c88fa-b19f-4663-850e-29f7f5b59df9"
      },
      "outputs": [
        {
          "output_type": "stream",
          "name": "stdout",
          "text": [
            "RMSE: 1.0398\n",
            "Precision:  0.325\n",
            "Recall:  0.587\n",
            "F_1 score:  0.418\n"
          ]
        }
      ],
      "source": [
        "# Apply the best modle found in the grid search\n",
        "sim_options = {'name': 'cosine',\n",
        "               'user_based': False}\n",
        "sim_item_item_optimized = KNNBasic(sim_options = sim_options, k = 30, min_k = 6, random_state = 1, verbose = False)\n",
        "\n",
        "# Training the algorithm on the train set\n",
        "sim_item_item_optimized.fit(trainset)\n",
        "\n",
        "# Let us compute precision@k and recall@k also with k = 10\n",
        "precision_recall_at_k(sim_item_item_optimized)\n"
      ]
    },
    {
      "cell_type": "markdown",
      "metadata": {
        "id": "XxXelRIluvfh"
      },
      "source": [
        "**Observations and Insights:The RMSE has stayed almost the same. The precision went up a bit to about 32.5% and recal went up to 58.7%. The F1 Score also went up to 41.8 after using the optimized hyper parameters. Recall is about 0.587, which means out of all the relevant songs, 58.7% are recommended. Precision is about 0.325, which means out of all the recommended songs 32.5% are relevant**"
      ]
    },
    {
      "cell_type": "code",
      "execution_count": 64,
      "metadata": {
        "id": "gIBRRvdoTsnt",
        "colab": {
          "base_uri": "https://localhost:8080/"
        },
        "outputId": "2b99b9e8-ca1d-4bdd-edbe-53ee6aea0cee"
      },
      "outputs": [
        {
          "output_type": "stream",
          "name": "stdout",
          "text": [
            "user: 6958       item: 1671       r_ui = 5.00   est = 1.70   {'was_impossible': True, 'reason': 'User and/or item is unknown.'}\n"
          ]
        },
        {
          "output_type": "execute_result",
          "data": {
            "text/plain": [
              "Prediction(uid='6958', iid='1671', r_ui=5, est=1.6989607635206787, details={'was_impossible': True, 'reason': 'User and/or item is unknown.'})"
            ]
          },
          "metadata": {},
          "execution_count": 64
        }
      ],
      "source": [
        "# Predict the play_count by a user(user_id 6958) for the song (song_id 1671)\n",
        "sim_item_item_optimized.predict(\"6958\", \"1671\", r_ui = 5, verbose = True)"
      ]
    },
    {
      "cell_type": "code",
      "execution_count": 65,
      "metadata": {
        "id": "LNEgcI9PTsnu",
        "colab": {
          "base_uri": "https://localhost:8080/"
        },
        "outputId": "288b6d38-a067-4a52-bc4f-f93d191ea10a"
      },
      "outputs": [
        {
          "output_type": "stream",
          "name": "stdout",
          "text": [
            "user: 6958       item: 3232       r_ui = None   est = 1.70   {'was_impossible': True, 'reason': 'User and/or item is unknown.'}\n"
          ]
        },
        {
          "output_type": "execute_result",
          "data": {
            "text/plain": [
              "Prediction(uid='6958', iid='3232', r_ui=None, est=1.6989607635206787, details={'was_impossible': True, 'reason': 'User and/or item is unknown.'})"
            ]
          },
          "metadata": {},
          "execution_count": 65
        }
      ],
      "source": [
        "# Predicting play count for a sample user_id 6958 with song_id 3232 which is not heard by the user\n",
        "sim_item_item.predict(\"6958\", \"3232\", verbose = True)\n"
      ]
    },
    {
      "cell_type": "markdown",
      "metadata": {
        "id": "yf3kDSepuwcw"
      },
      "source": [
        "**Observations and Insights:The hyper pamater tuning did not have much of an impact on the predicted play count.**"
      ]
    },
    {
      "cell_type": "code",
      "execution_count": 68,
      "metadata": {
        "id": "ZRJS4oDFTsnu",
        "colab": {
          "base_uri": "https://localhost:8080/"
        },
        "outputId": "22cc5068-282e-43df-c7e8-1d64d737b8ab"
      },
      "outputs": [
        {
          "output_type": "execute_result",
          "data": {
            "text/plain": [
              "[3, 10, 11, 24, 30]"
            ]
          },
          "metadata": {},
          "execution_count": 68
        }
      ],
      "source": [
        "# Find five most similar items to the item with inner id 0\n",
        "sim_item_item_optimized.get_neighbors(0, 5)"
      ]
    },
    {
      "cell_type": "code",
      "execution_count": 70,
      "metadata": {
        "id": "rzoEbuZFTsnu"
      },
      "outputs": [],
      "source": [
        "# Making top 5 recommendations for user_id 6958 with item_item_similarity-based recommendation engine\n",
        "recommendations = get_recommendations(df_final, 6958, 5, sim_item_item_optimized)"
      ]
    },
    {
      "cell_type": "code",
      "execution_count": 71,
      "metadata": {
        "id": "_kXVTiysTsnv",
        "colab": {
          "base_uri": "https://localhost:8080/",
          "height": 206
        },
        "outputId": "c10cd324-55cc-4386-fd5e-0071f112d73f"
      },
      "outputs": [
        {
          "output_type": "execute_result",
          "data": {
            "text/plain": [
              "   prod_id  predicted_ratings\n",
              "0     2842           1.650010\n",
              "1     7921           1.542349\n",
              "2     1767           1.540675\n",
              "3     4631           1.539257\n",
              "4     5417           1.538866"
            ],
            "text/html": [
              "\n",
              "  <div id=\"df-ec8fe76b-efa6-452e-b11e-c117535e8c22\" class=\"colab-df-container\">\n",
              "    <div>\n",
              "<style scoped>\n",
              "    .dataframe tbody tr th:only-of-type {\n",
              "        vertical-align: middle;\n",
              "    }\n",
              "\n",
              "    .dataframe tbody tr th {\n",
              "        vertical-align: top;\n",
              "    }\n",
              "\n",
              "    .dataframe thead th {\n",
              "        text-align: right;\n",
              "    }\n",
              "</style>\n",
              "<table border=\"1\" class=\"dataframe\">\n",
              "  <thead>\n",
              "    <tr style=\"text-align: right;\">\n",
              "      <th></th>\n",
              "      <th>prod_id</th>\n",
              "      <th>predicted_ratings</th>\n",
              "    </tr>\n",
              "  </thead>\n",
              "  <tbody>\n",
              "    <tr>\n",
              "      <th>0</th>\n",
              "      <td>2842</td>\n",
              "      <td>1.650010</td>\n",
              "    </tr>\n",
              "    <tr>\n",
              "      <th>1</th>\n",
              "      <td>7921</td>\n",
              "      <td>1.542349</td>\n",
              "    </tr>\n",
              "    <tr>\n",
              "      <th>2</th>\n",
              "      <td>1767</td>\n",
              "      <td>1.540675</td>\n",
              "    </tr>\n",
              "    <tr>\n",
              "      <th>3</th>\n",
              "      <td>4631</td>\n",
              "      <td>1.539257</td>\n",
              "    </tr>\n",
              "    <tr>\n",
              "      <th>4</th>\n",
              "      <td>5417</td>\n",
              "      <td>1.538866</td>\n",
              "    </tr>\n",
              "  </tbody>\n",
              "</table>\n",
              "</div>\n",
              "    <div class=\"colab-df-buttons\">\n",
              "\n",
              "  <div class=\"colab-df-container\">\n",
              "    <button class=\"colab-df-convert\" onclick=\"convertToInteractive('df-ec8fe76b-efa6-452e-b11e-c117535e8c22')\"\n",
              "            title=\"Convert this dataframe to an interactive table.\"\n",
              "            style=\"display:none;\">\n",
              "\n",
              "  <svg xmlns=\"http://www.w3.org/2000/svg\" height=\"24px\" viewBox=\"0 -960 960 960\">\n",
              "    <path d=\"M120-120v-720h720v720H120Zm60-500h600v-160H180v160Zm220 220h160v-160H400v160Zm0 220h160v-160H400v160ZM180-400h160v-160H180v160Zm440 0h160v-160H620v160ZM180-180h160v-160H180v160Zm440 0h160v-160H620v160Z\"/>\n",
              "  </svg>\n",
              "    </button>\n",
              "\n",
              "  <style>\n",
              "    .colab-df-container {\n",
              "      display:flex;\n",
              "      gap: 12px;\n",
              "    }\n",
              "\n",
              "    .colab-df-convert {\n",
              "      background-color: #E8F0FE;\n",
              "      border: none;\n",
              "      border-radius: 50%;\n",
              "      cursor: pointer;\n",
              "      display: none;\n",
              "      fill: #1967D2;\n",
              "      height: 32px;\n",
              "      padding: 0 0 0 0;\n",
              "      width: 32px;\n",
              "    }\n",
              "\n",
              "    .colab-df-convert:hover {\n",
              "      background-color: #E2EBFA;\n",
              "      box-shadow: 0px 1px 2px rgba(60, 64, 67, 0.3), 0px 1px 3px 1px rgba(60, 64, 67, 0.15);\n",
              "      fill: #174EA6;\n",
              "    }\n",
              "\n",
              "    .colab-df-buttons div {\n",
              "      margin-bottom: 4px;\n",
              "    }\n",
              "\n",
              "    [theme=dark] .colab-df-convert {\n",
              "      background-color: #3B4455;\n",
              "      fill: #D2E3FC;\n",
              "    }\n",
              "\n",
              "    [theme=dark] .colab-df-convert:hover {\n",
              "      background-color: #434B5C;\n",
              "      box-shadow: 0px 1px 3px 1px rgba(0, 0, 0, 0.15);\n",
              "      filter: drop-shadow(0px 1px 2px rgba(0, 0, 0, 0.3));\n",
              "      fill: #FFFFFF;\n",
              "    }\n",
              "  </style>\n",
              "\n",
              "    <script>\n",
              "      const buttonEl =\n",
              "        document.querySelector('#df-ec8fe76b-efa6-452e-b11e-c117535e8c22 button.colab-df-convert');\n",
              "      buttonEl.style.display =\n",
              "        google.colab.kernel.accessAllowed ? 'block' : 'none';\n",
              "\n",
              "      async function convertToInteractive(key) {\n",
              "        const element = document.querySelector('#df-ec8fe76b-efa6-452e-b11e-c117535e8c22');\n",
              "        const dataTable =\n",
              "          await google.colab.kernel.invokeFunction('convertToInteractive',\n",
              "                                                    [key], {});\n",
              "        if (!dataTable) return;\n",
              "\n",
              "        const docLinkHtml = 'Like what you see? Visit the ' +\n",
              "          '<a target=\"_blank\" href=https://colab.research.google.com/notebooks/data_table.ipynb>data table notebook</a>'\n",
              "          + ' to learn more about interactive tables.';\n",
              "        element.innerHTML = '';\n",
              "        dataTable['output_type'] = 'display_data';\n",
              "        await google.colab.output.renderOutput(dataTable, element);\n",
              "        const docLink = document.createElement('div');\n",
              "        docLink.innerHTML = docLinkHtml;\n",
              "        element.appendChild(docLink);\n",
              "      }\n",
              "    </script>\n",
              "  </div>\n",
              "\n",
              "\n",
              "<div id=\"df-b58f3fa0-8fb8-457b-a8d4-bc16376e1a94\">\n",
              "  <button class=\"colab-df-quickchart\" onclick=\"quickchart('df-b58f3fa0-8fb8-457b-a8d4-bc16376e1a94')\"\n",
              "            title=\"Suggest charts.\"\n",
              "            style=\"display:none;\">\n",
              "\n",
              "<svg xmlns=\"http://www.w3.org/2000/svg\" height=\"24px\"viewBox=\"0 0 24 24\"\n",
              "     width=\"24px\">\n",
              "    <g>\n",
              "        <path d=\"M19 3H5c-1.1 0-2 .9-2 2v14c0 1.1.9 2 2 2h14c1.1 0 2-.9 2-2V5c0-1.1-.9-2-2-2zM9 17H7v-7h2v7zm4 0h-2V7h2v10zm4 0h-2v-4h2v4z\"/>\n",
              "    </g>\n",
              "</svg>\n",
              "  </button>\n",
              "\n",
              "<style>\n",
              "  .colab-df-quickchart {\n",
              "      --bg-color: #E8F0FE;\n",
              "      --fill-color: #1967D2;\n",
              "      --hover-bg-color: #E2EBFA;\n",
              "      --hover-fill-color: #174EA6;\n",
              "      --disabled-fill-color: #AAA;\n",
              "      --disabled-bg-color: #DDD;\n",
              "  }\n",
              "\n",
              "  [theme=dark] .colab-df-quickchart {\n",
              "      --bg-color: #3B4455;\n",
              "      --fill-color: #D2E3FC;\n",
              "      --hover-bg-color: #434B5C;\n",
              "      --hover-fill-color: #FFFFFF;\n",
              "      --disabled-bg-color: #3B4455;\n",
              "      --disabled-fill-color: #666;\n",
              "  }\n",
              "\n",
              "  .colab-df-quickchart {\n",
              "    background-color: var(--bg-color);\n",
              "    border: none;\n",
              "    border-radius: 50%;\n",
              "    cursor: pointer;\n",
              "    display: none;\n",
              "    fill: var(--fill-color);\n",
              "    height: 32px;\n",
              "    padding: 0;\n",
              "    width: 32px;\n",
              "  }\n",
              "\n",
              "  .colab-df-quickchart:hover {\n",
              "    background-color: var(--hover-bg-color);\n",
              "    box-shadow: 0 1px 2px rgba(60, 64, 67, 0.3), 0 1px 3px 1px rgba(60, 64, 67, 0.15);\n",
              "    fill: var(--button-hover-fill-color);\n",
              "  }\n",
              "\n",
              "  .colab-df-quickchart-complete:disabled,\n",
              "  .colab-df-quickchart-complete:disabled:hover {\n",
              "    background-color: var(--disabled-bg-color);\n",
              "    fill: var(--disabled-fill-color);\n",
              "    box-shadow: none;\n",
              "  }\n",
              "\n",
              "  .colab-df-spinner {\n",
              "    border: 2px solid var(--fill-color);\n",
              "    border-color: transparent;\n",
              "    border-bottom-color: var(--fill-color);\n",
              "    animation:\n",
              "      spin 1s steps(1) infinite;\n",
              "  }\n",
              "\n",
              "  @keyframes spin {\n",
              "    0% {\n",
              "      border-color: transparent;\n",
              "      border-bottom-color: var(--fill-color);\n",
              "      border-left-color: var(--fill-color);\n",
              "    }\n",
              "    20% {\n",
              "      border-color: transparent;\n",
              "      border-left-color: var(--fill-color);\n",
              "      border-top-color: var(--fill-color);\n",
              "    }\n",
              "    30% {\n",
              "      border-color: transparent;\n",
              "      border-left-color: var(--fill-color);\n",
              "      border-top-color: var(--fill-color);\n",
              "      border-right-color: var(--fill-color);\n",
              "    }\n",
              "    40% {\n",
              "      border-color: transparent;\n",
              "      border-right-color: var(--fill-color);\n",
              "      border-top-color: var(--fill-color);\n",
              "    }\n",
              "    60% {\n",
              "      border-color: transparent;\n",
              "      border-right-color: var(--fill-color);\n",
              "    }\n",
              "    80% {\n",
              "      border-color: transparent;\n",
              "      border-right-color: var(--fill-color);\n",
              "      border-bottom-color: var(--fill-color);\n",
              "    }\n",
              "    90% {\n",
              "      border-color: transparent;\n",
              "      border-bottom-color: var(--fill-color);\n",
              "    }\n",
              "  }\n",
              "</style>\n",
              "\n",
              "  <script>\n",
              "    async function quickchart(key) {\n",
              "      const quickchartButtonEl =\n",
              "        document.querySelector('#' + key + ' button');\n",
              "      quickchartButtonEl.disabled = true;  // To prevent multiple clicks.\n",
              "      quickchartButtonEl.classList.add('colab-df-spinner');\n",
              "      try {\n",
              "        const charts = await google.colab.kernel.invokeFunction(\n",
              "            'suggestCharts', [key], {});\n",
              "      } catch (error) {\n",
              "        console.error('Error during call to suggestCharts:', error);\n",
              "      }\n",
              "      quickchartButtonEl.classList.remove('colab-df-spinner');\n",
              "      quickchartButtonEl.classList.add('colab-df-quickchart-complete');\n",
              "    }\n",
              "    (() => {\n",
              "      let quickchartButtonEl =\n",
              "        document.querySelector('#df-b58f3fa0-8fb8-457b-a8d4-bc16376e1a94 button');\n",
              "      quickchartButtonEl.style.display =\n",
              "        google.colab.kernel.accessAllowed ? 'block' : 'none';\n",
              "    })();\n",
              "  </script>\n",
              "</div>\n",
              "    </div>\n",
              "  </div>\n"
            ]
          },
          "metadata": {},
          "execution_count": 71
        }
      ],
      "source": [
        "# Building the dataframe for above recommendations with columns \"song_id\" and \"predicted_play_count\"\n",
        "pd.DataFrame(recommendations, columns = ['prod_id', 'predicted_ratings'])"
      ]
    },
    {
      "cell_type": "code",
      "execution_count": 72,
      "metadata": {
        "id": "7gewfmTATsnv",
        "colab": {
          "base_uri": "https://localhost:8080/",
          "height": 206
        },
        "outputId": "4bb5ac48-6fa3-4fbf-98f0-7ef75d69a87d"
      },
      "outputs": [
        {
          "output_type": "execute_result",
          "data": {
            "text/plain": [
              "   song_id  play_freq  predicted_play_count  corrected_play_count\n",
              "0     2842        396              1.650010              1.599759\n",
              "1     7921        337              1.542349              1.487875\n",
              "2     5417        208              1.538866              1.469528\n",
              "3     4631        191              1.539257              1.466899\n",
              "4     1767        161              1.540675              1.461864"
            ],
            "text/html": [
              "\n",
              "  <div id=\"df-2f0ef52c-03bf-40aa-aecd-3549c27c41c1\" class=\"colab-df-container\">\n",
              "    <div>\n",
              "<style scoped>\n",
              "    .dataframe tbody tr th:only-of-type {\n",
              "        vertical-align: middle;\n",
              "    }\n",
              "\n",
              "    .dataframe tbody tr th {\n",
              "        vertical-align: top;\n",
              "    }\n",
              "\n",
              "    .dataframe thead th {\n",
              "        text-align: right;\n",
              "    }\n",
              "</style>\n",
              "<table border=\"1\" class=\"dataframe\">\n",
              "  <thead>\n",
              "    <tr style=\"text-align: right;\">\n",
              "      <th></th>\n",
              "      <th>song_id</th>\n",
              "      <th>play_freq</th>\n",
              "      <th>predicted_play_count</th>\n",
              "      <th>corrected_play_count</th>\n",
              "    </tr>\n",
              "  </thead>\n",
              "  <tbody>\n",
              "    <tr>\n",
              "      <th>0</th>\n",
              "      <td>2842</td>\n",
              "      <td>396</td>\n",
              "      <td>1.650010</td>\n",
              "      <td>1.599759</td>\n",
              "    </tr>\n",
              "    <tr>\n",
              "      <th>1</th>\n",
              "      <td>7921</td>\n",
              "      <td>337</td>\n",
              "      <td>1.542349</td>\n",
              "      <td>1.487875</td>\n",
              "    </tr>\n",
              "    <tr>\n",
              "      <th>2</th>\n",
              "      <td>5417</td>\n",
              "      <td>208</td>\n",
              "      <td>1.538866</td>\n",
              "      <td>1.469528</td>\n",
              "    </tr>\n",
              "    <tr>\n",
              "      <th>3</th>\n",
              "      <td>4631</td>\n",
              "      <td>191</td>\n",
              "      <td>1.539257</td>\n",
              "      <td>1.466899</td>\n",
              "    </tr>\n",
              "    <tr>\n",
              "      <th>4</th>\n",
              "      <td>1767</td>\n",
              "      <td>161</td>\n",
              "      <td>1.540675</td>\n",
              "      <td>1.461864</td>\n",
              "    </tr>\n",
              "  </tbody>\n",
              "</table>\n",
              "</div>\n",
              "    <div class=\"colab-df-buttons\">\n",
              "\n",
              "  <div class=\"colab-df-container\">\n",
              "    <button class=\"colab-df-convert\" onclick=\"convertToInteractive('df-2f0ef52c-03bf-40aa-aecd-3549c27c41c1')\"\n",
              "            title=\"Convert this dataframe to an interactive table.\"\n",
              "            style=\"display:none;\">\n",
              "\n",
              "  <svg xmlns=\"http://www.w3.org/2000/svg\" height=\"24px\" viewBox=\"0 -960 960 960\">\n",
              "    <path d=\"M120-120v-720h720v720H120Zm60-500h600v-160H180v160Zm220 220h160v-160H400v160Zm0 220h160v-160H400v160ZM180-400h160v-160H180v160Zm440 0h160v-160H620v160ZM180-180h160v-160H180v160Zm440 0h160v-160H620v160Z\"/>\n",
              "  </svg>\n",
              "    </button>\n",
              "\n",
              "  <style>\n",
              "    .colab-df-container {\n",
              "      display:flex;\n",
              "      gap: 12px;\n",
              "    }\n",
              "\n",
              "    .colab-df-convert {\n",
              "      background-color: #E8F0FE;\n",
              "      border: none;\n",
              "      border-radius: 50%;\n",
              "      cursor: pointer;\n",
              "      display: none;\n",
              "      fill: #1967D2;\n",
              "      height: 32px;\n",
              "      padding: 0 0 0 0;\n",
              "      width: 32px;\n",
              "    }\n",
              "\n",
              "    .colab-df-convert:hover {\n",
              "      background-color: #E2EBFA;\n",
              "      box-shadow: 0px 1px 2px rgba(60, 64, 67, 0.3), 0px 1px 3px 1px rgba(60, 64, 67, 0.15);\n",
              "      fill: #174EA6;\n",
              "    }\n",
              "\n",
              "    .colab-df-buttons div {\n",
              "      margin-bottom: 4px;\n",
              "    }\n",
              "\n",
              "    [theme=dark] .colab-df-convert {\n",
              "      background-color: #3B4455;\n",
              "      fill: #D2E3FC;\n",
              "    }\n",
              "\n",
              "    [theme=dark] .colab-df-convert:hover {\n",
              "      background-color: #434B5C;\n",
              "      box-shadow: 0px 1px 3px 1px rgba(0, 0, 0, 0.15);\n",
              "      filter: drop-shadow(0px 1px 2px rgba(0, 0, 0, 0.3));\n",
              "      fill: #FFFFFF;\n",
              "    }\n",
              "  </style>\n",
              "\n",
              "    <script>\n",
              "      const buttonEl =\n",
              "        document.querySelector('#df-2f0ef52c-03bf-40aa-aecd-3549c27c41c1 button.colab-df-convert');\n",
              "      buttonEl.style.display =\n",
              "        google.colab.kernel.accessAllowed ? 'block' : 'none';\n",
              "\n",
              "      async function convertToInteractive(key) {\n",
              "        const element = document.querySelector('#df-2f0ef52c-03bf-40aa-aecd-3549c27c41c1');\n",
              "        const dataTable =\n",
              "          await google.colab.kernel.invokeFunction('convertToInteractive',\n",
              "                                                    [key], {});\n",
              "        if (!dataTable) return;\n",
              "\n",
              "        const docLinkHtml = 'Like what you see? Visit the ' +\n",
              "          '<a target=\"_blank\" href=https://colab.research.google.com/notebooks/data_table.ipynb>data table notebook</a>'\n",
              "          + ' to learn more about interactive tables.';\n",
              "        element.innerHTML = '';\n",
              "        dataTable['output_type'] = 'display_data';\n",
              "        await google.colab.output.renderOutput(dataTable, element);\n",
              "        const docLink = document.createElement('div');\n",
              "        docLink.innerHTML = docLinkHtml;\n",
              "        element.appendChild(docLink);\n",
              "      }\n",
              "    </script>\n",
              "  </div>\n",
              "\n",
              "\n",
              "<div id=\"df-9084ef63-63be-4c91-8c6c-7df1d5d2b94f\">\n",
              "  <button class=\"colab-df-quickchart\" onclick=\"quickchart('df-9084ef63-63be-4c91-8c6c-7df1d5d2b94f')\"\n",
              "            title=\"Suggest charts.\"\n",
              "            style=\"display:none;\">\n",
              "\n",
              "<svg xmlns=\"http://www.w3.org/2000/svg\" height=\"24px\"viewBox=\"0 0 24 24\"\n",
              "     width=\"24px\">\n",
              "    <g>\n",
              "        <path d=\"M19 3H5c-1.1 0-2 .9-2 2v14c0 1.1.9 2 2 2h14c1.1 0 2-.9 2-2V5c0-1.1-.9-2-2-2zM9 17H7v-7h2v7zm4 0h-2V7h2v10zm4 0h-2v-4h2v4z\"/>\n",
              "    </g>\n",
              "</svg>\n",
              "  </button>\n",
              "\n",
              "<style>\n",
              "  .colab-df-quickchart {\n",
              "      --bg-color: #E8F0FE;\n",
              "      --fill-color: #1967D2;\n",
              "      --hover-bg-color: #E2EBFA;\n",
              "      --hover-fill-color: #174EA6;\n",
              "      --disabled-fill-color: #AAA;\n",
              "      --disabled-bg-color: #DDD;\n",
              "  }\n",
              "\n",
              "  [theme=dark] .colab-df-quickchart {\n",
              "      --bg-color: #3B4455;\n",
              "      --fill-color: #D2E3FC;\n",
              "      --hover-bg-color: #434B5C;\n",
              "      --hover-fill-color: #FFFFFF;\n",
              "      --disabled-bg-color: #3B4455;\n",
              "      --disabled-fill-color: #666;\n",
              "  }\n",
              "\n",
              "  .colab-df-quickchart {\n",
              "    background-color: var(--bg-color);\n",
              "    border: none;\n",
              "    border-radius: 50%;\n",
              "    cursor: pointer;\n",
              "    display: none;\n",
              "    fill: var(--fill-color);\n",
              "    height: 32px;\n",
              "    padding: 0;\n",
              "    width: 32px;\n",
              "  }\n",
              "\n",
              "  .colab-df-quickchart:hover {\n",
              "    background-color: var(--hover-bg-color);\n",
              "    box-shadow: 0 1px 2px rgba(60, 64, 67, 0.3), 0 1px 3px 1px rgba(60, 64, 67, 0.15);\n",
              "    fill: var(--button-hover-fill-color);\n",
              "  }\n",
              "\n",
              "  .colab-df-quickchart-complete:disabled,\n",
              "  .colab-df-quickchart-complete:disabled:hover {\n",
              "    background-color: var(--disabled-bg-color);\n",
              "    fill: var(--disabled-fill-color);\n",
              "    box-shadow: none;\n",
              "  }\n",
              "\n",
              "  .colab-df-spinner {\n",
              "    border: 2px solid var(--fill-color);\n",
              "    border-color: transparent;\n",
              "    border-bottom-color: var(--fill-color);\n",
              "    animation:\n",
              "      spin 1s steps(1) infinite;\n",
              "  }\n",
              "\n",
              "  @keyframes spin {\n",
              "    0% {\n",
              "      border-color: transparent;\n",
              "      border-bottom-color: var(--fill-color);\n",
              "      border-left-color: var(--fill-color);\n",
              "    }\n",
              "    20% {\n",
              "      border-color: transparent;\n",
              "      border-left-color: var(--fill-color);\n",
              "      border-top-color: var(--fill-color);\n",
              "    }\n",
              "    30% {\n",
              "      border-color: transparent;\n",
              "      border-left-color: var(--fill-color);\n",
              "      border-top-color: var(--fill-color);\n",
              "      border-right-color: var(--fill-color);\n",
              "    }\n",
              "    40% {\n",
              "      border-color: transparent;\n",
              "      border-right-color: var(--fill-color);\n",
              "      border-top-color: var(--fill-color);\n",
              "    }\n",
              "    60% {\n",
              "      border-color: transparent;\n",
              "      border-right-color: var(--fill-color);\n",
              "    }\n",
              "    80% {\n",
              "      border-color: transparent;\n",
              "      border-right-color: var(--fill-color);\n",
              "      border-bottom-color: var(--fill-color);\n",
              "    }\n",
              "    90% {\n",
              "      border-color: transparent;\n",
              "      border-bottom-color: var(--fill-color);\n",
              "    }\n",
              "  }\n",
              "</style>\n",
              "\n",
              "  <script>\n",
              "    async function quickchart(key) {\n",
              "      const quickchartButtonEl =\n",
              "        document.querySelector('#' + key + ' button');\n",
              "      quickchartButtonEl.disabled = true;  // To prevent multiple clicks.\n",
              "      quickchartButtonEl.classList.add('colab-df-spinner');\n",
              "      try {\n",
              "        const charts = await google.colab.kernel.invokeFunction(\n",
              "            'suggestCharts', [key], {});\n",
              "      } catch (error) {\n",
              "        console.error('Error during call to suggestCharts:', error);\n",
              "      }\n",
              "      quickchartButtonEl.classList.remove('colab-df-spinner');\n",
              "      quickchartButtonEl.classList.add('colab-df-quickchart-complete');\n",
              "    }\n",
              "    (() => {\n",
              "      let quickchartButtonEl =\n",
              "        document.querySelector('#df-9084ef63-63be-4c91-8c6c-7df1d5d2b94f button');\n",
              "      quickchartButtonEl.style.display =\n",
              "        google.colab.kernel.accessAllowed ? 'block' : 'none';\n",
              "    })();\n",
              "  </script>\n",
              "</div>\n",
              "    </div>\n",
              "  </div>\n"
            ]
          },
          "metadata": {},
          "execution_count": 72
        }
      ],
      "source": [
        "# Applying the ranking_songs function\n",
        "ranking_songs(recommendations, final_play)"
      ]
    },
    {
      "cell_type": "markdown",
      "metadata": {
        "id": "Ore9XTFgv5Np"
      },
      "source": [
        "**Observations and Insights:The play count has dropped down slightly for almost every user after hyper tuning parameters**"
      ]
    },
    {
      "cell_type": "markdown",
      "metadata": {
        "id": "rKgJpSA9vOOL"
      },
      "source": [
        "### Model Based Collaborative Filtering - Matrix Factorization"
      ]
    },
    {
      "cell_type": "markdown",
      "metadata": {
        "id": "hJynidJCw-ti"
      },
      "source": [
        "Model-based Collaborative Filtering is a **personalized recommendation system**, the recommendations are based on the past behavior of the user and it is not dependent on any additional information. We use **latent features** to find recommendations for each user."
      ]
    },
    {
      "cell_type": "code",
      "execution_count": 73,
      "metadata": {
        "id": "07-2PT5Ssjqm",
        "colab": {
          "base_uri": "https://localhost:8080/"
        },
        "outputId": "16c69cd9-f517-4c08-fc0d-68d9ae6bcb7b"
      },
      "outputs": [
        {
          "output_type": "stream",
          "name": "stdout",
          "text": [
            "RMSE: 1.0252\n",
            "Precision:  0.41\n",
            "Recall:  0.633\n",
            "F_1 score:  0.498\n"
          ]
        }
      ],
      "source": [
        "# Build baseline model using svd\n",
        "svd = SVD(random_state = 1)\n",
        "\n",
        "# Training the algorithm on the train set\n",
        "svd.fit(trainset)\n",
        "\n",
        "# Let us compute precision@k and recall@k with k = 10\n",
        "precision_recall_at_k(svd)\n"
      ]
    },
    {
      "cell_type": "markdown",
      "source": [
        "The baseline model with the algorithm is giving a nice F-1 score (almost 50%). It indicates a good performance by the model."
      ],
      "metadata": {
        "id": "Of1o6E14CEBr"
      }
    },
    {
      "cell_type": "code",
      "execution_count": 74,
      "metadata": {
        "id": "yWIhfdxXsjqm",
        "colab": {
          "base_uri": "https://localhost:8080/"
        },
        "outputId": "86c1cdc7-3def-418d-c17c-90e787a59430"
      },
      "outputs": [
        {
          "output_type": "stream",
          "name": "stdout",
          "text": [
            "user: 6958       item: 1671       r_ui = 5.00   est = 1.70   {'was_impossible': False}\n"
          ]
        },
        {
          "output_type": "execute_result",
          "data": {
            "text/plain": [
              "Prediction(uid='6958', iid='1671', r_ui=5, est=1.6989607635206787, details={'was_impossible': False})"
            ]
          },
          "metadata": {},
          "execution_count": 74
        }
      ],
      "source": [
        "# Making prediction for user (with user_id 6958) to song (with song_id 1671), take r_ui = 2\n",
        "svd.predict(\"6958\", \"1671\", r_ui = 5, verbose = True)\n"
      ]
    },
    {
      "cell_type": "code",
      "execution_count": 75,
      "metadata": {
        "id": "APm-uMSvcAMf",
        "colab": {
          "base_uri": "https://localhost:8080/"
        },
        "outputId": "052fa648-0ab7-4fc4-a055-d16d27b26045"
      },
      "outputs": [
        {
          "output_type": "stream",
          "name": "stdout",
          "text": [
            "user: 6958       item: 3232       r_ui = None   est = 1.70   {'was_impossible': False}\n"
          ]
        },
        {
          "output_type": "execute_result",
          "data": {
            "text/plain": [
              "Prediction(uid='6958', iid='3232', r_ui=None, est=1.6989607635206787, details={'was_impossible': False})"
            ]
          },
          "metadata": {},
          "execution_count": 75
        }
      ],
      "source": [
        "# Making a prediction for the user who has not listened to the song (song_id 3232)\n",
        "svd.predict(\"6958\", \"3232\", verbose = True)"
      ]
    },
    {
      "cell_type": "markdown",
      "metadata": {
        "id": "23tnRUJJxWTR"
      },
      "source": [
        "#### Improving matrix factorization based recommendation system by tuning its hyperparameters"
      ]
    },
    {
      "cell_type": "code",
      "execution_count": 76,
      "metadata": {
        "id": "4bM81V_hvtwv",
        "colab": {
          "base_uri": "https://localhost:8080/"
        },
        "outputId": "e2557b8b-c30d-4e5d-b38a-e7c155327963"
      },
      "outputs": [
        {
          "output_type": "stream",
          "name": "stdout",
          "text": [
            "1.0131218693700355\n",
            "{'n_epochs': 30, 'lr_all': 0.01, 'reg_all': 0.2}\n"
          ]
        }
      ],
      "source": [
        "\n",
        "# Set the parameter space to tune\n",
        "param_grid = {'n_epochs': [10, 20, 30], 'lr_all': [0.001, 0.005, 0.01],\n",
        "              'reg_all': [0.2, 0.4, 0.6]}\n",
        "\n",
        "# Performing 3-fold gridsearch cross validation\n",
        "gs = GridSearchCV(SVD, param_grid, measures = ['rmse'], cv = 3, n_jobs = -1)\n",
        "\n",
        "# Fitting the model on the data\n",
        "gs.fit(data)\n",
        "\n",
        "# Print the best RMSE score\n",
        "print(gs.best_score['rmse'])\n",
        "\n",
        "# Print the combination of parameters that gave the best RMSE score\n",
        "print(gs.best_params['rmse'])\n",
        "\n",
        "\n"
      ]
    },
    {
      "cell_type": "markdown",
      "metadata": {
        "id": "aSgBRcL1xnVC"
      },
      "source": [
        "**Think About It**: How do the parameters affect the performance of the model? Can we improve the performance of the model further? Check the available hyperparameters [here](https://surprise.readthedocs.io/en/stable/matrix_factorization.html)."
      ]
    },
    {
      "cell_type": "code",
      "execution_count": 77,
      "metadata": {
        "id": "TA_7xe-nnhuu",
        "colab": {
          "base_uri": "https://localhost:8080/"
        },
        "outputId": "944e7f32-ca36-446f-bfc8-bb96c90c1a1c"
      },
      "outputs": [
        {
          "output_type": "stream",
          "name": "stdout",
          "text": [
            "RMSE: 1.0141\n",
            "Precision:  0.415\n",
            "Recall:  0.635\n",
            "F_1 score:  0.502\n"
          ]
        }
      ],
      "source": [
        "# Building the optimized SVD model using optimal hyperparameter search\n",
        "svd_optimized = SVD(n_epochs = 30, lr_all = 0.01, reg_all = 0.2, random_state = 1)\n",
        "\n",
        "# Training the algorithm on the train set\n",
        "svd_optimized = svd_optimized.fit(trainset)\n",
        "\n",
        "# Let us compute precision@k and recall@k also with k = 10\n",
        "precision_recall_at_k(svd_optimized)"
      ]
    },
    {
      "cell_type": "markdown",
      "metadata": {
        "id": "l3t5JdBmxz8l"
      },
      "source": [
        "**Observations and Insights:We have calculated RMSE of 1.014 to check how far the overall predicted play count are from the actual play count. The rmse has improved a bit. Recall has gone up to 0.635. Precision has also improved to 0.415. The F_1 score also improved to 50.2%**"
      ]
    },
    {
      "cell_type": "code",
      "execution_count": 78,
      "metadata": {
        "id": "s6C1PAfboM8_",
        "colab": {
          "base_uri": "https://localhost:8080/"
        },
        "outputId": "e8d67280-8a6c-4554-e38d-43e849dcbfd0"
      },
      "outputs": [
        {
          "output_type": "stream",
          "name": "stdout",
          "text": [
            "user: 6958       item: 1671       r_ui = 5.00   est = 1.70   {'was_impossible': False}\n"
          ]
        },
        {
          "output_type": "execute_result",
          "data": {
            "text/plain": [
              "Prediction(uid='6958', iid='1671', r_ui=5, est=1.6989607635206787, details={'was_impossible': False})"
            ]
          },
          "metadata": {},
          "execution_count": 78
        }
      ],
      "source": [
        "# Using svd_algo_optimized model to recommend for userId 6958 and song_id 1671\n",
        "svd_optimized.predict(\"6958\", \"1671\", r_ui = 5, verbose = True)\n"
      ]
    },
    {
      "cell_type": "code",
      "execution_count": 79,
      "metadata": {
        "id": "k1xjn3kOoQyg",
        "colab": {
          "base_uri": "https://localhost:8080/"
        },
        "outputId": "f35a9ade-7522-4b88-8104-5f259fc95612"
      },
      "outputs": [
        {
          "output_type": "stream",
          "name": "stdout",
          "text": [
            "user: 6958       item: 3232       r_ui = None   est = 1.70   {'was_impossible': False}\n"
          ]
        },
        {
          "output_type": "execute_result",
          "data": {
            "text/plain": [
              "Prediction(uid='6958', iid='3232', r_ui=None, est=1.6989607635206787, details={'was_impossible': False})"
            ]
          },
          "metadata": {},
          "execution_count": 79
        }
      ],
      "source": [
        "# Using svd_algo_optimized model to recommend for userId 6958 and song_id 3232 with unknown baseline rating\n",
        "\n",
        "svd_optimized.predict(\"6958\", \"3232\", verbose = True)"
      ]
    },
    {
      "cell_type": "markdown",
      "metadata": {
        "id": "Qm732Wuvy76R"
      },
      "source": [
        "**Observations and Insights:The user ID is getting the same predicted play count of 1.70 for both songs they listened and the one they did not listened to**"
      ]
    },
    {
      "cell_type": "code",
      "execution_count": 81,
      "metadata": {
        "id": "1LGeE2EB_n90"
      },
      "outputs": [],
      "source": [
        "# Getting top 5 recommendations for user_id 6958 using \"svd_optimized\" algorithm\n",
        "\n",
        "recommendations = get_recommendations(df_final, 6958, 5, svd_optimized)"
      ]
    },
    {
      "cell_type": "code",
      "execution_count": 82,
      "metadata": {
        "id": "6ngiGSJU818M",
        "colab": {
          "base_uri": "https://localhost:8080/",
          "height": 206
        },
        "outputId": "1b2c1433-e770-4e98-cfd0-a3eb4ba08450"
      },
      "outputs": [
        {
          "output_type": "execute_result",
          "data": {
            "text/plain": [
              "   song_id  play_freq  predicted_play_count  corrected_play_count\n",
              "1     7224        361              2.601899              2.549267\n",
              "4     5653        248              2.108728              2.045227\n",
              "3     8324        252              2.014091              1.951097\n",
              "2     6450        263              1.952493              1.890830\n",
              "0     9942        373              1.940115              1.888337"
            ],
            "text/html": [
              "\n",
              "  <div id=\"df-caaf2d49-a013-4aca-bd02-03282651dc92\" class=\"colab-df-container\">\n",
              "    <div>\n",
              "<style scoped>\n",
              "    .dataframe tbody tr th:only-of-type {\n",
              "        vertical-align: middle;\n",
              "    }\n",
              "\n",
              "    .dataframe tbody tr th {\n",
              "        vertical-align: top;\n",
              "    }\n",
              "\n",
              "    .dataframe thead th {\n",
              "        text-align: right;\n",
              "    }\n",
              "</style>\n",
              "<table border=\"1\" class=\"dataframe\">\n",
              "  <thead>\n",
              "    <tr style=\"text-align: right;\">\n",
              "      <th></th>\n",
              "      <th>song_id</th>\n",
              "      <th>play_freq</th>\n",
              "      <th>predicted_play_count</th>\n",
              "      <th>corrected_play_count</th>\n",
              "    </tr>\n",
              "  </thead>\n",
              "  <tbody>\n",
              "    <tr>\n",
              "      <th>1</th>\n",
              "      <td>7224</td>\n",
              "      <td>361</td>\n",
              "      <td>2.601899</td>\n",
              "      <td>2.549267</td>\n",
              "    </tr>\n",
              "    <tr>\n",
              "      <th>4</th>\n",
              "      <td>5653</td>\n",
              "      <td>248</td>\n",
              "      <td>2.108728</td>\n",
              "      <td>2.045227</td>\n",
              "    </tr>\n",
              "    <tr>\n",
              "      <th>3</th>\n",
              "      <td>8324</td>\n",
              "      <td>252</td>\n",
              "      <td>2.014091</td>\n",
              "      <td>1.951097</td>\n",
              "    </tr>\n",
              "    <tr>\n",
              "      <th>2</th>\n",
              "      <td>6450</td>\n",
              "      <td>263</td>\n",
              "      <td>1.952493</td>\n",
              "      <td>1.890830</td>\n",
              "    </tr>\n",
              "    <tr>\n",
              "      <th>0</th>\n",
              "      <td>9942</td>\n",
              "      <td>373</td>\n",
              "      <td>1.940115</td>\n",
              "      <td>1.888337</td>\n",
              "    </tr>\n",
              "  </tbody>\n",
              "</table>\n",
              "</div>\n",
              "    <div class=\"colab-df-buttons\">\n",
              "\n",
              "  <div class=\"colab-df-container\">\n",
              "    <button class=\"colab-df-convert\" onclick=\"convertToInteractive('df-caaf2d49-a013-4aca-bd02-03282651dc92')\"\n",
              "            title=\"Convert this dataframe to an interactive table.\"\n",
              "            style=\"display:none;\">\n",
              "\n",
              "  <svg xmlns=\"http://www.w3.org/2000/svg\" height=\"24px\" viewBox=\"0 -960 960 960\">\n",
              "    <path d=\"M120-120v-720h720v720H120Zm60-500h600v-160H180v160Zm220 220h160v-160H400v160Zm0 220h160v-160H400v160ZM180-400h160v-160H180v160Zm440 0h160v-160H620v160ZM180-180h160v-160H180v160Zm440 0h160v-160H620v160Z\"/>\n",
              "  </svg>\n",
              "    </button>\n",
              "\n",
              "  <style>\n",
              "    .colab-df-container {\n",
              "      display:flex;\n",
              "      gap: 12px;\n",
              "    }\n",
              "\n",
              "    .colab-df-convert {\n",
              "      background-color: #E8F0FE;\n",
              "      border: none;\n",
              "      border-radius: 50%;\n",
              "      cursor: pointer;\n",
              "      display: none;\n",
              "      fill: #1967D2;\n",
              "      height: 32px;\n",
              "      padding: 0 0 0 0;\n",
              "      width: 32px;\n",
              "    }\n",
              "\n",
              "    .colab-df-convert:hover {\n",
              "      background-color: #E2EBFA;\n",
              "      box-shadow: 0px 1px 2px rgba(60, 64, 67, 0.3), 0px 1px 3px 1px rgba(60, 64, 67, 0.15);\n",
              "      fill: #174EA6;\n",
              "    }\n",
              "\n",
              "    .colab-df-buttons div {\n",
              "      margin-bottom: 4px;\n",
              "    }\n",
              "\n",
              "    [theme=dark] .colab-df-convert {\n",
              "      background-color: #3B4455;\n",
              "      fill: #D2E3FC;\n",
              "    }\n",
              "\n",
              "    [theme=dark] .colab-df-convert:hover {\n",
              "      background-color: #434B5C;\n",
              "      box-shadow: 0px 1px 3px 1px rgba(0, 0, 0, 0.15);\n",
              "      filter: drop-shadow(0px 1px 2px rgba(0, 0, 0, 0.3));\n",
              "      fill: #FFFFFF;\n",
              "    }\n",
              "  </style>\n",
              "\n",
              "    <script>\n",
              "      const buttonEl =\n",
              "        document.querySelector('#df-caaf2d49-a013-4aca-bd02-03282651dc92 button.colab-df-convert');\n",
              "      buttonEl.style.display =\n",
              "        google.colab.kernel.accessAllowed ? 'block' : 'none';\n",
              "\n",
              "      async function convertToInteractive(key) {\n",
              "        const element = document.querySelector('#df-caaf2d49-a013-4aca-bd02-03282651dc92');\n",
              "        const dataTable =\n",
              "          await google.colab.kernel.invokeFunction('convertToInteractive',\n",
              "                                                    [key], {});\n",
              "        if (!dataTable) return;\n",
              "\n",
              "        const docLinkHtml = 'Like what you see? Visit the ' +\n",
              "          '<a target=\"_blank\" href=https://colab.research.google.com/notebooks/data_table.ipynb>data table notebook</a>'\n",
              "          + ' to learn more about interactive tables.';\n",
              "        element.innerHTML = '';\n",
              "        dataTable['output_type'] = 'display_data';\n",
              "        await google.colab.output.renderOutput(dataTable, element);\n",
              "        const docLink = document.createElement('div');\n",
              "        docLink.innerHTML = docLinkHtml;\n",
              "        element.appendChild(docLink);\n",
              "      }\n",
              "    </script>\n",
              "  </div>\n",
              "\n",
              "\n",
              "<div id=\"df-659aff2d-81d8-4d2e-9cf2-e067892c1172\">\n",
              "  <button class=\"colab-df-quickchart\" onclick=\"quickchart('df-659aff2d-81d8-4d2e-9cf2-e067892c1172')\"\n",
              "            title=\"Suggest charts.\"\n",
              "            style=\"display:none;\">\n",
              "\n",
              "<svg xmlns=\"http://www.w3.org/2000/svg\" height=\"24px\"viewBox=\"0 0 24 24\"\n",
              "     width=\"24px\">\n",
              "    <g>\n",
              "        <path d=\"M19 3H5c-1.1 0-2 .9-2 2v14c0 1.1.9 2 2 2h14c1.1 0 2-.9 2-2V5c0-1.1-.9-2-2-2zM9 17H7v-7h2v7zm4 0h-2V7h2v10zm4 0h-2v-4h2v4z\"/>\n",
              "    </g>\n",
              "</svg>\n",
              "  </button>\n",
              "\n",
              "<style>\n",
              "  .colab-df-quickchart {\n",
              "      --bg-color: #E8F0FE;\n",
              "      --fill-color: #1967D2;\n",
              "      --hover-bg-color: #E2EBFA;\n",
              "      --hover-fill-color: #174EA6;\n",
              "      --disabled-fill-color: #AAA;\n",
              "      --disabled-bg-color: #DDD;\n",
              "  }\n",
              "\n",
              "  [theme=dark] .colab-df-quickchart {\n",
              "      --bg-color: #3B4455;\n",
              "      --fill-color: #D2E3FC;\n",
              "      --hover-bg-color: #434B5C;\n",
              "      --hover-fill-color: #FFFFFF;\n",
              "      --disabled-bg-color: #3B4455;\n",
              "      --disabled-fill-color: #666;\n",
              "  }\n",
              "\n",
              "  .colab-df-quickchart {\n",
              "    background-color: var(--bg-color);\n",
              "    border: none;\n",
              "    border-radius: 50%;\n",
              "    cursor: pointer;\n",
              "    display: none;\n",
              "    fill: var(--fill-color);\n",
              "    height: 32px;\n",
              "    padding: 0;\n",
              "    width: 32px;\n",
              "  }\n",
              "\n",
              "  .colab-df-quickchart:hover {\n",
              "    background-color: var(--hover-bg-color);\n",
              "    box-shadow: 0 1px 2px rgba(60, 64, 67, 0.3), 0 1px 3px 1px rgba(60, 64, 67, 0.15);\n",
              "    fill: var(--button-hover-fill-color);\n",
              "  }\n",
              "\n",
              "  .colab-df-quickchart-complete:disabled,\n",
              "  .colab-df-quickchart-complete:disabled:hover {\n",
              "    background-color: var(--disabled-bg-color);\n",
              "    fill: var(--disabled-fill-color);\n",
              "    box-shadow: none;\n",
              "  }\n",
              "\n",
              "  .colab-df-spinner {\n",
              "    border: 2px solid var(--fill-color);\n",
              "    border-color: transparent;\n",
              "    border-bottom-color: var(--fill-color);\n",
              "    animation:\n",
              "      spin 1s steps(1) infinite;\n",
              "  }\n",
              "\n",
              "  @keyframes spin {\n",
              "    0% {\n",
              "      border-color: transparent;\n",
              "      border-bottom-color: var(--fill-color);\n",
              "      border-left-color: var(--fill-color);\n",
              "    }\n",
              "    20% {\n",
              "      border-color: transparent;\n",
              "      border-left-color: var(--fill-color);\n",
              "      border-top-color: var(--fill-color);\n",
              "    }\n",
              "    30% {\n",
              "      border-color: transparent;\n",
              "      border-left-color: var(--fill-color);\n",
              "      border-top-color: var(--fill-color);\n",
              "      border-right-color: var(--fill-color);\n",
              "    }\n",
              "    40% {\n",
              "      border-color: transparent;\n",
              "      border-right-color: var(--fill-color);\n",
              "      border-top-color: var(--fill-color);\n",
              "    }\n",
              "    60% {\n",
              "      border-color: transparent;\n",
              "      border-right-color: var(--fill-color);\n",
              "    }\n",
              "    80% {\n",
              "      border-color: transparent;\n",
              "      border-right-color: var(--fill-color);\n",
              "      border-bottom-color: var(--fill-color);\n",
              "    }\n",
              "    90% {\n",
              "      border-color: transparent;\n",
              "      border-bottom-color: var(--fill-color);\n",
              "    }\n",
              "  }\n",
              "</style>\n",
              "\n",
              "  <script>\n",
              "    async function quickchart(key) {\n",
              "      const quickchartButtonEl =\n",
              "        document.querySelector('#' + key + ' button');\n",
              "      quickchartButtonEl.disabled = true;  // To prevent multiple clicks.\n",
              "      quickchartButtonEl.classList.add('colab-df-spinner');\n",
              "      try {\n",
              "        const charts = await google.colab.kernel.invokeFunction(\n",
              "            'suggestCharts', [key], {});\n",
              "      } catch (error) {\n",
              "        console.error('Error during call to suggestCharts:', error);\n",
              "      }\n",
              "      quickchartButtonEl.classList.remove('colab-df-spinner');\n",
              "      quickchartButtonEl.classList.add('colab-df-quickchart-complete');\n",
              "    }\n",
              "    (() => {\n",
              "      let quickchartButtonEl =\n",
              "        document.querySelector('#df-659aff2d-81d8-4d2e-9cf2-e067892c1172 button');\n",
              "      quickchartButtonEl.style.display =\n",
              "        google.colab.kernel.accessAllowed ? 'block' : 'none';\n",
              "    })();\n",
              "  </script>\n",
              "</div>\n",
              "    </div>\n",
              "  </div>\n"
            ]
          },
          "metadata": {},
          "execution_count": 82
        }
      ],
      "source": [
        "# Ranking songs based on above recommendations\n",
        "ranking_songs(recommendations, final_play)"
      ]
    },
    {
      "cell_type": "markdown",
      "metadata": {
        "id": "SepUU1Efy_9Z"
      },
      "source": [
        "**Observations and Insights:The play count is very close for almost every user after hyper tuning parameters. There is not much difference between the play counts**"
      ]
    },
    {
      "cell_type": "markdown",
      "metadata": {
        "id": "57b31de5"
      },
      "source": [
        "### Cluster Based Recommendation System"
      ]
    },
    {
      "cell_type": "markdown",
      "metadata": {
        "id": "9Xv2AZCszCdN"
      },
      "source": [
        "In **clustering-based recommendation systems**, we explore the **similarities and differences** in people's tastes in songs based on how they rate different songs. We cluster similar users together and recommend songs to a user based on play_counts from other users in the same cluster."
      ]
    },
    {
      "cell_type": "code",
      "execution_count": 42,
      "metadata": {
        "id": "0c4b20e4",
        "colab": {
          "base_uri": "https://localhost:8080/"
        },
        "outputId": "94165b6e-f97a-4ece-918a-020e537fcd09"
      },
      "outputs": [
        {
          "output_type": "stream",
          "name": "stdout",
          "text": [
            "RMSE: 1.0487\n",
            "Precision:  0.397\n",
            "Recall:  0.582\n",
            "F_1 score:  0.472\n"
          ]
        }
      ],
      "source": [
        "# Make baseline clustering model\n",
        "# Using Co-Clustering algorithm\n",
        "clust_baseline = CoClustering(random_state = 1)\n",
        "\n",
        "# Training the algorithm on the train set\n",
        "clust_baseline.fit(trainset)\n",
        "\n",
        "# Let us compute precision@k and recall@k with k = 10\n",
        "precision_recall_at_k(clust_baseline)"
      ]
    },
    {
      "cell_type": "code",
      "execution_count": 43,
      "metadata": {
        "id": "11dbdc0f",
        "colab": {
          "base_uri": "https://localhost:8080/"
        },
        "outputId": "1fe47f40-c862-4406-9b22-cacf3ff0baf5"
      },
      "outputs": [
        {
          "output_type": "stream",
          "name": "stdout",
          "text": [
            "user: 6958       item: 1671       r_ui = 5.00   est = 1.29   {'was_impossible': False}\n"
          ]
        },
        {
          "output_type": "execute_result",
          "data": {
            "text/plain": [
              "Prediction(uid=6958, iid=1671, r_ui=5, est=1.2941824757363074, details={'was_impossible': False})"
            ]
          },
          "metadata": {},
          "execution_count": 43
        }
      ],
      "source": [
        "# Making prediction for user_id 6958 and song_id 1671\n",
        "clust_baseline.predict(6958, 1671, r_ui = 5, verbose = True)\n"
      ]
    },
    {
      "cell_type": "code",
      "execution_count": 44,
      "metadata": {
        "id": "dab1aaed",
        "colab": {
          "base_uri": "https://localhost:8080/"
        },
        "outputId": "e0d71b1a-58ab-49b0-8a92-c0685d89fe5f"
      },
      "outputs": [
        {
          "output_type": "stream",
          "name": "stdout",
          "text": [
            "user: 6958       item: 3232       r_ui = None   est = 1.48   {'was_impossible': False}\n"
          ]
        },
        {
          "output_type": "execute_result",
          "data": {
            "text/plain": [
              "Prediction(uid=6958, iid=3232, r_ui=None, est=1.4785259100797417, details={'was_impossible': False})"
            ]
          },
          "metadata": {},
          "execution_count": 44
        }
      ],
      "source": [
        "# Making prediction for user (userid 6958) for a song(song_id 3232) not heard by the user\n",
        "clust_baseline.predict(6958, 3232, verbose = True)\n"
      ]
    },
    {
      "cell_type": "markdown",
      "metadata": {
        "id": "c2fd66f5"
      },
      "source": [
        "#### Improving clustering-based recommendation system by tuning its hyper-parameters"
      ]
    },
    {
      "cell_type": "code",
      "execution_count": 45,
      "metadata": {
        "id": "efe7d8e6",
        "colab": {
          "base_uri": "https://localhost:8080/"
        },
        "outputId": "fcc9f595-9045-4b64-aaa7-8bcf95c59db6"
      },
      "outputs": [
        {
          "output_type": "stream",
          "name": "stdout",
          "text": [
            "1.0577322152651203\n",
            "{'n_cltr_u': 5, 'n_cltr_i': 5, 'n_epochs': 10}\n"
          ]
        }
      ],
      "source": [
        "# Set the parameter space to tune\n",
        "param_grid = {'n_cltr_u': [5, 6, 7, 8], 'n_cltr_i': [5, 6, 7, 8], 'n_epochs': [10, 20, 30]}\n",
        "\n",
        "# Performing 3-fold grid search cross-validation\n",
        "gs = GridSearchCV(CoClustering, param_grid, measures = ['rmse'], cv = 3, n_jobs = -1)\n",
        "\n",
        "# Fitting data\n",
        "gs.fit(data)\n",
        "\n",
        "# Print the best RMSE score\n",
        "print(gs.best_score['rmse'])\n",
        "\n",
        "# Print the combination of parameters that gave the best RMSE score\n",
        "print(gs.best_params['rmse'])"
      ]
    },
    {
      "cell_type": "markdown",
      "metadata": {
        "id": "CS6aMVJLyj21"
      },
      "source": [
        "**Think About It**: How do the parameters affect the performance of the model? Can we improve the performance of the model further? Check the available hyperparameters [here](https://surprise.readthedocs.io/en/stable/co_clustering.html)."
      ]
    },
    {
      "cell_type": "code",
      "execution_count": 47,
      "metadata": {
        "id": "5a7a8a30",
        "colab": {
          "base_uri": "https://localhost:8080/"
        },
        "outputId": "c208431f-7bb6-463c-aa2b-8c645fc40a4a"
      },
      "outputs": [
        {
          "output_type": "stream",
          "name": "stdout",
          "text": [
            "RMSE: 1.0654\n",
            "Precision:  0.394\n",
            "Recall:  0.566\n",
            "F_1 score:  0.465\n"
          ]
        }
      ],
      "source": [
        "# Train the tuned Coclustering algorithm\n",
        "clust_tuned = CoClustering(n_cltr_u = 5, n_cltr_i = 5, n_epochs = 10, random_state = 1)\n",
        "\n",
        "# Training the algorithm on the train set\n",
        "clust_tuned.fit(trainset)\n",
        "\n",
        "# Let us compute precision@k and recall@k with k = 10\n",
        "precision_recall_at_k(clust_tuned)"
      ]
    },
    {
      "cell_type": "markdown",
      "metadata": {
        "id": "l-Jvce1gznKa"
      },
      "source": [
        "**Observations and Insights:We can see that the F_1 score for tuned co-clustering model on testset is comparable with F_1 score for baseline Co-clustering model. The model performance has not improved by much**"
      ]
    },
    {
      "cell_type": "code",
      "execution_count": 48,
      "metadata": {
        "id": "6ba5b26b",
        "colab": {
          "base_uri": "https://localhost:8080/"
        },
        "outputId": "c874f515-5222-4131-9953-d4b085b6ac4a"
      },
      "outputs": [
        {
          "output_type": "stream",
          "name": "stdout",
          "text": [
            "user: 6958       item: 1671       r_ui = 5.00   est = 1.91   {'was_impossible': False}\n"
          ]
        },
        {
          "output_type": "execute_result",
          "data": {
            "text/plain": [
              "Prediction(uid=6958, iid=1671, r_ui=5, est=1.9108882530486497, details={'was_impossible': False})"
            ]
          },
          "metadata": {},
          "execution_count": 48
        }
      ],
      "source": [
        "# Using co_clustering_optimized model to recommend for userId 6958 and song_id 1671\n",
        "clust_tuned.predict(6958, 1671, r_ui = 5, verbose = True)"
      ]
    },
    {
      "cell_type": "code",
      "execution_count": 49,
      "metadata": {
        "id": "ec582940",
        "colab": {
          "base_uri": "https://localhost:8080/"
        },
        "outputId": "00216d1e-414f-4e84-bfdc-9c6e4e933148"
      },
      "outputs": [
        {
          "output_type": "stream",
          "name": "stdout",
          "text": [
            "user: 6958       item: 3232       r_ui = None   est = 1.24   {'was_impossible': False}\n"
          ]
        },
        {
          "output_type": "execute_result",
          "data": {
            "text/plain": [
              "Prediction(uid=6958, iid=3232, r_ui=None, est=1.2366916027865822, details={'was_impossible': False})"
            ]
          },
          "metadata": {},
          "execution_count": 49
        }
      ],
      "source": [
        "# Use Co_clustering based optimized model to recommend for userId 6958 and song_id 3232 with unknown baseline rating\n",
        "\n",
        "clust_tuned.predict(6958, 3232, verbose = True)"
      ]
    },
    {
      "cell_type": "markdown",
      "metadata": {
        "id": "rjGUSMqrzoDH"
      },
      "source": [
        "**Observations and Insights:The predicted play count for user 6958 and song 1671 is 1.91 which is higher than the previous models and closer to the actual play count. However, the predicted play count for the same user for a song that they have not listened to is 1.24**"
      ]
    },
    {
      "cell_type": "markdown",
      "metadata": {
        "id": "df9e28ba"
      },
      "source": [
        "#### Implementing the recommendation algorithm based on optimized CoClustering model"
      ]
    },
    {
      "cell_type": "code",
      "execution_count": 51,
      "metadata": {
        "id": "e0f36e15",
        "colab": {
          "base_uri": "https://localhost:8080/"
        },
        "outputId": "a9ad8993-6278-4330-96cf-c22f5b0b44b0"
      },
      "outputs": [
        {
          "output_type": "execute_result",
          "data": {
            "text/plain": [
              "[(7224, 3.7115030971417537),\n",
              " (5653, 2.9038827137850456),\n",
              " (6860, 2.6910427390854883),\n",
              " (657, 2.6063535442586216),\n",
              " (8483, 2.582807444967841)]"
            ]
          },
          "metadata": {},
          "execution_count": 51
        }
      ],
      "source": [
        "# Getting top 5 recommendations for user_id 6958 using \"Co-clustering based optimized\" algorithm\n",
        "clustering_recommendations = get_recommendations(df_final, 6958, 5, clust_tuned)\n",
        "clustering_recommendations"
      ]
    },
    {
      "cell_type": "markdown",
      "metadata": {
        "id": "f1696941"
      },
      "source": [
        "### Correcting the play_count and Ranking the above songs"
      ]
    },
    {
      "cell_type": "code",
      "execution_count": 52,
      "metadata": {
        "id": "c186f13b",
        "scrolled": true,
        "colab": {
          "base_uri": "https://localhost:8080/",
          "height": 206
        },
        "outputId": "f8461545-ffc9-4ac9-ebe6-b27c28728a1a"
      },
      "outputs": [
        {
          "output_type": "execute_result",
          "data": {
            "text/plain": [
              "   song_id  play_freq  predicted_play_count  corrected_play_count\n",
              "1     7224        361              3.711503              3.658872\n",
              "4     5653        248              2.903883              2.840383\n",
              "0     6860        367              2.691043              2.638843\n",
              "2      657        335              2.606354              2.551718\n",
              "3     8483        275              2.582807              2.522505"
            ],
            "text/html": [
              "\n",
              "  <div id=\"df-129d0bc3-e966-4493-b20a-c78e4b70a433\" class=\"colab-df-container\">\n",
              "    <div>\n",
              "<style scoped>\n",
              "    .dataframe tbody tr th:only-of-type {\n",
              "        vertical-align: middle;\n",
              "    }\n",
              "\n",
              "    .dataframe tbody tr th {\n",
              "        vertical-align: top;\n",
              "    }\n",
              "\n",
              "    .dataframe thead th {\n",
              "        text-align: right;\n",
              "    }\n",
              "</style>\n",
              "<table border=\"1\" class=\"dataframe\">\n",
              "  <thead>\n",
              "    <tr style=\"text-align: right;\">\n",
              "      <th></th>\n",
              "      <th>song_id</th>\n",
              "      <th>play_freq</th>\n",
              "      <th>predicted_play_count</th>\n",
              "      <th>corrected_play_count</th>\n",
              "    </tr>\n",
              "  </thead>\n",
              "  <tbody>\n",
              "    <tr>\n",
              "      <th>1</th>\n",
              "      <td>7224</td>\n",
              "      <td>361</td>\n",
              "      <td>3.711503</td>\n",
              "      <td>3.658872</td>\n",
              "    </tr>\n",
              "    <tr>\n",
              "      <th>4</th>\n",
              "      <td>5653</td>\n",
              "      <td>248</td>\n",
              "      <td>2.903883</td>\n",
              "      <td>2.840383</td>\n",
              "    </tr>\n",
              "    <tr>\n",
              "      <th>0</th>\n",
              "      <td>6860</td>\n",
              "      <td>367</td>\n",
              "      <td>2.691043</td>\n",
              "      <td>2.638843</td>\n",
              "    </tr>\n",
              "    <tr>\n",
              "      <th>2</th>\n",
              "      <td>657</td>\n",
              "      <td>335</td>\n",
              "      <td>2.606354</td>\n",
              "      <td>2.551718</td>\n",
              "    </tr>\n",
              "    <tr>\n",
              "      <th>3</th>\n",
              "      <td>8483</td>\n",
              "      <td>275</td>\n",
              "      <td>2.582807</td>\n",
              "      <td>2.522505</td>\n",
              "    </tr>\n",
              "  </tbody>\n",
              "</table>\n",
              "</div>\n",
              "    <div class=\"colab-df-buttons\">\n",
              "\n",
              "  <div class=\"colab-df-container\">\n",
              "    <button class=\"colab-df-convert\" onclick=\"convertToInteractive('df-129d0bc3-e966-4493-b20a-c78e4b70a433')\"\n",
              "            title=\"Convert this dataframe to an interactive table.\"\n",
              "            style=\"display:none;\">\n",
              "\n",
              "  <svg xmlns=\"http://www.w3.org/2000/svg\" height=\"24px\" viewBox=\"0 -960 960 960\">\n",
              "    <path d=\"M120-120v-720h720v720H120Zm60-500h600v-160H180v160Zm220 220h160v-160H400v160Zm0 220h160v-160H400v160ZM180-400h160v-160H180v160Zm440 0h160v-160H620v160ZM180-180h160v-160H180v160Zm440 0h160v-160H620v160Z\"/>\n",
              "  </svg>\n",
              "    </button>\n",
              "\n",
              "  <style>\n",
              "    .colab-df-container {\n",
              "      display:flex;\n",
              "      gap: 12px;\n",
              "    }\n",
              "\n",
              "    .colab-df-convert {\n",
              "      background-color: #E8F0FE;\n",
              "      border: none;\n",
              "      border-radius: 50%;\n",
              "      cursor: pointer;\n",
              "      display: none;\n",
              "      fill: #1967D2;\n",
              "      height: 32px;\n",
              "      padding: 0 0 0 0;\n",
              "      width: 32px;\n",
              "    }\n",
              "\n",
              "    .colab-df-convert:hover {\n",
              "      background-color: #E2EBFA;\n",
              "      box-shadow: 0px 1px 2px rgba(60, 64, 67, 0.3), 0px 1px 3px 1px rgba(60, 64, 67, 0.15);\n",
              "      fill: #174EA6;\n",
              "    }\n",
              "\n",
              "    .colab-df-buttons div {\n",
              "      margin-bottom: 4px;\n",
              "    }\n",
              "\n",
              "    [theme=dark] .colab-df-convert {\n",
              "      background-color: #3B4455;\n",
              "      fill: #D2E3FC;\n",
              "    }\n",
              "\n",
              "    [theme=dark] .colab-df-convert:hover {\n",
              "      background-color: #434B5C;\n",
              "      box-shadow: 0px 1px 3px 1px rgba(0, 0, 0, 0.15);\n",
              "      filter: drop-shadow(0px 1px 2px rgba(0, 0, 0, 0.3));\n",
              "      fill: #FFFFFF;\n",
              "    }\n",
              "  </style>\n",
              "\n",
              "    <script>\n",
              "      const buttonEl =\n",
              "        document.querySelector('#df-129d0bc3-e966-4493-b20a-c78e4b70a433 button.colab-df-convert');\n",
              "      buttonEl.style.display =\n",
              "        google.colab.kernel.accessAllowed ? 'block' : 'none';\n",
              "\n",
              "      async function convertToInteractive(key) {\n",
              "        const element = document.querySelector('#df-129d0bc3-e966-4493-b20a-c78e4b70a433');\n",
              "        const dataTable =\n",
              "          await google.colab.kernel.invokeFunction('convertToInteractive',\n",
              "                                                    [key], {});\n",
              "        if (!dataTable) return;\n",
              "\n",
              "        const docLinkHtml = 'Like what you see? Visit the ' +\n",
              "          '<a target=\"_blank\" href=https://colab.research.google.com/notebooks/data_table.ipynb>data table notebook</a>'\n",
              "          + ' to learn more about interactive tables.';\n",
              "        element.innerHTML = '';\n",
              "        dataTable['output_type'] = 'display_data';\n",
              "        await google.colab.output.renderOutput(dataTable, element);\n",
              "        const docLink = document.createElement('div');\n",
              "        docLink.innerHTML = docLinkHtml;\n",
              "        element.appendChild(docLink);\n",
              "      }\n",
              "    </script>\n",
              "  </div>\n",
              "\n",
              "\n",
              "<div id=\"df-cd814adc-f4dc-4762-b6bd-77ab6a292efd\">\n",
              "  <button class=\"colab-df-quickchart\" onclick=\"quickchart('df-cd814adc-f4dc-4762-b6bd-77ab6a292efd')\"\n",
              "            title=\"Suggest charts.\"\n",
              "            style=\"display:none;\">\n",
              "\n",
              "<svg xmlns=\"http://www.w3.org/2000/svg\" height=\"24px\"viewBox=\"0 0 24 24\"\n",
              "     width=\"24px\">\n",
              "    <g>\n",
              "        <path d=\"M19 3H5c-1.1 0-2 .9-2 2v14c0 1.1.9 2 2 2h14c1.1 0 2-.9 2-2V5c0-1.1-.9-2-2-2zM9 17H7v-7h2v7zm4 0h-2V7h2v10zm4 0h-2v-4h2v4z\"/>\n",
              "    </g>\n",
              "</svg>\n",
              "  </button>\n",
              "\n",
              "<style>\n",
              "  .colab-df-quickchart {\n",
              "      --bg-color: #E8F0FE;\n",
              "      --fill-color: #1967D2;\n",
              "      --hover-bg-color: #E2EBFA;\n",
              "      --hover-fill-color: #174EA6;\n",
              "      --disabled-fill-color: #AAA;\n",
              "      --disabled-bg-color: #DDD;\n",
              "  }\n",
              "\n",
              "  [theme=dark] .colab-df-quickchart {\n",
              "      --bg-color: #3B4455;\n",
              "      --fill-color: #D2E3FC;\n",
              "      --hover-bg-color: #434B5C;\n",
              "      --hover-fill-color: #FFFFFF;\n",
              "      --disabled-bg-color: #3B4455;\n",
              "      --disabled-fill-color: #666;\n",
              "  }\n",
              "\n",
              "  .colab-df-quickchart {\n",
              "    background-color: var(--bg-color);\n",
              "    border: none;\n",
              "    border-radius: 50%;\n",
              "    cursor: pointer;\n",
              "    display: none;\n",
              "    fill: var(--fill-color);\n",
              "    height: 32px;\n",
              "    padding: 0;\n",
              "    width: 32px;\n",
              "  }\n",
              "\n",
              "  .colab-df-quickchart:hover {\n",
              "    background-color: var(--hover-bg-color);\n",
              "    box-shadow: 0 1px 2px rgba(60, 64, 67, 0.3), 0 1px 3px 1px rgba(60, 64, 67, 0.15);\n",
              "    fill: var(--button-hover-fill-color);\n",
              "  }\n",
              "\n",
              "  .colab-df-quickchart-complete:disabled,\n",
              "  .colab-df-quickchart-complete:disabled:hover {\n",
              "    background-color: var(--disabled-bg-color);\n",
              "    fill: var(--disabled-fill-color);\n",
              "    box-shadow: none;\n",
              "  }\n",
              "\n",
              "  .colab-df-spinner {\n",
              "    border: 2px solid var(--fill-color);\n",
              "    border-color: transparent;\n",
              "    border-bottom-color: var(--fill-color);\n",
              "    animation:\n",
              "      spin 1s steps(1) infinite;\n",
              "  }\n",
              "\n",
              "  @keyframes spin {\n",
              "    0% {\n",
              "      border-color: transparent;\n",
              "      border-bottom-color: var(--fill-color);\n",
              "      border-left-color: var(--fill-color);\n",
              "    }\n",
              "    20% {\n",
              "      border-color: transparent;\n",
              "      border-left-color: var(--fill-color);\n",
              "      border-top-color: var(--fill-color);\n",
              "    }\n",
              "    30% {\n",
              "      border-color: transparent;\n",
              "      border-left-color: var(--fill-color);\n",
              "      border-top-color: var(--fill-color);\n",
              "      border-right-color: var(--fill-color);\n",
              "    }\n",
              "    40% {\n",
              "      border-color: transparent;\n",
              "      border-right-color: var(--fill-color);\n",
              "      border-top-color: var(--fill-color);\n",
              "    }\n",
              "    60% {\n",
              "      border-color: transparent;\n",
              "      border-right-color: var(--fill-color);\n",
              "    }\n",
              "    80% {\n",
              "      border-color: transparent;\n",
              "      border-right-color: var(--fill-color);\n",
              "      border-bottom-color: var(--fill-color);\n",
              "    }\n",
              "    90% {\n",
              "      border-color: transparent;\n",
              "      border-bottom-color: var(--fill-color);\n",
              "    }\n",
              "  }\n",
              "</style>\n",
              "\n",
              "  <script>\n",
              "    async function quickchart(key) {\n",
              "      const quickchartButtonEl =\n",
              "        document.querySelector('#' + key + ' button');\n",
              "      quickchartButtonEl.disabled = true;  // To prevent multiple clicks.\n",
              "      quickchartButtonEl.classList.add('colab-df-spinner');\n",
              "      try {\n",
              "        const charts = await google.colab.kernel.invokeFunction(\n",
              "            'suggestCharts', [key], {});\n",
              "      } catch (error) {\n",
              "        console.error('Error during call to suggestCharts:', error);\n",
              "      }\n",
              "      quickchartButtonEl.classList.remove('colab-df-spinner');\n",
              "      quickchartButtonEl.classList.add('colab-df-quickchart-complete');\n",
              "    }\n",
              "    (() => {\n",
              "      let quickchartButtonEl =\n",
              "        document.querySelector('#df-cd814adc-f4dc-4762-b6bd-77ab6a292efd button');\n",
              "      quickchartButtonEl.style.display =\n",
              "        google.colab.kernel.accessAllowed ? 'block' : 'none';\n",
              "    })();\n",
              "  </script>\n",
              "</div>\n",
              "    </div>\n",
              "  </div>\n"
            ]
          },
          "metadata": {},
          "execution_count": 52
        }
      ],
      "source": [
        "# Ranking songs based on the above recommendations\n",
        "\n",
        "ranking_songs(clustering_recommendations, final_play)"
      ]
    },
    {
      "cell_type": "markdown",
      "metadata": {
        "id": "_uJ_nZjBzvKH"
      },
      "source": [
        "**Observations and Insights:The values of the two types of counts are pretty close to each other**"
      ]
    },
    {
      "cell_type": "markdown",
      "metadata": {
        "id": "5U56oSNsR-F2"
      },
      "source": [
        "### Content Based Recommendation Systems"
      ]
    },
    {
      "cell_type": "markdown",
      "metadata": {
        "id": "9aTEqaOjhoEg"
      },
      "source": [
        "**Think About It:** So far we have only used the play_count of songs to find recommendations but we have other information/features on songs as well. Can we take those song features into account?"
      ]
    },
    {
      "cell_type": "code",
      "execution_count": 53,
      "metadata": {
        "id": "RhUx2jgp4frC"
      },
      "outputs": [],
      "source": [
        "df_small = df_final"
      ]
    },
    {
      "cell_type": "code",
      "execution_count": 55,
      "metadata": {
        "id": "UX826CsjR-F3"
      },
      "outputs": [],
      "source": [
        "# Concatenate the \"title\", \"release\", \"artist_name\" columns to create a different column named \"text\"\n",
        "df_small['text'] = df_small['title'] + df_small['release'] + df_small['artist_name']"
      ]
    },
    {
      "cell_type": "code",
      "source": [
        "# Select the columns 'user_id', 'song_id', 'play_count', 'title', 'text' from df_small data\n",
        "df_small_1 = df_small[['user_id', 'song_id','play_count', 'title', 'text']]\n",
        "df_small_1.head()"
      ],
      "metadata": {
        "colab": {
          "base_uri": "https://localhost:8080/",
          "height": 206
        },
        "id": "5T7H8sR1JVPn",
        "outputId": "db9b6af8-b751-4bbb-88bb-6121544133bd"
      },
      "execution_count": 61,
      "outputs": [
        {
          "output_type": "execute_result",
          "data": {
            "text/plain": [
              "     user_id  song_id  play_count                            title  \\\n",
              "200     6958      447           1               Daisy And Prudence   \n",
              "202     6958      512           1  The Ballad of Michael Valentine   \n",
              "203     6958      549           1        I Stand Corrected (Album)   \n",
              "204     6958      703           1            They Might Follow You   \n",
              "205     6958      719           1                       Monkey Man   \n",
              "\n",
              "                                                  text  \n",
              "200         Daisy And PrudenceDistillationErin McKeown  \n",
              "202  The Ballad of Michael ValentineSawdustThe Killers  \n",
              "203  I Stand Corrected (Album)Vampire WeekendVampir...  \n",
              "204        They Might Follow YouTiny VipersTiny Vipers  \n",
              "205        Monkey ManYou Know I'm No GoodAmy Winehouse  "
            ],
            "text/html": [
              "\n",
              "  <div id=\"df-0ebfb47b-0244-4b03-94e5-f2ae484a1e49\" class=\"colab-df-container\">\n",
              "    <div>\n",
              "<style scoped>\n",
              "    .dataframe tbody tr th:only-of-type {\n",
              "        vertical-align: middle;\n",
              "    }\n",
              "\n",
              "    .dataframe tbody tr th {\n",
              "        vertical-align: top;\n",
              "    }\n",
              "\n",
              "    .dataframe thead th {\n",
              "        text-align: right;\n",
              "    }\n",
              "</style>\n",
              "<table border=\"1\" class=\"dataframe\">\n",
              "  <thead>\n",
              "    <tr style=\"text-align: right;\">\n",
              "      <th></th>\n",
              "      <th>user_id</th>\n",
              "      <th>song_id</th>\n",
              "      <th>play_count</th>\n",
              "      <th>title</th>\n",
              "      <th>text</th>\n",
              "    </tr>\n",
              "  </thead>\n",
              "  <tbody>\n",
              "    <tr>\n",
              "      <th>200</th>\n",
              "      <td>6958</td>\n",
              "      <td>447</td>\n",
              "      <td>1</td>\n",
              "      <td>Daisy And Prudence</td>\n",
              "      <td>Daisy And PrudenceDistillationErin McKeown</td>\n",
              "    </tr>\n",
              "    <tr>\n",
              "      <th>202</th>\n",
              "      <td>6958</td>\n",
              "      <td>512</td>\n",
              "      <td>1</td>\n",
              "      <td>The Ballad of Michael Valentine</td>\n",
              "      <td>The Ballad of Michael ValentineSawdustThe Killers</td>\n",
              "    </tr>\n",
              "    <tr>\n",
              "      <th>203</th>\n",
              "      <td>6958</td>\n",
              "      <td>549</td>\n",
              "      <td>1</td>\n",
              "      <td>I Stand Corrected (Album)</td>\n",
              "      <td>I Stand Corrected (Album)Vampire WeekendVampir...</td>\n",
              "    </tr>\n",
              "    <tr>\n",
              "      <th>204</th>\n",
              "      <td>6958</td>\n",
              "      <td>703</td>\n",
              "      <td>1</td>\n",
              "      <td>They Might Follow You</td>\n",
              "      <td>They Might Follow YouTiny VipersTiny Vipers</td>\n",
              "    </tr>\n",
              "    <tr>\n",
              "      <th>205</th>\n",
              "      <td>6958</td>\n",
              "      <td>719</td>\n",
              "      <td>1</td>\n",
              "      <td>Monkey Man</td>\n",
              "      <td>Monkey ManYou Know I'm No GoodAmy Winehouse</td>\n",
              "    </tr>\n",
              "  </tbody>\n",
              "</table>\n",
              "</div>\n",
              "    <div class=\"colab-df-buttons\">\n",
              "\n",
              "  <div class=\"colab-df-container\">\n",
              "    <button class=\"colab-df-convert\" onclick=\"convertToInteractive('df-0ebfb47b-0244-4b03-94e5-f2ae484a1e49')\"\n",
              "            title=\"Convert this dataframe to an interactive table.\"\n",
              "            style=\"display:none;\">\n",
              "\n",
              "  <svg xmlns=\"http://www.w3.org/2000/svg\" height=\"24px\" viewBox=\"0 -960 960 960\">\n",
              "    <path d=\"M120-120v-720h720v720H120Zm60-500h600v-160H180v160Zm220 220h160v-160H400v160Zm0 220h160v-160H400v160ZM180-400h160v-160H180v160Zm440 0h160v-160H620v160ZM180-180h160v-160H180v160Zm440 0h160v-160H620v160Z\"/>\n",
              "  </svg>\n",
              "    </button>\n",
              "\n",
              "  <style>\n",
              "    .colab-df-container {\n",
              "      display:flex;\n",
              "      gap: 12px;\n",
              "    }\n",
              "\n",
              "    .colab-df-convert {\n",
              "      background-color: #E8F0FE;\n",
              "      border: none;\n",
              "      border-radius: 50%;\n",
              "      cursor: pointer;\n",
              "      display: none;\n",
              "      fill: #1967D2;\n",
              "      height: 32px;\n",
              "      padding: 0 0 0 0;\n",
              "      width: 32px;\n",
              "    }\n",
              "\n",
              "    .colab-df-convert:hover {\n",
              "      background-color: #E2EBFA;\n",
              "      box-shadow: 0px 1px 2px rgba(60, 64, 67, 0.3), 0px 1px 3px 1px rgba(60, 64, 67, 0.15);\n",
              "      fill: #174EA6;\n",
              "    }\n",
              "\n",
              "    .colab-df-buttons div {\n",
              "      margin-bottom: 4px;\n",
              "    }\n",
              "\n",
              "    [theme=dark] .colab-df-convert {\n",
              "      background-color: #3B4455;\n",
              "      fill: #D2E3FC;\n",
              "    }\n",
              "\n",
              "    [theme=dark] .colab-df-convert:hover {\n",
              "      background-color: #434B5C;\n",
              "      box-shadow: 0px 1px 3px 1px rgba(0, 0, 0, 0.15);\n",
              "      filter: drop-shadow(0px 1px 2px rgba(0, 0, 0, 0.3));\n",
              "      fill: #FFFFFF;\n",
              "    }\n",
              "  </style>\n",
              "\n",
              "    <script>\n",
              "      const buttonEl =\n",
              "        document.querySelector('#df-0ebfb47b-0244-4b03-94e5-f2ae484a1e49 button.colab-df-convert');\n",
              "      buttonEl.style.display =\n",
              "        google.colab.kernel.accessAllowed ? 'block' : 'none';\n",
              "\n",
              "      async function convertToInteractive(key) {\n",
              "        const element = document.querySelector('#df-0ebfb47b-0244-4b03-94e5-f2ae484a1e49');\n",
              "        const dataTable =\n",
              "          await google.colab.kernel.invokeFunction('convertToInteractive',\n",
              "                                                    [key], {});\n",
              "        if (!dataTable) return;\n",
              "\n",
              "        const docLinkHtml = 'Like what you see? Visit the ' +\n",
              "          '<a target=\"_blank\" href=https://colab.research.google.com/notebooks/data_table.ipynb>data table notebook</a>'\n",
              "          + ' to learn more about interactive tables.';\n",
              "        element.innerHTML = '';\n",
              "        dataTable['output_type'] = 'display_data';\n",
              "        await google.colab.output.renderOutput(dataTable, element);\n",
              "        const docLink = document.createElement('div');\n",
              "        docLink.innerHTML = docLinkHtml;\n",
              "        element.appendChild(docLink);\n",
              "      }\n",
              "    </script>\n",
              "  </div>\n",
              "\n",
              "\n",
              "<div id=\"df-e0e7182d-73f8-4001-a37c-650495ffb299\">\n",
              "  <button class=\"colab-df-quickchart\" onclick=\"quickchart('df-e0e7182d-73f8-4001-a37c-650495ffb299')\"\n",
              "            title=\"Suggest charts.\"\n",
              "            style=\"display:none;\">\n",
              "\n",
              "<svg xmlns=\"http://www.w3.org/2000/svg\" height=\"24px\"viewBox=\"0 0 24 24\"\n",
              "     width=\"24px\">\n",
              "    <g>\n",
              "        <path d=\"M19 3H5c-1.1 0-2 .9-2 2v14c0 1.1.9 2 2 2h14c1.1 0 2-.9 2-2V5c0-1.1-.9-2-2-2zM9 17H7v-7h2v7zm4 0h-2V7h2v10zm4 0h-2v-4h2v4z\"/>\n",
              "    </g>\n",
              "</svg>\n",
              "  </button>\n",
              "\n",
              "<style>\n",
              "  .colab-df-quickchart {\n",
              "      --bg-color: #E8F0FE;\n",
              "      --fill-color: #1967D2;\n",
              "      --hover-bg-color: #E2EBFA;\n",
              "      --hover-fill-color: #174EA6;\n",
              "      --disabled-fill-color: #AAA;\n",
              "      --disabled-bg-color: #DDD;\n",
              "  }\n",
              "\n",
              "  [theme=dark] .colab-df-quickchart {\n",
              "      --bg-color: #3B4455;\n",
              "      --fill-color: #D2E3FC;\n",
              "      --hover-bg-color: #434B5C;\n",
              "      --hover-fill-color: #FFFFFF;\n",
              "      --disabled-bg-color: #3B4455;\n",
              "      --disabled-fill-color: #666;\n",
              "  }\n",
              "\n",
              "  .colab-df-quickchart {\n",
              "    background-color: var(--bg-color);\n",
              "    border: none;\n",
              "    border-radius: 50%;\n",
              "    cursor: pointer;\n",
              "    display: none;\n",
              "    fill: var(--fill-color);\n",
              "    height: 32px;\n",
              "    padding: 0;\n",
              "    width: 32px;\n",
              "  }\n",
              "\n",
              "  .colab-df-quickchart:hover {\n",
              "    background-color: var(--hover-bg-color);\n",
              "    box-shadow: 0 1px 2px rgba(60, 64, 67, 0.3), 0 1px 3px 1px rgba(60, 64, 67, 0.15);\n",
              "    fill: var(--button-hover-fill-color);\n",
              "  }\n",
              "\n",
              "  .colab-df-quickchart-complete:disabled,\n",
              "  .colab-df-quickchart-complete:disabled:hover {\n",
              "    background-color: var(--disabled-bg-color);\n",
              "    fill: var(--disabled-fill-color);\n",
              "    box-shadow: none;\n",
              "  }\n",
              "\n",
              "  .colab-df-spinner {\n",
              "    border: 2px solid var(--fill-color);\n",
              "    border-color: transparent;\n",
              "    border-bottom-color: var(--fill-color);\n",
              "    animation:\n",
              "      spin 1s steps(1) infinite;\n",
              "  }\n",
              "\n",
              "  @keyframes spin {\n",
              "    0% {\n",
              "      border-color: transparent;\n",
              "      border-bottom-color: var(--fill-color);\n",
              "      border-left-color: var(--fill-color);\n",
              "    }\n",
              "    20% {\n",
              "      border-color: transparent;\n",
              "      border-left-color: var(--fill-color);\n",
              "      border-top-color: var(--fill-color);\n",
              "    }\n",
              "    30% {\n",
              "      border-color: transparent;\n",
              "      border-left-color: var(--fill-color);\n",
              "      border-top-color: var(--fill-color);\n",
              "      border-right-color: var(--fill-color);\n",
              "    }\n",
              "    40% {\n",
              "      border-color: transparent;\n",
              "      border-right-color: var(--fill-color);\n",
              "      border-top-color: var(--fill-color);\n",
              "    }\n",
              "    60% {\n",
              "      border-color: transparent;\n",
              "      border-right-color: var(--fill-color);\n",
              "    }\n",
              "    80% {\n",
              "      border-color: transparent;\n",
              "      border-right-color: var(--fill-color);\n",
              "      border-bottom-color: var(--fill-color);\n",
              "    }\n",
              "    90% {\n",
              "      border-color: transparent;\n",
              "      border-bottom-color: var(--fill-color);\n",
              "    }\n",
              "  }\n",
              "</style>\n",
              "\n",
              "  <script>\n",
              "    async function quickchart(key) {\n",
              "      const quickchartButtonEl =\n",
              "        document.querySelector('#' + key + ' button');\n",
              "      quickchartButtonEl.disabled = true;  // To prevent multiple clicks.\n",
              "      quickchartButtonEl.classList.add('colab-df-spinner');\n",
              "      try {\n",
              "        const charts = await google.colab.kernel.invokeFunction(\n",
              "            'suggestCharts', [key], {});\n",
              "      } catch (error) {\n",
              "        console.error('Error during call to suggestCharts:', error);\n",
              "      }\n",
              "      quickchartButtonEl.classList.remove('colab-df-spinner');\n",
              "      quickchartButtonEl.classList.add('colab-df-quickchart-complete');\n",
              "    }\n",
              "    (() => {\n",
              "      let quickchartButtonEl =\n",
              "        document.querySelector('#df-e0e7182d-73f8-4001-a37c-650495ffb299 button');\n",
              "      quickchartButtonEl.style.display =\n",
              "        google.colab.kernel.accessAllowed ? 'block' : 'none';\n",
              "    })();\n",
              "  </script>\n",
              "</div>\n",
              "    </div>\n",
              "  </div>\n"
            ]
          },
          "metadata": {},
          "execution_count": 61
        }
      ]
    },
    {
      "cell_type": "code",
      "source": [
        "# Drop the duplicates from the title column\n",
        "df_small_1 = df_small_1.drop_duplicates('title')"
      ],
      "metadata": {
        "id": "fh48n752KMAc"
      },
      "execution_count": 64,
      "outputs": []
    },
    {
      "cell_type": "code",
      "source": [
        "df_small_1"
      ],
      "metadata": {
        "colab": {
          "base_uri": "https://localhost:8080/",
          "height": 424
        },
        "id": "FLMRK_8tKWYJ",
        "outputId": "aab2fc6f-4a72-4523-aa8b-cbe7ccddeda4"
      },
      "execution_count": 65,
      "outputs": [
        {
          "output_type": "execute_result",
          "data": {
            "text/plain": [
              "       user_id  song_id  play_count                            title  \\\n",
              "200       6958      447           1               Daisy And Prudence   \n",
              "202       6958      512           1  The Ballad of Michael Valentine   \n",
              "203       6958      549           1        I Stand Corrected (Album)   \n",
              "204       6958      703           1            They Might Follow You   \n",
              "205       6958      719           1                       Monkey Man   \n",
              "...        ...      ...         ...                              ...   \n",
              "60275    74930     2786           1                     Tuesday Moon   \n",
              "69599    24706      229           1    Everything In Its Right Place   \n",
              "75782    40245     2161           1                    The Last Song   \n",
              "76235    33280     1536           2                    Paper Gangsta   \n",
              "84080     1246     3466           1                        Starlight   \n",
              "\n",
              "                                                    text  \n",
              "200           Daisy And PrudenceDistillationErin McKeown  \n",
              "202    The Ballad of Michael ValentineSawdustThe Killers  \n",
              "203    I Stand Corrected (Album)Vampire WeekendVampir...  \n",
              "204          They Might Follow YouTiny VipersTiny Vipers  \n",
              "205          Monkey ManYou Know I'm No GoodAmy Winehouse  \n",
              "...                                                  ...  \n",
              "60275        Tuesday MoonEverything IsNeutral Milk Hotel  \n",
              "69599  Everything In Its Right PlaceThe Best OfRadiohead  \n",
              "75782  The Last SongThe All-American RejectsThe All-A...  \n",
              "76235             Paper GangstaThe Fame MonsterLady GaGa  \n",
              "84080                             StarlightStarlightMuse  \n",
              "\n",
              "[561 rows x 5 columns]"
            ],
            "text/html": [
              "\n",
              "  <div id=\"df-cf65a303-f10c-4930-a16b-a832e277fa3d\" class=\"colab-df-container\">\n",
              "    <div>\n",
              "<style scoped>\n",
              "    .dataframe tbody tr th:only-of-type {\n",
              "        vertical-align: middle;\n",
              "    }\n",
              "\n",
              "    .dataframe tbody tr th {\n",
              "        vertical-align: top;\n",
              "    }\n",
              "\n",
              "    .dataframe thead th {\n",
              "        text-align: right;\n",
              "    }\n",
              "</style>\n",
              "<table border=\"1\" class=\"dataframe\">\n",
              "  <thead>\n",
              "    <tr style=\"text-align: right;\">\n",
              "      <th></th>\n",
              "      <th>user_id</th>\n",
              "      <th>song_id</th>\n",
              "      <th>play_count</th>\n",
              "      <th>title</th>\n",
              "      <th>text</th>\n",
              "    </tr>\n",
              "  </thead>\n",
              "  <tbody>\n",
              "    <tr>\n",
              "      <th>200</th>\n",
              "      <td>6958</td>\n",
              "      <td>447</td>\n",
              "      <td>1</td>\n",
              "      <td>Daisy And Prudence</td>\n",
              "      <td>Daisy And PrudenceDistillationErin McKeown</td>\n",
              "    </tr>\n",
              "    <tr>\n",
              "      <th>202</th>\n",
              "      <td>6958</td>\n",
              "      <td>512</td>\n",
              "      <td>1</td>\n",
              "      <td>The Ballad of Michael Valentine</td>\n",
              "      <td>The Ballad of Michael ValentineSawdustThe Killers</td>\n",
              "    </tr>\n",
              "    <tr>\n",
              "      <th>203</th>\n",
              "      <td>6958</td>\n",
              "      <td>549</td>\n",
              "      <td>1</td>\n",
              "      <td>I Stand Corrected (Album)</td>\n",
              "      <td>I Stand Corrected (Album)Vampire WeekendVampir...</td>\n",
              "    </tr>\n",
              "    <tr>\n",
              "      <th>204</th>\n",
              "      <td>6958</td>\n",
              "      <td>703</td>\n",
              "      <td>1</td>\n",
              "      <td>They Might Follow You</td>\n",
              "      <td>They Might Follow YouTiny VipersTiny Vipers</td>\n",
              "    </tr>\n",
              "    <tr>\n",
              "      <th>205</th>\n",
              "      <td>6958</td>\n",
              "      <td>719</td>\n",
              "      <td>1</td>\n",
              "      <td>Monkey Man</td>\n",
              "      <td>Monkey ManYou Know I'm No GoodAmy Winehouse</td>\n",
              "    </tr>\n",
              "    <tr>\n",
              "      <th>...</th>\n",
              "      <td>...</td>\n",
              "      <td>...</td>\n",
              "      <td>...</td>\n",
              "      <td>...</td>\n",
              "      <td>...</td>\n",
              "    </tr>\n",
              "    <tr>\n",
              "      <th>60275</th>\n",
              "      <td>74930</td>\n",
              "      <td>2786</td>\n",
              "      <td>1</td>\n",
              "      <td>Tuesday Moon</td>\n",
              "      <td>Tuesday MoonEverything IsNeutral Milk Hotel</td>\n",
              "    </tr>\n",
              "    <tr>\n",
              "      <th>69599</th>\n",
              "      <td>24706</td>\n",
              "      <td>229</td>\n",
              "      <td>1</td>\n",
              "      <td>Everything In Its Right Place</td>\n",
              "      <td>Everything In Its Right PlaceThe Best OfRadiohead</td>\n",
              "    </tr>\n",
              "    <tr>\n",
              "      <th>75782</th>\n",
              "      <td>40245</td>\n",
              "      <td>2161</td>\n",
              "      <td>1</td>\n",
              "      <td>The Last Song</td>\n",
              "      <td>The Last SongThe All-American RejectsThe All-A...</td>\n",
              "    </tr>\n",
              "    <tr>\n",
              "      <th>76235</th>\n",
              "      <td>33280</td>\n",
              "      <td>1536</td>\n",
              "      <td>2</td>\n",
              "      <td>Paper Gangsta</td>\n",
              "      <td>Paper GangstaThe Fame MonsterLady GaGa</td>\n",
              "    </tr>\n",
              "    <tr>\n",
              "      <th>84080</th>\n",
              "      <td>1246</td>\n",
              "      <td>3466</td>\n",
              "      <td>1</td>\n",
              "      <td>Starlight</td>\n",
              "      <td>StarlightStarlightMuse</td>\n",
              "    </tr>\n",
              "  </tbody>\n",
              "</table>\n",
              "<p>561 rows × 5 columns</p>\n",
              "</div>\n",
              "    <div class=\"colab-df-buttons\">\n",
              "\n",
              "  <div class=\"colab-df-container\">\n",
              "    <button class=\"colab-df-convert\" onclick=\"convertToInteractive('df-cf65a303-f10c-4930-a16b-a832e277fa3d')\"\n",
              "            title=\"Convert this dataframe to an interactive table.\"\n",
              "            style=\"display:none;\">\n",
              "\n",
              "  <svg xmlns=\"http://www.w3.org/2000/svg\" height=\"24px\" viewBox=\"0 -960 960 960\">\n",
              "    <path d=\"M120-120v-720h720v720H120Zm60-500h600v-160H180v160Zm220 220h160v-160H400v160Zm0 220h160v-160H400v160ZM180-400h160v-160H180v160Zm440 0h160v-160H620v160ZM180-180h160v-160H180v160Zm440 0h160v-160H620v160Z\"/>\n",
              "  </svg>\n",
              "    </button>\n",
              "\n",
              "  <style>\n",
              "    .colab-df-container {\n",
              "      display:flex;\n",
              "      gap: 12px;\n",
              "    }\n",
              "\n",
              "    .colab-df-convert {\n",
              "      background-color: #E8F0FE;\n",
              "      border: none;\n",
              "      border-radius: 50%;\n",
              "      cursor: pointer;\n",
              "      display: none;\n",
              "      fill: #1967D2;\n",
              "      height: 32px;\n",
              "      padding: 0 0 0 0;\n",
              "      width: 32px;\n",
              "    }\n",
              "\n",
              "    .colab-df-convert:hover {\n",
              "      background-color: #E2EBFA;\n",
              "      box-shadow: 0px 1px 2px rgba(60, 64, 67, 0.3), 0px 1px 3px 1px rgba(60, 64, 67, 0.15);\n",
              "      fill: #174EA6;\n",
              "    }\n",
              "\n",
              "    .colab-df-buttons div {\n",
              "      margin-bottom: 4px;\n",
              "    }\n",
              "\n",
              "    [theme=dark] .colab-df-convert {\n",
              "      background-color: #3B4455;\n",
              "      fill: #D2E3FC;\n",
              "    }\n",
              "\n",
              "    [theme=dark] .colab-df-convert:hover {\n",
              "      background-color: #434B5C;\n",
              "      box-shadow: 0px 1px 3px 1px rgba(0, 0, 0, 0.15);\n",
              "      filter: drop-shadow(0px 1px 2px rgba(0, 0, 0, 0.3));\n",
              "      fill: #FFFFFF;\n",
              "    }\n",
              "  </style>\n",
              "\n",
              "    <script>\n",
              "      const buttonEl =\n",
              "        document.querySelector('#df-cf65a303-f10c-4930-a16b-a832e277fa3d button.colab-df-convert');\n",
              "      buttonEl.style.display =\n",
              "        google.colab.kernel.accessAllowed ? 'block' : 'none';\n",
              "\n",
              "      async function convertToInteractive(key) {\n",
              "        const element = document.querySelector('#df-cf65a303-f10c-4930-a16b-a832e277fa3d');\n",
              "        const dataTable =\n",
              "          await google.colab.kernel.invokeFunction('convertToInteractive',\n",
              "                                                    [key], {});\n",
              "        if (!dataTable) return;\n",
              "\n",
              "        const docLinkHtml = 'Like what you see? Visit the ' +\n",
              "          '<a target=\"_blank\" href=https://colab.research.google.com/notebooks/data_table.ipynb>data table notebook</a>'\n",
              "          + ' to learn more about interactive tables.';\n",
              "        element.innerHTML = '';\n",
              "        dataTable['output_type'] = 'display_data';\n",
              "        await google.colab.output.renderOutput(dataTable, element);\n",
              "        const docLink = document.createElement('div');\n",
              "        docLink.innerHTML = docLinkHtml;\n",
              "        element.appendChild(docLink);\n",
              "      }\n",
              "    </script>\n",
              "  </div>\n",
              "\n",
              "\n",
              "<div id=\"df-d6b46281-8597-4793-b0cb-3966c580ac31\">\n",
              "  <button class=\"colab-df-quickchart\" onclick=\"quickchart('df-d6b46281-8597-4793-b0cb-3966c580ac31')\"\n",
              "            title=\"Suggest charts.\"\n",
              "            style=\"display:none;\">\n",
              "\n",
              "<svg xmlns=\"http://www.w3.org/2000/svg\" height=\"24px\"viewBox=\"0 0 24 24\"\n",
              "     width=\"24px\">\n",
              "    <g>\n",
              "        <path d=\"M19 3H5c-1.1 0-2 .9-2 2v14c0 1.1.9 2 2 2h14c1.1 0 2-.9 2-2V5c0-1.1-.9-2-2-2zM9 17H7v-7h2v7zm4 0h-2V7h2v10zm4 0h-2v-4h2v4z\"/>\n",
              "    </g>\n",
              "</svg>\n",
              "  </button>\n",
              "\n",
              "<style>\n",
              "  .colab-df-quickchart {\n",
              "      --bg-color: #E8F0FE;\n",
              "      --fill-color: #1967D2;\n",
              "      --hover-bg-color: #E2EBFA;\n",
              "      --hover-fill-color: #174EA6;\n",
              "      --disabled-fill-color: #AAA;\n",
              "      --disabled-bg-color: #DDD;\n",
              "  }\n",
              "\n",
              "  [theme=dark] .colab-df-quickchart {\n",
              "      --bg-color: #3B4455;\n",
              "      --fill-color: #D2E3FC;\n",
              "      --hover-bg-color: #434B5C;\n",
              "      --hover-fill-color: #FFFFFF;\n",
              "      --disabled-bg-color: #3B4455;\n",
              "      --disabled-fill-color: #666;\n",
              "  }\n",
              "\n",
              "  .colab-df-quickchart {\n",
              "    background-color: var(--bg-color);\n",
              "    border: none;\n",
              "    border-radius: 50%;\n",
              "    cursor: pointer;\n",
              "    display: none;\n",
              "    fill: var(--fill-color);\n",
              "    height: 32px;\n",
              "    padding: 0;\n",
              "    width: 32px;\n",
              "  }\n",
              "\n",
              "  .colab-df-quickchart:hover {\n",
              "    background-color: var(--hover-bg-color);\n",
              "    box-shadow: 0 1px 2px rgba(60, 64, 67, 0.3), 0 1px 3px 1px rgba(60, 64, 67, 0.15);\n",
              "    fill: var(--button-hover-fill-color);\n",
              "  }\n",
              "\n",
              "  .colab-df-quickchart-complete:disabled,\n",
              "  .colab-df-quickchart-complete:disabled:hover {\n",
              "    background-color: var(--disabled-bg-color);\n",
              "    fill: var(--disabled-fill-color);\n",
              "    box-shadow: none;\n",
              "  }\n",
              "\n",
              "  .colab-df-spinner {\n",
              "    border: 2px solid var(--fill-color);\n",
              "    border-color: transparent;\n",
              "    border-bottom-color: var(--fill-color);\n",
              "    animation:\n",
              "      spin 1s steps(1) infinite;\n",
              "  }\n",
              "\n",
              "  @keyframes spin {\n",
              "    0% {\n",
              "      border-color: transparent;\n",
              "      border-bottom-color: var(--fill-color);\n",
              "      border-left-color: var(--fill-color);\n",
              "    }\n",
              "    20% {\n",
              "      border-color: transparent;\n",
              "      border-left-color: var(--fill-color);\n",
              "      border-top-color: var(--fill-color);\n",
              "    }\n",
              "    30% {\n",
              "      border-color: transparent;\n",
              "      border-left-color: var(--fill-color);\n",
              "      border-top-color: var(--fill-color);\n",
              "      border-right-color: var(--fill-color);\n",
              "    }\n",
              "    40% {\n",
              "      border-color: transparent;\n",
              "      border-right-color: var(--fill-color);\n",
              "      border-top-color: var(--fill-color);\n",
              "    }\n",
              "    60% {\n",
              "      border-color: transparent;\n",
              "      border-right-color: var(--fill-color);\n",
              "    }\n",
              "    80% {\n",
              "      border-color: transparent;\n",
              "      border-right-color: var(--fill-color);\n",
              "      border-bottom-color: var(--fill-color);\n",
              "    }\n",
              "    90% {\n",
              "      border-color: transparent;\n",
              "      border-bottom-color: var(--fill-color);\n",
              "    }\n",
              "  }\n",
              "</style>\n",
              "\n",
              "  <script>\n",
              "    async function quickchart(key) {\n",
              "      const quickchartButtonEl =\n",
              "        document.querySelector('#' + key + ' button');\n",
              "      quickchartButtonEl.disabled = true;  // To prevent multiple clicks.\n",
              "      quickchartButtonEl.classList.add('colab-df-spinner');\n",
              "      try {\n",
              "        const charts = await google.colab.kernel.invokeFunction(\n",
              "            'suggestCharts', [key], {});\n",
              "      } catch (error) {\n",
              "        console.error('Error during call to suggestCharts:', error);\n",
              "      }\n",
              "      quickchartButtonEl.classList.remove('colab-df-spinner');\n",
              "      quickchartButtonEl.classList.add('colab-df-quickchart-complete');\n",
              "    }\n",
              "    (() => {\n",
              "      let quickchartButtonEl =\n",
              "        document.querySelector('#df-d6b46281-8597-4793-b0cb-3966c580ac31 button');\n",
              "      quickchartButtonEl.style.display =\n",
              "        google.colab.kernel.accessAllowed ? 'block' : 'none';\n",
              "    })();\n",
              "  </script>\n",
              "</div>\n",
              "    </div>\n",
              "  </div>\n"
            ]
          },
          "metadata": {},
          "execution_count": 65
        }
      ]
    },
    {
      "cell_type": "code",
      "source": [
        "# Set the title column as the index\n",
        "df_small_1 = df_small_1.set_index('title')"
      ],
      "metadata": {
        "id": "WmiwGICFKhPK"
      },
      "execution_count": 69,
      "outputs": []
    },
    {
      "cell_type": "code",
      "source": [
        "df_small_1.head()"
      ],
      "metadata": {
        "colab": {
          "base_uri": "https://localhost:8080/",
          "height": 238
        },
        "id": "xbDGcVUHLidL",
        "outputId": "306eff68-bd0a-4e85-9f00-3d6c80e25b12"
      },
      "execution_count": 70,
      "outputs": [
        {
          "output_type": "execute_result",
          "data": {
            "text/plain": [
              "                                 user_id  song_id  play_count  \\\n",
              "title                                                           \n",
              "Daisy And Prudence                  6958      447           1   \n",
              "The Ballad of Michael Valentine     6958      512           1   \n",
              "I Stand Corrected (Album)           6958      549           1   \n",
              "They Might Follow You               6958      703           1   \n",
              "Monkey Man                          6958      719           1   \n",
              "\n",
              "                                                                              text  \n",
              "title                                                                               \n",
              "Daisy And Prudence                      Daisy And PrudenceDistillationErin McKeown  \n",
              "The Ballad of Michael Valentine  The Ballad of Michael ValentineSawdustThe Killers  \n",
              "I Stand Corrected (Album)        I Stand Corrected (Album)Vampire WeekendVampir...  \n",
              "They Might Follow You                  They Might Follow YouTiny VipersTiny Vipers  \n",
              "Monkey Man                             Monkey ManYou Know I'm No GoodAmy Winehouse  "
            ],
            "text/html": [
              "\n",
              "  <div id=\"df-12d1119f-3da3-4c67-836e-61b274d8dba7\" class=\"colab-df-container\">\n",
              "    <div>\n",
              "<style scoped>\n",
              "    .dataframe tbody tr th:only-of-type {\n",
              "        vertical-align: middle;\n",
              "    }\n",
              "\n",
              "    .dataframe tbody tr th {\n",
              "        vertical-align: top;\n",
              "    }\n",
              "\n",
              "    .dataframe thead th {\n",
              "        text-align: right;\n",
              "    }\n",
              "</style>\n",
              "<table border=\"1\" class=\"dataframe\">\n",
              "  <thead>\n",
              "    <tr style=\"text-align: right;\">\n",
              "      <th></th>\n",
              "      <th>user_id</th>\n",
              "      <th>song_id</th>\n",
              "      <th>play_count</th>\n",
              "      <th>text</th>\n",
              "    </tr>\n",
              "    <tr>\n",
              "      <th>title</th>\n",
              "      <th></th>\n",
              "      <th></th>\n",
              "      <th></th>\n",
              "      <th></th>\n",
              "    </tr>\n",
              "  </thead>\n",
              "  <tbody>\n",
              "    <tr>\n",
              "      <th>Daisy And Prudence</th>\n",
              "      <td>6958</td>\n",
              "      <td>447</td>\n",
              "      <td>1</td>\n",
              "      <td>Daisy And PrudenceDistillationErin McKeown</td>\n",
              "    </tr>\n",
              "    <tr>\n",
              "      <th>The Ballad of Michael Valentine</th>\n",
              "      <td>6958</td>\n",
              "      <td>512</td>\n",
              "      <td>1</td>\n",
              "      <td>The Ballad of Michael ValentineSawdustThe Killers</td>\n",
              "    </tr>\n",
              "    <tr>\n",
              "      <th>I Stand Corrected (Album)</th>\n",
              "      <td>6958</td>\n",
              "      <td>549</td>\n",
              "      <td>1</td>\n",
              "      <td>I Stand Corrected (Album)Vampire WeekendVampir...</td>\n",
              "    </tr>\n",
              "    <tr>\n",
              "      <th>They Might Follow You</th>\n",
              "      <td>6958</td>\n",
              "      <td>703</td>\n",
              "      <td>1</td>\n",
              "      <td>They Might Follow YouTiny VipersTiny Vipers</td>\n",
              "    </tr>\n",
              "    <tr>\n",
              "      <th>Monkey Man</th>\n",
              "      <td>6958</td>\n",
              "      <td>719</td>\n",
              "      <td>1</td>\n",
              "      <td>Monkey ManYou Know I'm No GoodAmy Winehouse</td>\n",
              "    </tr>\n",
              "  </tbody>\n",
              "</table>\n",
              "</div>\n",
              "    <div class=\"colab-df-buttons\">\n",
              "\n",
              "  <div class=\"colab-df-container\">\n",
              "    <button class=\"colab-df-convert\" onclick=\"convertToInteractive('df-12d1119f-3da3-4c67-836e-61b274d8dba7')\"\n",
              "            title=\"Convert this dataframe to an interactive table.\"\n",
              "            style=\"display:none;\">\n",
              "\n",
              "  <svg xmlns=\"http://www.w3.org/2000/svg\" height=\"24px\" viewBox=\"0 -960 960 960\">\n",
              "    <path d=\"M120-120v-720h720v720H120Zm60-500h600v-160H180v160Zm220 220h160v-160H400v160Zm0 220h160v-160H400v160ZM180-400h160v-160H180v160Zm440 0h160v-160H620v160ZM180-180h160v-160H180v160Zm440 0h160v-160H620v160Z\"/>\n",
              "  </svg>\n",
              "    </button>\n",
              "\n",
              "  <style>\n",
              "    .colab-df-container {\n",
              "      display:flex;\n",
              "      gap: 12px;\n",
              "    }\n",
              "\n",
              "    .colab-df-convert {\n",
              "      background-color: #E8F0FE;\n",
              "      border: none;\n",
              "      border-radius: 50%;\n",
              "      cursor: pointer;\n",
              "      display: none;\n",
              "      fill: #1967D2;\n",
              "      height: 32px;\n",
              "      padding: 0 0 0 0;\n",
              "      width: 32px;\n",
              "    }\n",
              "\n",
              "    .colab-df-convert:hover {\n",
              "      background-color: #E2EBFA;\n",
              "      box-shadow: 0px 1px 2px rgba(60, 64, 67, 0.3), 0px 1px 3px 1px rgba(60, 64, 67, 0.15);\n",
              "      fill: #174EA6;\n",
              "    }\n",
              "\n",
              "    .colab-df-buttons div {\n",
              "      margin-bottom: 4px;\n",
              "    }\n",
              "\n",
              "    [theme=dark] .colab-df-convert {\n",
              "      background-color: #3B4455;\n",
              "      fill: #D2E3FC;\n",
              "    }\n",
              "\n",
              "    [theme=dark] .colab-df-convert:hover {\n",
              "      background-color: #434B5C;\n",
              "      box-shadow: 0px 1px 3px 1px rgba(0, 0, 0, 0.15);\n",
              "      filter: drop-shadow(0px 1px 2px rgba(0, 0, 0, 0.3));\n",
              "      fill: #FFFFFF;\n",
              "    }\n",
              "  </style>\n",
              "\n",
              "    <script>\n",
              "      const buttonEl =\n",
              "        document.querySelector('#df-12d1119f-3da3-4c67-836e-61b274d8dba7 button.colab-df-convert');\n",
              "      buttonEl.style.display =\n",
              "        google.colab.kernel.accessAllowed ? 'block' : 'none';\n",
              "\n",
              "      async function convertToInteractive(key) {\n",
              "        const element = document.querySelector('#df-12d1119f-3da3-4c67-836e-61b274d8dba7');\n",
              "        const dataTable =\n",
              "          await google.colab.kernel.invokeFunction('convertToInteractive',\n",
              "                                                    [key], {});\n",
              "        if (!dataTable) return;\n",
              "\n",
              "        const docLinkHtml = 'Like what you see? Visit the ' +\n",
              "          '<a target=\"_blank\" href=https://colab.research.google.com/notebooks/data_table.ipynb>data table notebook</a>'\n",
              "          + ' to learn more about interactive tables.';\n",
              "        element.innerHTML = '';\n",
              "        dataTable['output_type'] = 'display_data';\n",
              "        await google.colab.output.renderOutput(dataTable, element);\n",
              "        const docLink = document.createElement('div');\n",
              "        docLink.innerHTML = docLinkHtml;\n",
              "        element.appendChild(docLink);\n",
              "      }\n",
              "    </script>\n",
              "  </div>\n",
              "\n",
              "\n",
              "<div id=\"df-127c64b7-26a1-412b-8f4a-6fb00263e07f\">\n",
              "  <button class=\"colab-df-quickchart\" onclick=\"quickchart('df-127c64b7-26a1-412b-8f4a-6fb00263e07f')\"\n",
              "            title=\"Suggest charts.\"\n",
              "            style=\"display:none;\">\n",
              "\n",
              "<svg xmlns=\"http://www.w3.org/2000/svg\" height=\"24px\"viewBox=\"0 0 24 24\"\n",
              "     width=\"24px\">\n",
              "    <g>\n",
              "        <path d=\"M19 3H5c-1.1 0-2 .9-2 2v14c0 1.1.9 2 2 2h14c1.1 0 2-.9 2-2V5c0-1.1-.9-2-2-2zM9 17H7v-7h2v7zm4 0h-2V7h2v10zm4 0h-2v-4h2v4z\"/>\n",
              "    </g>\n",
              "</svg>\n",
              "  </button>\n",
              "\n",
              "<style>\n",
              "  .colab-df-quickchart {\n",
              "      --bg-color: #E8F0FE;\n",
              "      --fill-color: #1967D2;\n",
              "      --hover-bg-color: #E2EBFA;\n",
              "      --hover-fill-color: #174EA6;\n",
              "      --disabled-fill-color: #AAA;\n",
              "      --disabled-bg-color: #DDD;\n",
              "  }\n",
              "\n",
              "  [theme=dark] .colab-df-quickchart {\n",
              "      --bg-color: #3B4455;\n",
              "      --fill-color: #D2E3FC;\n",
              "      --hover-bg-color: #434B5C;\n",
              "      --hover-fill-color: #FFFFFF;\n",
              "      --disabled-bg-color: #3B4455;\n",
              "      --disabled-fill-color: #666;\n",
              "  }\n",
              "\n",
              "  .colab-df-quickchart {\n",
              "    background-color: var(--bg-color);\n",
              "    border: none;\n",
              "    border-radius: 50%;\n",
              "    cursor: pointer;\n",
              "    display: none;\n",
              "    fill: var(--fill-color);\n",
              "    height: 32px;\n",
              "    padding: 0;\n",
              "    width: 32px;\n",
              "  }\n",
              "\n",
              "  .colab-df-quickchart:hover {\n",
              "    background-color: var(--hover-bg-color);\n",
              "    box-shadow: 0 1px 2px rgba(60, 64, 67, 0.3), 0 1px 3px 1px rgba(60, 64, 67, 0.15);\n",
              "    fill: var(--button-hover-fill-color);\n",
              "  }\n",
              "\n",
              "  .colab-df-quickchart-complete:disabled,\n",
              "  .colab-df-quickchart-complete:disabled:hover {\n",
              "    background-color: var(--disabled-bg-color);\n",
              "    fill: var(--disabled-fill-color);\n",
              "    box-shadow: none;\n",
              "  }\n",
              "\n",
              "  .colab-df-spinner {\n",
              "    border: 2px solid var(--fill-color);\n",
              "    border-color: transparent;\n",
              "    border-bottom-color: var(--fill-color);\n",
              "    animation:\n",
              "      spin 1s steps(1) infinite;\n",
              "  }\n",
              "\n",
              "  @keyframes spin {\n",
              "    0% {\n",
              "      border-color: transparent;\n",
              "      border-bottom-color: var(--fill-color);\n",
              "      border-left-color: var(--fill-color);\n",
              "    }\n",
              "    20% {\n",
              "      border-color: transparent;\n",
              "      border-left-color: var(--fill-color);\n",
              "      border-top-color: var(--fill-color);\n",
              "    }\n",
              "    30% {\n",
              "      border-color: transparent;\n",
              "      border-left-color: var(--fill-color);\n",
              "      border-top-color: var(--fill-color);\n",
              "      border-right-color: var(--fill-color);\n",
              "    }\n",
              "    40% {\n",
              "      border-color: transparent;\n",
              "      border-right-color: var(--fill-color);\n",
              "      border-top-color: var(--fill-color);\n",
              "    }\n",
              "    60% {\n",
              "      border-color: transparent;\n",
              "      border-right-color: var(--fill-color);\n",
              "    }\n",
              "    80% {\n",
              "      border-color: transparent;\n",
              "      border-right-color: var(--fill-color);\n",
              "      border-bottom-color: var(--fill-color);\n",
              "    }\n",
              "    90% {\n",
              "      border-color: transparent;\n",
              "      border-bottom-color: var(--fill-color);\n",
              "    }\n",
              "  }\n",
              "</style>\n",
              "\n",
              "  <script>\n",
              "    async function quickchart(key) {\n",
              "      const quickchartButtonEl =\n",
              "        document.querySelector('#' + key + ' button');\n",
              "      quickchartButtonEl.disabled = true;  // To prevent multiple clicks.\n",
              "      quickchartButtonEl.classList.add('colab-df-spinner');\n",
              "      try {\n",
              "        const charts = await google.colab.kernel.invokeFunction(\n",
              "            'suggestCharts', [key], {});\n",
              "      } catch (error) {\n",
              "        console.error('Error during call to suggestCharts:', error);\n",
              "      }\n",
              "      quickchartButtonEl.classList.remove('colab-df-spinner');\n",
              "      quickchartButtonEl.classList.add('colab-df-quickchart-complete');\n",
              "    }\n",
              "    (() => {\n",
              "      let quickchartButtonEl =\n",
              "        document.querySelector('#df-127c64b7-26a1-412b-8f4a-6fb00263e07f button');\n",
              "      quickchartButtonEl.style.display =\n",
              "        google.colab.kernel.accessAllowed ? 'block' : 'none';\n",
              "    })();\n",
              "  </script>\n",
              "</div>\n",
              "    </div>\n",
              "  </div>\n"
            ]
          },
          "metadata": {},
          "execution_count": 70
        }
      ]
    },
    {
      "cell_type": "code",
      "execution_count": 71,
      "metadata": {
        "id": "qDcYHwZTR-F5",
        "colab": {
          "base_uri": "https://localhost:8080/"
        },
        "outputId": "519f8638-52ea-4d7c-f6a2-58c2efefa5c2"
      },
      "outputs": [
        {
          "output_type": "execute_result",
          "data": {
            "text/plain": [
              "0                 Daisy And Prudence\n",
              "1    The Ballad of Michael Valentine\n",
              "2          I Stand Corrected (Album)\n",
              "3              They Might Follow You\n",
              "4                         Monkey Man\n",
              "Name: title, dtype: object"
            ]
          },
          "metadata": {},
          "execution_count": 71
        }
      ],
      "source": [
        "# Creating the indices object\n",
        "indices = pd.Series(df_small_1.index)\n",
        "\n",
        "# Let us see the first 5 indices\n",
        "indices[:5]"
      ]
    },
    {
      "cell_type": "code",
      "execution_count": 54,
      "metadata": {
        "id": "9UINF3Nwvwfr",
        "colab": {
          "base_uri": "https://localhost:8080/"
        },
        "outputId": "ef29f59d-93f4-4995-c2e0-a0d8fb9af703"
      },
      "outputs": [
        {
          "output_type": "stream",
          "name": "stderr",
          "text": [
            "[nltk_data] Downloading package punkt to /root/nltk_data...\n",
            "[nltk_data]   Unzipping tokenizers/punkt.zip.\n",
            "[nltk_data] Downloading package stopwords to /root/nltk_data...\n",
            "[nltk_data]   Unzipping corpora/stopwords.zip.\n",
            "[nltk_data] Downloading package wordnet to /root/nltk_data...\n"
          ]
        }
      ],
      "source": [
        "# Importing necessary packages to work with text data\n",
        "import nltk\n",
        "\n",
        "# Download punkt library\n",
        "nltk.download(\"punkt\")\n",
        "\n",
        "# Download stopwords library\n",
        "nltk.download(\"stopwords\")\n",
        "\n",
        "# Download wordnet\n",
        "nltk.download(\"wordnet\")\n",
        "\n",
        "# Import regular expression\n",
        "import re\n",
        "\n",
        "# Import word_tokenizer\n",
        "from nltk import word_tokenize\n",
        "\n",
        "# Import WordNetLemmatizer\n",
        "from nltk.stem import WordNetLemmatizer\n",
        "\n",
        "# Import stopwords\n",
        "from nltk.corpus import stopwords\n",
        "\n",
        "# Import CountVectorizer and TfidfVectorizer\n",
        "from sklearn.feature_extraction.text import CountVectorizer, TfidfVectorizer"
      ]
    },
    {
      "cell_type": "markdown",
      "metadata": {
        "id": "Jt2vitlnhoEg"
      },
      "source": [
        "We will create a **function to pre-process the text data:**"
      ]
    },
    {
      "cell_type": "code",
      "execution_count": 72,
      "metadata": {
        "id": "j5QSSeUvR-F6"
      },
      "outputs": [],
      "source": [
        "# Function to tokenize the text\n",
        "def tokenize(text):\n",
        "\n",
        "    text = re.sub(r\"[^a-zA-Z]\",\" \", text.lower())\n",
        "\n",
        "    tokens = word_tokenize(text)\n",
        "\n",
        "    words = [word for word in tokens if word not in stopwords.words(\"english\")]  # Use stopwords of english\n",
        "\n",
        "    text_lems = [WordNetLemmatizer().lemmatize(lem).strip() for lem in words]\n",
        "\n",
        "    return text_lems\n"
      ]
    },
    {
      "cell_type": "code",
      "execution_count": 74,
      "metadata": {
        "id": "RI_onIGdR-F6"
      },
      "outputs": [],
      "source": [
        "# Create tfidf vectorizer\n",
        "\n",
        "# Fit_transfrom the above vectorizer on the text column and then convert the output into an array\n",
        "\n",
        "tfidf = TfidfVectorizer(tokenizer = tokenize)\n",
        "\n",
        "play_tfidf = tfidf.fit_transform(df_small_1['text'].values).toarray()\n"
      ]
    },
    {
      "cell_type": "code",
      "execution_count": 75,
      "metadata": {
        "id": "Beak6ODRR-F7",
        "colab": {
          "base_uri": "https://localhost:8080/"
        },
        "outputId": "4d5ce0f4-91cc-4fc4-fceb-5b62137bb2db"
      },
      "outputs": [
        {
          "output_type": "execute_result",
          "data": {
            "text/plain": [
              "array([[1., 0., 0., ..., 0., 0., 0.],\n",
              "       [0., 1., 0., ..., 0., 0., 0.],\n",
              "       [0., 0., 1., ..., 0., 0., 0.],\n",
              "       ...,\n",
              "       [0., 0., 0., ..., 1., 0., 0.],\n",
              "       [0., 0., 0., ..., 0., 1., 0.],\n",
              "       [0., 0., 0., ..., 0., 0., 1.]])"
            ]
          },
          "metadata": {},
          "execution_count": 75
        }
      ],
      "source": [
        "# Compute the cosine similarity for the tfidf above output\n",
        "similar_play = cosine_similarity(play_tfidf, play_tfidf)\n",
        "similar_play\n",
        "\n"
      ]
    },
    {
      "cell_type": "markdown",
      "metadata": {
        "id": "3Jjo3UHKhoEh"
      },
      "source": [
        " Finally, let's create a function to find most similar songs to recommend for a given song."
      ]
    },
    {
      "cell_type": "code",
      "execution_count": 78,
      "metadata": {
        "id": "upANOISkR-F8"
      },
      "outputs": [],
      "source": [
        "# Function that takes in song title as input and returns the top 10 recommended songs\n",
        "def recommendations(title, similar_songs):\n",
        "\n",
        "    recommended_songs = []\n",
        "\n",
        "    # Getting the index of the song that matches the title\n",
        "    idx = indices[indices == title].index[0]\n",
        "\n",
        "    # Creating a Series with the similarity scores in descending order\n",
        "    score_series = pd.Series(similar_songs[idx]).sort_values(ascending = False)\n",
        "\n",
        "    # Getting the indexes of the 10 most similar songs\n",
        "    top_10_indexes = list(score_series.iloc[1 : 11].index)\n",
        "    print(top_10_indexes)\n",
        "\n",
        "    # Populating the list with the titles of the best 10 matching songs\n",
        "    for i in top_10_indexes:\n",
        "        recommended_songs.append(list(df_small_1.index)[i])\n",
        "\n",
        "    return recommended_songs"
      ]
    },
    {
      "cell_type": "markdown",
      "metadata": {
        "id": "o4EINBmkR-F8"
      },
      "source": [
        "Recommending 10 songs similar to Learn to Fly"
      ]
    },
    {
      "cell_type": "code",
      "execution_count": 79,
      "metadata": {
        "id": "ohEK5dkVR-F8",
        "colab": {
          "base_uri": "https://localhost:8080/"
        },
        "outputId": "0ac22959-595a-4340-8234-e62d3f7094a3"
      },
      "outputs": [
        {
          "output_type": "stream",
          "name": "stdout",
          "text": [
            "[345, 423, 234, 509, 374, 370, 371, 372, 373, 376]\n"
          ]
        },
        {
          "output_type": "execute_result",
          "data": {
            "text/plain": [
              "['From Left To Right',\n",
              " 'Nothing Better (Album)',\n",
              " 'The Pretender',\n",
              " 'Everlong',\n",
              " 'Who Let You Go?',\n",
              " 'Under The Gun',\n",
              " 'I Need A Dollar',\n",
              " 'Feel The Love',\n",
              " 'All The Pretty Faces',\n",
              " \"Sam's Town\"]"
            ]
          },
          "metadata": {},
          "execution_count": 79
        }
      ],
      "source": [
        "# Make the recommendation for the song with title 'Learn To Fly'\n",
        "recommendations(\"Learn To Fly\", similar_play)\n"
      ]
    },
    {
      "cell_type": "markdown",
      "metadata": {
        "id": "UQ7iI5QJ0oem"
      },
      "source": [
        "**Observations and Insights:The above list of ten songs similar to the song 'Learn To Fly' based on the model**"
      ]
    },
    {
      "cell_type": "markdown",
      "metadata": {
        "id": "73367782"
      },
      "source": [
        "## **Conclusion and Recommendations**"
      ]
    },
    {
      "cell_type": "markdown",
      "source": [
        "**1. Comparison of various techniques and their relative performance based on chosen Metric (Measure of success)**:\n",
        "- How do different techniques perform? Which one is performing relatively better? Is there scope to improve the performance further?\n",
        "\n",
        "We performed models of various approaches such as based on user-user similarity, song-song similarity, collaborative filtering, svd (matrix factorization) content based similarity based on title, released and artist name.\n",
        "\n",
        "Among all the models, user-user similarity and svd optimized are performing the best. SVD has the best precision of about 0.415 and recall of about 0.635. However, the precision of user_user similarity (0.395) is very close to svd optimized and recall is much higher of about 0.665. Therefore, user-user similarity is the best performing model.\n",
        "\n",
        "There is scope for improvement because in the algorithms of param_grid (hyper parameter tuning) we have chosen specific values for the number of epochs and the different learning rates. However, we have not given the algorithm to check for range of hyper parameters. There could be other values of hyper parameters that could give better results."
      ],
      "metadata": {
        "id": "N5BT7Ocwqf5x"
      }
    },
    {
      "cell_type": "markdown",
      "source": [
        "**2. Refined insights**:\n",
        "- What are the most meaningful insights from the data relevant to the problem?\n",
        "\n",
        "In this case study, we built recommendation systems using different algorithms.\n",
        "\n",
        "For performance evaluation of these models precision and recall are introduced in this case study. Using these two metrics F_1 score is calculated for each working model."
      ],
      "metadata": {
        "id": "wjc6vTcoqp6v"
      }
    },
    {
      "cell_type": "markdown",
      "metadata": {
        "id": "hK6PMGUtoxVx"
      },
      "source": [
        "**3. Proposal for the final solution design:**\n",
        "- What model do you propose to be adopted? Why is this the best solution to adopt?\n",
        "\n",
        "Among all the models, user-user similarity and svd optimized are performing the best. SVD has the best precision of about 0.415 and recall of about 0.635. However, the precision of user_user similarity (0.395) is very close to svd optimized and recall is much higher of about 0.665. Therefore, user-user similarity is the best performing model."
      ]
    },
    {
      "cell_type": "code",
      "source": [],
      "metadata": {
        "id": "LVPMYwc5WnKO"
      },
      "execution_count": null,
      "outputs": []
    }
  ],
  "metadata": {
    "colab": {
      "provenance": []
    },
    "kernelspec": {
      "display_name": "Python 3 (ipykernel)",
      "language": "python",
      "name": "python3"
    },
    "language_info": {
      "codemirror_mode": {
        "name": "ipython",
        "version": 3
      },
      "file_extension": ".py",
      "mimetype": "text/x-python",
      "name": "python",
      "nbconvert_exporter": "python",
      "pygments_lexer": "ipython3",
      "version": "3.9.13"
    }
  },
  "nbformat": 4,
  "nbformat_minor": 0
}
